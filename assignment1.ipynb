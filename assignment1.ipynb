{
 "cells": [
  {
   "cell_type": "markdown",
   "id": "c902a82e",
   "metadata": {},
   "source": [
    "# PLN Assignment 1\n",
    "\n",
    "In the scope of the DARGMINTS project, an annotation project was carried out which consisted of annotating argumentation structures in opinion articles published in the Público newspaper. The annotation included several layers:\n",
    "\n",
    "Selecting text spans that are taken to have an argumentative role (either as premises or conclusions of arguments) -- these are Argumentative Discourse Units (ADU).\n",
    "Connecting such ADUs through support or attack relations.\n",
    "Classifying the propositional content of ADUs as propositions of fact, propositions of value, or propositions of policy; within propositions of value, distinguish between those with a positive (+) or negative (-) connotation.\n",
    "In a proposition of fact, the content corresponds to a piece of information that can be checked for truthness. This does not usually happen with propositions of value, which denote value judgments with a strong subjective nature; often, they also have a (positive or negative) polarity attached. A proposition of policy prescribes or suggests a certain line of action, often mentioning the agents or entities that are capable of carrying out such policies.\n",
    "\n",
    "The aim of this assignment is to build a classifier of types of ADUs, thus focusing on the last annotation step described above. For that, you have access to two different files:\n",
    "\n",
    "A file containing the content of each annotated ADU span and its 5-class classification: Value, Value(+), Value(-), Fact, or Policy. For each ADU, we also know the annotator and the document from which it has been taken.\n",
    "A file containing details for each opinion article that has been annotated, including the full article content.\n",
    "Besides ADU contents, you can make use of any contextual information provided in the corresponding opinion article.\n",
    "\n",
    "Each opinion article has been annotated by 3 different annotators. For that reason, you will find in the ADU file an indication of which annotator has obtained the ADU. It may happen that the same ADU has been annotated by more than one annotator. When that is the case, they do not necessarily agree on the type of proposition.\n",
    "\n",
    "How good a classifier (or set of classifiers) can you get? Don't forget to properly split the dataset in a sensible manner, so that you have a proper test set. Start by obtaining an arbitrary baseline, against which you can then compare your improvements.\n",
    "\n",
    "## Importing the data\n",
    "\n",
    "In order to fulfill this NLP task we will use `pandas`, `sklearn`, `nltk`, `numpy`, `matplotlib`, `seaborn` and other Python libraries\n"
   ]
  },
  {
   "cell_type": "code",
   "execution_count": 2,
   "id": "16d43f8a",
   "metadata": {},
   "outputs": [
    {
     "data": {
      "text/plain": [
       "False"
      ]
     },
     "execution_count": 2,
     "metadata": {},
     "output_type": "execute_result"
    }
   ],
   "source": [
    "import pandas as pd\n",
    "\n",
    "ADUs = pd.read_excel(\"data/OpArticles_ADUs.xlsx\")\n",
    "articles = pd.read_excel(\"data/OpArticles.xlsx\")\n",
    "\n",
    "ADUs.isnull().values.any() #check NaNs\n"
   ]
  },
  {
   "cell_type": "markdown",
   "id": "8b63c0e2",
   "metadata": {},
   "source": [
    "## Exploratory analysis\n",
    "Firstly (since the dataset does not contains NaN's or missing values), we need to determine the class distribution for this classification problem.\n",
    "Since we have a NLP classification task, it might also be relevant to do some text characterization."
   ]
  },
  {
   "cell_type": "code",
   "execution_count": 3,
   "id": "4eb1c7a0",
   "metadata": {},
   "outputs": [
    {
     "data": {
      "text/plain": [
       "Value       8102\n",
       "Fact        3663\n",
       "Value(-)    2900\n",
       "Value(+)    1411\n",
       "Policy       667\n",
       "Name: label, dtype: int64"
      ]
     },
     "execution_count": 3,
     "metadata": {},
     "output_type": "execute_result"
    }
   ],
   "source": [
    "ADUs[\"label\"].value_counts()"
   ]
  },
  {
   "cell_type": "code",
   "execution_count": 2,
   "id": "652994a9",
   "metadata": {},
   "outputs": [
    {
     "data": {
      "text/plain": [
       "(array([8102.,    0., 3663.,    0.,    0., 2900.,    0., 1411.,    0.,\n",
       "         667.]),\n",
       " array([0. , 0.4, 0.8, 1.2, 1.6, 2. , 2.4, 2.8, 3.2, 3.6, 4. ]),\n",
       " <BarContainer object of 10 artists>)"
      ]
     },
     "execution_count": 2,
     "metadata": {},
     "output_type": "execute_result"
    },
    {
     "data": {
      "image/png": "[encoded data removed]",
      "text/plain": [
       "<Figure size 460.8x403.2 with 1 Axes>"
      ]
     },
     "metadata": {},
     "output_type": "display_data"
    }
   ],
   "source": [
    "import matplotlib.pyplot as plt\n",
    "import seaborn as sb\n",
    "from jupyterthemes import jtplot\n",
    "\n",
    "jtplot.style(theme='onedork')\n",
    "plt.hist(ADUs[\"label\"])"
   ]
  },
  {
   "cell_type": "markdown",
   "id": "cd11d77d",
   "metadata": {},
   "source": [
    "Some text spans were annotated by more than one annotator. Therefore, it may be the case that some text spans have different labels, which may harm the training phase."
   ]
  },
  {
   "cell_type": "code",
   "execution_count": 14,
   "id": "2c25a260",
   "metadata": {},
   "outputs": [
    {
     "data": {
      "text/plain": [
       "<AxesSubplot:xlabel='annotator', ylabel='Count'>"
      ]
     },
     "execution_count": 14,
     "metadata": {},
     "output_type": "execute_result"
    },
    {
     "data": {
      "image/png": "[encoded data removed]",
      "text/plain": [
       "<Figure size 460.8x403.2 with 1 Axes>"
      ]
     },
     "metadata": {},
     "output_type": "display_data"
    }
   ],
   "source": [
    "sb.histplot(ADUs[\"annotator\"])"
   ]
  },
  {
   "cell_type": "markdown",
   "id": "4f1d6ba0",
   "metadata": {},
   "source": [
    "## Wordcloud per topic"
   ]
  },
  {
   "cell_type": "code",
   "execution_count": null,
   "id": "3a967e3d",
   "metadata": {},
   "outputs": [],
   "source": []
  },
  {
   "cell_type": "markdown",
   "id": "700f3983",
   "metadata": {},
   "source": [
    "# Wordcloud for the articles"
   ]
  },
  {
   "cell_type": "code",
   "execution_count": null,
   "id": "8d77c6f4",
   "metadata": {},
   "outputs": [],
   "source": []
  },
  {
   "cell_type": "code",
   "execution_count": 3,
   "id": "29de4c21",
   "metadata": {},
   "outputs": [
    {
     "data": {
      "text/plain": [
       "((12302,), (16743,))"
      ]
     },
     "execution_count": 3,
     "metadata": {},
     "output_type": "execute_result"
    }
   ],
   "source": [
    "import numpy as np\n",
    "\n",
    "unique_spans = np.unique(ADUs[['article_id', 'ranges']].values)\n",
    "(unique_spans.shape, ADUs[\"tokens\"].shape)"
   ]
  },
  {
   "cell_type": "markdown",
   "id": "5b72cd44",
   "metadata": {},
   "source": [
    "As we can see, more than 4000 text spans were evaluated by more than one annotator. Now let's check how many of these text spans receive different labels"
   ]
  },
  {
   "cell_type": "markdown",
   "id": "576b7531",
   "metadata": {},
   "source": [
    "## Data preparation\n",
    "\n",
    "The next step is to cleanup the dataset, applying text normalization techniques:\n",
    " - Removing non-alphabetic chars\n",
    " - Lowercasing\n",
    " - Removing stop words\n",
    " - Stemming/lemmatization\n",
    " \n",
    "However, before applying these techniques, let's try to remove the repeated annotations that may confuse the classifiers on the future steps. In order to decide which is the correct label for each (article_id, range) pair, we compute the majority."
   ]
  },
  {
   "cell_type": "code",
   "execution_count": 4,
   "id": "40f41968",
   "metadata": {},
   "outputs": [
    {
     "data": {
      "text/html": [
       "<div>\n",
       "<style scoped>\n",
       "    .dataframe tbody tr th:only-of-type {\n",
       "        vertical-align: middle;\n",
       "    }\n",
       "\n",
       "    .dataframe tbody tr th {\n",
       "        vertical-align: top;\n",
       "    }\n",
       "\n",
       "    .dataframe thead th {\n",
       "        text-align: right;\n",
       "    }\n",
       "</style>\n",
       "<table border=\"1\" class=\"dataframe\">\n",
       "  <thead>\n",
       "    <tr style=\"text-align: right;\">\n",
       "      <th></th>\n",
       "      <th>tokens</th>\n",
       "      <th>label</th>\n",
       "    </tr>\n",
       "  </thead>\n",
       "  <tbody>\n",
       "    <tr>\n",
       "      <th>0</th>\n",
       "      <td>presumo que essas partilhas tenham gerado um e...</td>\n",
       "      <td>Value</td>\n",
       "    </tr>\n",
       "    <tr>\n",
       "      <th>1</th>\n",
       "      <td>essas partilhas tenham gerado um efeito bola d...</td>\n",
       "      <td>Value</td>\n",
       "    </tr>\n",
       "    <tr>\n",
       "      <th>2</th>\n",
       "      <td>o post não tardou a chegar ao conhecimento da ...</td>\n",
       "      <td>Value</td>\n",
       "    </tr>\n",
       "    <tr>\n",
       "      <th>3</th>\n",
       "      <td>esta questão ter [justificadamente] despertado...</td>\n",
       "      <td>Value</td>\n",
       "    </tr>\n",
       "    <tr>\n",
       "      <th>4</th>\n",
       "      <td>a ocasião propicia um debate amplo na sociedad...</td>\n",
       "      <td>Value</td>\n",
       "    </tr>\n",
       "    <tr>\n",
       "      <th>...</th>\n",
       "      <td>...</td>\n",
       "      <td>...</td>\n",
       "    </tr>\n",
       "    <tr>\n",
       "      <th>12016</th>\n",
       "      <td>eticamente é reprovável</td>\n",
       "      <td>Value(-)</td>\n",
       "    </tr>\n",
       "    <tr>\n",
       "      <th>12017</th>\n",
       "      <td>eticamente é reprovável e, o bom senso, aconse...</td>\n",
       "      <td>Value</td>\n",
       "    </tr>\n",
       "    <tr>\n",
       "      <th>12018</th>\n",
       "      <td>o bom senso, aconselha a não o fazer</td>\n",
       "      <td>Value</td>\n",
       "    </tr>\n",
       "    <tr>\n",
       "      <th>12019</th>\n",
       "      <td>Um presidente de câmara pode ter a sua preferê...</td>\n",
       "      <td>Value</td>\n",
       "    </tr>\n",
       "    <tr>\n",
       "      <th>12020</th>\n",
       "      <td>abster-se de participar em órgãos sociais do s...</td>\n",
       "      <td>Policy</td>\n",
       "    </tr>\n",
       "  </tbody>\n",
       "</table>\n",
       "<p>12021 rows × 2 columns</p>\n",
       "</div>"
      ],
      "text/plain": [
       "                                                  tokens     label\n",
       "0      presumo que essas partilhas tenham gerado um e...     Value\n",
       "1      essas partilhas tenham gerado um efeito bola d...     Value\n",
       "2      o post não tardou a chegar ao conhecimento da ...     Value\n",
       "3      esta questão ter [justificadamente] despertado...     Value\n",
       "4      a ocasião propicia um debate amplo na sociedad...     Value\n",
       "...                                                  ...       ...\n",
       "12016                            eticamente é reprovável  Value(-)\n",
       "12017  eticamente é reprovável e, o bom senso, aconse...     Value\n",
       "12018               o bom senso, aconselha a não o fazer     Value\n",
       "12019  Um presidente de câmara pode ter a sua preferê...     Value\n",
       "12020  abster-se de participar em órgãos sociais do s...    Policy\n",
       "\n",
       "[12021 rows x 2 columns]"
      ]
     },
     "execution_count": 4,
     "metadata": {},
     "output_type": "execute_result"
    }
   ],
   "source": [
    "grouped_df = ADUs.groupby(by=['article_id', 'ranges'])\n",
    "dataset_dict = {\"tokens\": [], \"label\": []}\n",
    "\n",
    "for i, group in grouped_df:\n",
    "    dict_counts = {x: group[\"label\"].value_counts()[x] for x in np.unique(group[['label']].values)}\n",
    "    final_label = max(dict_counts.items(), key=lambda x: x[1])\n",
    "    dataset_dict[\"tokens\"].append(group[\"tokens\"].values[0])\n",
    "    dataset_dict[\"label\"].append(final_label[0])\n",
    "    \n",
    "dataset = pd.DataFrame(dataset_dict, columns = [\"tokens\", \"label\"])\n",
    "dataset\n"
   ]
  },
  {
   "cell_type": "code",
   "execution_count": 7,
   "id": "3c5fc298",
   "metadata": {
    "scrolled": true
   },
   "outputs": [
    {
     "name": "stdout",
     "output_type": "stream",
     "text": [
      "Value       8102\n",
      "Fact        3663\n",
      "Value(-)    2900\n",
      "Value(+)    1411\n",
      "Policy       667\n",
      "Name: label, dtype: int64\n"
     ]
    },
    {
     "data": {
      "text/plain": [
       "Value       5748\n",
       "Fact        3001\n",
       "Value(-)    1872\n",
       "Value(+)     889\n",
       "Policy       511\n",
       "Name: label, dtype: int64"
      ]
     },
     "execution_count": 7,
     "metadata": {},
     "output_type": "execute_result"
    }
   ],
   "source": [
    "print(ADUs[\"label\"].value_counts())\n",
    "dataset[\"label\"].value_counts()"
   ]
  },
  {
   "cell_type": "markdown",
   "id": "b1eb5ea7",
   "metadata": {},
   "source": [
    "We managed to reduce the amount of rows in the dataframe -> some of them had repeated/conflictuous labels. "
   ]
  },
  {
   "cell_type": "code",
   "execution_count": null,
   "id": "05330104",
   "metadata": {},
   "outputs": [],
   "source": [
    "import re\n",
    "from nltk.corpus import stopwords\n",
    "from nltk.stem import RSLPStemmer # portuguese stemmer\n",
    "corpus = []\n",
    "stemmer = RSLPStemmer()\n",
    "for i in range(0, dataset['tokens'].size):\n",
    "    # get review and remove non alpha chars\n",
    "    review = re.sub('[^a-zA-Z]', ' ', dataset['tokens'][i])\n",
    "    # to lower-case\n",
    "    review = review.lower()\n",
    "    # split into tokens, apply stemming and remove stop words\n",
    "    review = ' '.join([stemmer.stem(w) for w in review.split() if not w in set(stopwords.words('portuguese'))])\n",
    "    corpus.append(review)\n",
    "\n",
    "#print(corpus)"
   ]
  },
  {
   "cell_type": "markdown",
   "id": "20758d56",
   "metadata": {},
   "source": [
    "## POS-tagging"
   ]
  },
  {
   "cell_type": "code",
   "execution_count": null,
   "id": "fc342396",
   "metadata": {},
   "outputs": [],
   "source": []
  },
  {
   "cell_type": "markdown",
   "id": "8d472904",
   "metadata": {},
   "source": [
    "## Generating a data set\n",
    "\n",
    "We need to transform the corpus into a collection that can be handled by a machine learning model. We will be using `sklearn`'s TfidfVectorizer class"
   ]
  },
  {
   "cell_type": "code",
   "execution_count": 6,
   "id": "38e087a6",
   "metadata": {},
   "outputs": [
    {
     "name": "stdout",
     "output_type": "stream",
     "text": [
      "(12021, 22637)\n"
     ]
    },
    {
     "data": {
      "text/plain": [
       "array([[0., 0., 0., ..., 0., 0., 0.],\n",
       "       [0., 0., 0., ..., 0., 0., 0.],\n",
       "       [0., 0., 0., ..., 0., 0., 0.],\n",
       "       ...,\n",
       "       [0., 0., 0., ..., 0., 0., 0.],\n",
       "       [0., 0., 0., ..., 0., 0., 0.],\n",
       "       [0., 0., 0., ..., 0., 0., 0.]])"
      ]
     },
     "execution_count": 6,
     "metadata": {},
     "output_type": "execute_result"
    }
   ],
   "source": [
    "from sklearn.feature_extraction.text import TfidfVectorizer\n",
    "\n",
    "#set max_features = 10000 to select k features with the highest corpus frequency\n",
    "vectorizer = TfidfVectorizer(ngram_range=(1,2), min_df = 2)\n",
    "X = vectorizer.fit_transform(corpus).toarray()\n",
    "\n",
    "print(X.shape)\n",
    "X"
   ]
  },
  {
   "cell_type": "code",
   "execution_count": null,
   "id": "31bb571b",
   "metadata": {},
   "outputs": [],
   "source": [
    "print(vectorizer.get_feature_names())"
   ]
  },
  {
   "cell_type": "code",
   "execution_count": 8,
   "id": "8569b63d",
   "metadata": {},
   "outputs": [
    {
     "name": "stdout",
     "output_type": "stream",
     "text": [
      "(12021,)\n",
      "0    Value\n",
      "1    Value\n",
      "2    Value\n",
      "3    Value\n",
      "4    Value\n",
      "Name: label, dtype: object\n"
     ]
    }
   ],
   "source": [
    "y = dataset[\"label\"]\n",
    "print(y.shape)\n",
    "print(y.head())"
   ]
  },
  {
   "cell_type": "markdown",
   "id": "67d10ef4",
   "metadata": {},
   "source": [
    "## Splitting the dataset into training and testing\n",
    "\n",
    "The next step is to split the dataset into training and testing. We will be using a 80%-20% split. Since classes are unbalanced (*Value* examples are significantly more abundant than *Policy* examples), we need to stratify both sets -> try to get a similar class distribution for each set."
   ]
  },
  {
   "cell_type": "code",
   "execution_count": null,
   "id": "89bcae36",
   "metadata": {},
   "outputs": [],
   "source": [
    "from sklearn.model_selection import train_test_split\n",
    "\n",
    "X_train, X_test, y_train, y_test = train_test_split(X, y, test_size = 0.20)\n",
    "\n",
    "print(X_train.shape, y_train.shape)\n",
    "print(X_test.shape, y_test.shape)\n",
    "\n",
    "print(\"\\nLabel distribution in the training set:\")\n",
    "print(y_train.value_counts())\n",
    "\n",
    "print(\"\\nLabel distribution in the test set:\")\n",
    "print(y_test.value_counts())"
   ]
  },
  {
   "cell_type": "code",
   "execution_count": 21,
   "id": "cdbe44ca",
   "metadata": {},
   "outputs": [
    {
     "data": {
      "text/plain": [
       "(9616, 8667)"
      ]
     },
     "execution_count": 21,
     "metadata": {},
     "output_type": "execute_result"
    }
   ],
   "source": [
    "from sklearn.feature_selection import SelectKBest, chi2\n",
    "\n",
    "n_features = 5000\n",
    "\n",
    "#X_new = SelectKBest(chi2, k=n_features).fit_transform(X, y)\n",
    "X_train, X_test, y_train, y_test = train_test_split(X, y, test_size = 0.20)\n",
    "X_train.shape"
   ]
  },
  {
   "cell_type": "markdown",
   "id": "cea4a57b",
   "metadata": {},
   "source": [
    "## Training the models\n"
   ]
  },
  {
   "cell_type": "markdown",
   "id": "b7927013",
   "metadata": {},
   "source": [
    "### Naive Bayes\n",
    "To start off, we will train a single (`Naive Bayes`) classifier that evaluates the likelihood of a document being of one of the 5 classes. This will set the baseline for which the improvements will be measured.\n"
   ]
  },
  {
   "cell_type": "code",
   "execution_count": 17,
   "id": "50bd3bf2",
   "metadata": {},
   "outputs": [],
   "source": [
    "from sklearn.naive_bayes import MultinomialNB\n",
    "\n",
    "clf = MultinomialNB()\n",
    "clf.fit(X_train, y_train)\n",
    "\n",
    "y_pred = clf.predict(X_test)"
   ]
  },
  {
   "cell_type": "code",
   "execution_count": 18,
   "id": "7785f776",
   "metadata": {},
   "outputs": [
    {
     "name": "stdout",
     "output_type": "stream",
     "text": [
      "Accuracy score:  0.49480249480249483\n"
     ]
    },
    {
     "name": "stderr",
     "output_type": "stream",
     "text": [
      "C:\\Users\\caion\\anaconda3\\lib\\site-packages\\sklearn\\metrics\\_classification.py:1308: UndefinedMetricWarning: Precision is ill-defined and being set to 0.0 in labels with no predicted samples. Use `zero_division` parameter to control this behavior.\n",
      "  _warn_prf(average, modifier, msg_start, len(result))\n"
     ]
    },
    {
     "data": {
      "image/png": "[encoded data removed]",
      "text/plain": [
       "<Figure size 460.8x403.2 with 2 Axes>"
      ]
     },
     "metadata": {},
     "output_type": "display_data"
    },
    {
     "data": {
      "text/html": [
       "<div>\n",
       "<style scoped>\n",
       "    .dataframe tbody tr th:only-of-type {\n",
       "        vertical-align: middle;\n",
       "    }\n",
       "\n",
       "    .dataframe tbody tr th {\n",
       "        vertical-align: top;\n",
       "    }\n",
       "\n",
       "    .dataframe thead th {\n",
       "        text-align: right;\n",
       "    }\n",
       "</style>\n",
       "<table border=\"1\" class=\"dataframe\">\n",
       "  <thead>\n",
       "    <tr style=\"text-align: right;\">\n",
       "      <th></th>\n",
       "      <th>Precision</th>\n",
       "      <th>Recall</th>\n",
       "      <th>F1</th>\n",
       "    </tr>\n",
       "  </thead>\n",
       "  <tbody>\n",
       "    <tr>\n",
       "      <th>Fact</th>\n",
       "      <td>0.562963</td>\n",
       "      <td>0.126036</td>\n",
       "      <td>0.205962</td>\n",
       "    </tr>\n",
       "    <tr>\n",
       "      <th>Policy</th>\n",
       "      <td>0.000000</td>\n",
       "      <td>0.000000</td>\n",
       "      <td>0.000000</td>\n",
       "    </tr>\n",
       "    <tr>\n",
       "      <th>Value</th>\n",
       "      <td>0.489841</td>\n",
       "      <td>0.965187</td>\n",
       "      <td>0.649868</td>\n",
       "    </tr>\n",
       "    <tr>\n",
       "      <th>Value(+)</th>\n",
       "      <td>0.000000</td>\n",
       "      <td>0.000000</td>\n",
       "      <td>0.000000</td>\n",
       "    </tr>\n",
       "    <tr>\n",
       "      <th>Value(-)</th>\n",
       "      <td>0.833333</td>\n",
       "      <td>0.013055</td>\n",
       "      <td>0.025707</td>\n",
       "    </tr>\n",
       "  </tbody>\n",
       "</table>\n",
       "</div>"
      ],
      "text/plain": [
       "          Precision    Recall        F1\n",
       "Fact       0.562963  0.126036  0.205962\n",
       "Policy     0.000000  0.000000  0.000000\n",
       "Value      0.489841  0.965187  0.649868\n",
       "Value(+)   0.000000  0.000000  0.000000\n",
       "Value(-)   0.833333  0.013055  0.025707"
      ]
     },
     "execution_count": 18,
     "metadata": {},
     "output_type": "execute_result"
    }
   ],
   "source": [
    "from sklearn.metrics import confusion_matrix, ConfusionMatrixDisplay\n",
    "from sklearn.metrics import accuracy_score\n",
    "from sklearn.metrics import precision_score\n",
    "from sklearn.metrics import recall_score\n",
    "from sklearn.metrics import f1_score\n",
    "\n",
    "def print_metrics(y_test, y_pred, classes):\n",
    "    cm = confusion_matrix(y_test, y_pred, labels = clf.classes_)\n",
    "    disp = ConfusionMatrixDisplay(confusion_matrix=cm, display_labels=clf.classes_)\n",
    "    disp.plot()\n",
    "    print(\"Accuracy score: \", accuracy_score(y_test, y_pred))\n",
    "    metrics_df = pd.DataFrame({\"Precision\": precision_score(y_test, y_pred, labels = classes, average = None).tolist(),\n",
    "                              \"Recall\": recall_score(y_test, y_pred, labels = classes, average = None).tolist(),\n",
    "                              \"F1\": f1_score(y_test, y_pred, labels = classes, average = None).tolist()},\n",
    "                             index = classes)\n",
    "    \n",
    "    plt.show()\n",
    "    return metrics_df.head()\n",
    "    \n",
    "print_metrics(y_test, y_pred, clf.classes_)"
   ]
  },
  {
   "cell_type": "markdown",
   "id": "65a15889",
   "metadata": {},
   "source": [
    "Since some classifiers like SVM and Logistic Regression cannot handle multi-class classification, let's use the One vs Rest classifier. This way, we can transform this problem into a binary classification problem -> one classifier for each class."
   ]
  },
  {
   "cell_type": "code",
   "execution_count": null,
   "id": "1855c726",
   "metadata": {},
   "outputs": [],
   "source": [
    "from sklearn.multiclass import OneVsRestClassifier\n",
    "from sklearn.model_selection import GridSearchCV\n",
    "from sklearn.ensemble import RandomForestClassifier\n",
    "\n",
    "model_to_set = RandomForestClassifier(n_jobs=-1, max_samples=0.25,\n",
    "                                     max_depth=50)\n",
    "\n",
    "parameters = {\n",
    "    \"max_depth\": [int(x) for x in np.linspace(10, 110, num=5)],\n",
    "    \"min_samples_leaf\": [int(x) for x in np.linspace(50, 2000, num=5)],\n",
    "    \"criterion\": [\"gini\", \"entropy\"]\n",
    "}\n",
    "\n",
    "model_tunning = GridSearchCV(model_to_set, param_grid=parameters,\n",
    "                             scoring=\"roc_auc_ovr\", cv=5, n_jobs=-1, verbose=1)\n",
    "\n",
    "model_tunning.fit(X_train, y_train)\n",
    "model_tunning.best_score_\n",
    "\n"
   ]
  },
  {
   "cell_type": "markdown",
   "id": "46f104a2",
   "metadata": {},
   "source": [
    "## Scaling the data\n",
    "\n",
    "Some linear models (like SVM or SGD classifiers) use euclidean distances and benefit from the normalization of the data."
   ]
  },
  {
   "cell_type": "code",
   "execution_count": 14,
   "id": "19f11b49",
   "metadata": {},
   "outputs": [],
   "source": [
    "from sklearn.preprocessing import StandardScaler\n",
    "\n",
    "scaler = StandardScaler()\n",
    "scaler.fit(X_train)\n",
    "X_train = scaler.transform(X_train)\n",
    "X_test = scaler.transform(X_test)"
   ]
  },
  {
   "cell_type": "markdown",
   "id": "b2e806e7",
   "metadata": {},
   "source": [
    "## SGD Classifier\n",
    "\n",
    "Let's now apply the Stochastic Gradient Descent optimization with a linear SVM model (`loss='hinge'`) and a Logistic Regression model (`loss=log`). Moreover, we can tune some hyperparameters to get the best possible model.\n",
    "SGD implementation from sklearn optimizes the loss function to converge faster, as they use stochastic gradient descent instead of gradient descent."
   ]
  },
  {
   "cell_type": "code",
   "execution_count": 15,
   "id": "81cf1d9a",
   "metadata": {
    "scrolled": true
   },
   "outputs": [
    {
     "name": "stdout",
     "output_type": "stream",
     "text": [
      "Fitting 5 folds for each of 6 candidates, totalling 30 fits\n"
     ]
    },
    {
     "name": "stderr",
     "output_type": "stream",
     "text": [
      "C:\\Users\\caion\\anaconda3\\lib\\site-packages\\sklearn\\linear_model\\_stochastic_gradient.py:696: ConvergenceWarning: Maximum number of iteration reached before convergence. Consider increasing max_iter to improve the fit.\n",
      "  warnings.warn(\n"
     ]
    },
    {
     "name": "stdout",
     "output_type": "stream",
     "text": [
      "{'alpha': 0.001, 'loss': 'log'}\n",
      "Accuracy score:  0.49272349272349275\n"
     ]
    },
    {
     "data": {
      "image/png": "[encoded data removed]",
      "text/plain": [
       "<Figure size 460.8x403.2 with 2 Axes>"
      ]
     },
     "metadata": {},
     "output_type": "display_data"
    },
    {
     "data": {
      "text/html": [
       "<div>\n",
       "<style scoped>\n",
       "    .dataframe tbody tr th:only-of-type {\n",
       "        vertical-align: middle;\n",
       "    }\n",
       "\n",
       "    .dataframe tbody tr th {\n",
       "        vertical-align: top;\n",
       "    }\n",
       "\n",
       "    .dataframe thead th {\n",
       "        text-align: right;\n",
       "    }\n",
       "</style>\n",
       "<table border=\"1\" class=\"dataframe\">\n",
       "  <thead>\n",
       "    <tr style=\"text-align: right;\">\n",
       "      <th></th>\n",
       "      <th>Precision</th>\n",
       "      <th>Recall</th>\n",
       "      <th>F1</th>\n",
       "    </tr>\n",
       "  </thead>\n",
       "  <tbody>\n",
       "    <tr>\n",
       "      <th>Fact</th>\n",
       "      <td>0.433908</td>\n",
       "      <td>0.240064</td>\n",
       "      <td>0.309110</td>\n",
       "    </tr>\n",
       "    <tr>\n",
       "      <th>Policy</th>\n",
       "      <td>0.692308</td>\n",
       "      <td>0.169811</td>\n",
       "      <td>0.272727</td>\n",
       "    </tr>\n",
       "    <tr>\n",
       "      <th>Value</th>\n",
       "      <td>0.502157</td>\n",
       "      <td>0.826821</td>\n",
       "      <td>0.624832</td>\n",
       "    </tr>\n",
       "    <tr>\n",
       "      <th>Value(+)</th>\n",
       "      <td>0.333333</td>\n",
       "      <td>0.068182</td>\n",
       "      <td>0.113208</td>\n",
       "    </tr>\n",
       "    <tr>\n",
       "      <th>Value(-)</th>\n",
       "      <td>0.517730</td>\n",
       "      <td>0.198370</td>\n",
       "      <td>0.286837</td>\n",
       "    </tr>\n",
       "  </tbody>\n",
       "</table>\n",
       "</div>"
      ],
      "text/plain": [
       "          Precision    Recall        F1\n",
       "Fact       0.433908  0.240064  0.309110\n",
       "Policy     0.692308  0.169811  0.272727\n",
       "Value      0.502157  0.826821  0.624832\n",
       "Value(+)   0.333333  0.068182  0.113208\n",
       "Value(-)   0.517730  0.198370  0.286837"
      ]
     },
     "execution_count": 15,
     "metadata": {},
     "output_type": "execute_result"
    }
   ],
   "source": [
    "from sklearn.linear_model import SGDClassifier\n",
    "from sklearn.model_selection import GridSearchCV\n",
    "\n",
    "\"\"\"\n",
    "l1-regularization -> 'built-in' feature selection (fewer features)\n",
    "l2-regularization -> Prefers weight vectors with many small weights\n",
    "\"\"\"\n",
    "\n",
    "max_iterations = 10**6/np.ceil(X_train.shape[0] / 10) #Empirically,the model converges after 10^6/n where n \n",
    "                                        # the size of the test set\n",
    "\n",
    "sgd_model = SGDClassifier(penalty=\"l2\", \n",
    "                          max_iter=np.ceil(max_iterations/10), average=True)\n",
    "sgd_gs = GridSearchCV(sgd_model, n_jobs=-1, param_grid={\n",
    "    \"alpha\": 10.0**-np.arange(1,5),\n",
    "    \"loss\": ['log', 'modified_huber']\n",
    "}, cv=5, scoring=\"f1_weighted\", verbose = 1)\n",
    "\n",
    "sgd_gs.fit(X_train, y_train)\n",
    "#sgd_gs.best_score_\n",
    "print(sgd_gs.best_params_)\n",
    "print_metrics(y_test, sgd_gs.predict(X_test), sgd_gs.classes_)"
   ]
  },
  {
   "cell_type": "code",
   "execution_count": null,
   "id": "1c7caa0b",
   "metadata": {},
   "outputs": [],
   "source": [
    "# Linear SVM model -> loss = 'hinge'\n",
    "\n",
    "sgd_classifier = SGDClassifier(n_jobs=-1, penalty=\"l2\", verbose = 1, shuffle=True, \n",
    "                               loss=\"hinge\", max_iter=max_iterations)\n",
    "\n",
    "sgd_classifier.fit(X_train, y_train)\n",
    "print_metrics(y_test, sgd_classifier.predict(X_test), sgd_classifier.classes_)"
   ]
  },
  {
   "cell_type": "markdown",
   "id": "64e3ef22",
   "metadata": {},
   "source": [
    "## Linear SVM Classifier\n",
    "To establish a comparison in terms of performance, we will use the Linear SVM classifier.\n"
   ]
  },
  {
   "cell_type": "code",
   "execution_count": 26,
   "id": "bbfcdd41",
   "metadata": {
    "scrolled": true
   },
   "outputs": [
    {
     "name": "stdout",
     "output_type": "stream",
     "text": [
      "n_iterations: 2\n",
      "n_required_iterations: 2\n",
      "n_possible_iterations: 2\n",
      "min_resources_: 3205\n",
      "max_resources_: 9616\n",
      "aggressive_elimination: False\n",
      "factor: 3\n",
      "----------\n",
      "iter: 0\n",
      "n_candidates: 8\n",
      "n_resources: 3205\n",
      "Fitting 5 folds for each of 8 candidates, totalling 40 fits\n",
      "----------\n",
      "iter: 1\n",
      "n_candidates: 3\n",
      "n_resources: 9615\n",
      "Fitting 5 folds for each of 3 candidates, totalling 15 fits\n",
      "[LibLinear]Accuracy score:  0.46902286902286905\n"
     ]
    },
    {
     "data": {
      "image/png": "[encoded data removed]",
      "text/plain": [
       "<Figure size 460.8x403.2 with 2 Axes>"
      ]
     },
     "metadata": {},
     "output_type": "display_data"
    },
    {
     "data": {
      "text/html": [
       "<div>\n",
       "<style scoped>\n",
       "    .dataframe tbody tr th:only-of-type {\n",
       "        vertical-align: middle;\n",
       "    }\n",
       "\n",
       "    .dataframe tbody tr th {\n",
       "        vertical-align: top;\n",
       "    }\n",
       "\n",
       "    .dataframe thead th {\n",
       "        text-align: right;\n",
       "    }\n",
       "</style>\n",
       "<table border=\"1\" class=\"dataframe\">\n",
       "  <thead>\n",
       "    <tr style=\"text-align: right;\">\n",
       "      <th></th>\n",
       "      <th>Precision</th>\n",
       "      <th>Recall</th>\n",
       "      <th>F1</th>\n",
       "    </tr>\n",
       "  </thead>\n",
       "  <tbody>\n",
       "    <tr>\n",
       "      <th>Fact</th>\n",
       "      <td>0.410214</td>\n",
       "      <td>0.412935</td>\n",
       "      <td>0.411570</td>\n",
       "    </tr>\n",
       "    <tr>\n",
       "      <th>Policy</th>\n",
       "      <td>0.358974</td>\n",
       "      <td>0.471910</td>\n",
       "      <td>0.407767</td>\n",
       "    </tr>\n",
       "    <tr>\n",
       "      <th>Value</th>\n",
       "      <td>0.564559</td>\n",
       "      <td>0.551784</td>\n",
       "      <td>0.558099</td>\n",
       "    </tr>\n",
       "    <tr>\n",
       "      <th>Value(+)</th>\n",
       "      <td>0.294118</td>\n",
       "      <td>0.276243</td>\n",
       "      <td>0.284900</td>\n",
       "    </tr>\n",
       "    <tr>\n",
       "      <th>Value(-)</th>\n",
       "      <td>0.394330</td>\n",
       "      <td>0.399478</td>\n",
       "      <td>0.396887</td>\n",
       "    </tr>\n",
       "  </tbody>\n",
       "</table>\n",
       "</div>"
      ],
      "text/plain": [
       "          Precision    Recall        F1\n",
       "Fact       0.410214  0.412935  0.411570\n",
       "Policy     0.358974  0.471910  0.407767\n",
       "Value      0.564559  0.551784  0.558099\n",
       "Value(+)   0.294118  0.276243  0.284900\n",
       "Value(-)   0.394330  0.399478  0.396887"
      ]
     },
     "execution_count": 26,
     "metadata": {},
     "output_type": "execute_result"
    }
   ],
   "source": [
    "from sklearn.experimental import enable_halving_search_cv\n",
    "from sklearn.model_selection import HalvingGridSearchCV\n",
    "from sklearn.svm import LinearSVC\n",
    "\n",
    "\n",
    "svm_model = LinearSVC(class_weight=\"balanced\", verbose=1)\n",
    "\n",
    "svm_gs = HalvingGridSearchCV(svm_model, n_jobs=-1, param_grid = {\n",
    "    \"C\": [1,2,5,10],\n",
    "    \"loss\": [\"hinge\", \"squared_hinge\"]\n",
    "}, cv=5, scoring=\"f1_weighted\", verbose=3)\n",
    "\n",
    "svm_gs.fit(X_train, y_train)\n",
    "print_metrics(y_test, svm_gs.predict(X_test), svm_gs.classes_)"
   ]
  },
  {
   "cell_type": "markdown",
   "id": "fe151ab2",
   "metadata": {},
   "source": [
    "## Logistic Regression Classifier\n",
    "We can now do the same apply the Logistic Regression classifier and compare it with the previously obtained models with SGD optimization.\n"
   ]
  }
 ],
 "metadata": {
  "kernelspec": {
   "display_name": "Python 3",
   "language": "python",
   "name": "python3"
  },
  "language_info": {
   "codemirror_mode": {
    "name": "ipython",
    "version": 3
   },
   "file_extension": ".py",
   "mimetype": "text/x-python",
   "name": "python",
   "nbconvert_exporter": "python",
   "pygments_lexer": "ipython3",
   "version": "3.8.8"
  }
 },
 "nbformat": 4,
 "nbformat_minor": 5
}
