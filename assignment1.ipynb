{
  "cells": [
    {
      "cell_type": "markdown",
      "id": "c902a82e",
      "metadata": {
        "id": "c902a82e"
      },
      "source": [
        "# PLN Assignment 1\n",
        "\n",
        "In the scope of the DARGMINTS project, an annotation project was carried out which consisted of annotating argumentation structures in opinion articles published in the Público newspaper. The annotation included several layers:\n",
        "\n",
        "Selecting text spans that are taken to have an argumentative role (either as premises or conclusions of arguments) -- these are Argumentative Discourse Units (ADU).\n",
        "Connecting such ADUs through support or attack relations.\n",
        "Classifying the propositional content of ADUs as propositions of fact, propositions of value, or propositions of policy; within propositions of value, distinguish between those with a positive (+) or negative (-) connotation.\n",
        "In a proposition of fact, the content corresponds to a piece of information that can be checked for truthness. This does not usually happen with propositions of value, which denote value judgments with a strong subjective nature; often, they also have a (positive or negative) polarity attached. A proposition of policy prescribes or suggests a certain line of action, often mentioning the agents or entities that are capable of carrying out such policies.\n",
        "\n",
        "The aim of this assignment is to build a classifier of types of ADUs, thus focusing on the last annotation step described above. For that, you have access to two different files:\n",
        "\n",
        "A file containing the content of each annotated ADU span and its 5-class classification: Value, Value(+), Value(-), Fact, or Policy. For each ADU, we also know the annotator and the document from which it has been taken.\n",
        "A file containing details for each opinion article that has been annotated, including the full article content.\n",
        "Besides ADU contents, you can make use of any contextual information provided in the corresponding opinion article.\n",
        "\n",
        "Each opinion article has been annotated by 3 different annotators. For that reason, you will find in the ADU file an indication of which annotator has obtained the ADU. It may happen that the same ADU has been annotated by more than one annotator. When that is the case, they do not necessarily agree on the type of proposition.\n",
        "\n",
        "How good a classifier (or set of classifiers) can you get? Don't forget to properly split the dataset in a sensible manner, so that you have a proper test set. Start by obtaining an arbitrary baseline, against which you can then compare your improvements.\n",
        "\n",
        "## Importing the data\n",
        "\n",
        "In order to fulfill this NLP task we will use `pandas`, `sklearn`, `nltk`, `numpy`, `matplotlib`, `seaborn` and other Python libraries\n"
      ]
    },
    {
      "cell_type": "code",
      "execution_count": 6,
      "id": "iEQIK6AV3ieB",
      "metadata": {
        "colab": {
          "base_uri": "https://localhost:8080/"
        },
        "id": "iEQIK6AV3ieB",
        "outputId": "62ff533a-c0cc-4c4e-db5c-a4a2da8e0529"
      },
      "outputs": [
        {
          "output_type": "stream",
          "name": "stdout",
          "text": [
            "/content/FEUP-PLN\n"
          ]
        }
      ],
      "source": [
        ""
      ]
    },
    {
      "cell_type": "code",
      "execution_count": null,
      "id": "16d43f8a",
      "metadata": {
        "colab": {
          "base_uri": "https://localhost:8080/"
        },
        "id": "16d43f8a",
        "outputId": "cc0dd42c-0f36-4271-ab83-d2750ac079c8"
      },
      "outputs": [
        {
          "output_type": "execute_result",
          "data": {
            "text/plain": [
              "False"
            ]
          },
          "metadata": {},
          "execution_count": 5
        }
      ],
      "source": [
        "import pandas as pd\n",
        "import numpy as np\n",
        "\n",
        "ADUs = pd.read_excel(\"data/OpArticles_ADUs.xlsx\")\n",
        "articles = pd.read_excel(\"data/OpArticles.xlsx\")\n",
        "\n",
        "ADUs.isnull().values.any() #check NaNs\n"
      ]
    },
    {
      "cell_type": "code",
      "execution_count": null,
      "id": "4eb1c7a0",
      "metadata": {
        "colab": {
          "base_uri": "https://localhost:8080/"
        },
        "id": "4eb1c7a0",
        "outputId": "9c6bc3d3-b23e-440b-b1f9-faf2d8ad317c"
      },
      "outputs": [
        {
          "data": {
            "text/plain": [
              "Value       8102\n",
              "Fact        3663\n",
              "Value(-)    2900\n",
              "Value(+)    1411\n",
              "Policy       667\n",
              "Name: label, dtype: int64"
            ]
          },
          "execution_count": 9,
          "metadata": {},
          "output_type": "execute_result"
        }
      ],
      "source": [
        "ADUs[\"label\"].value_counts()"
      ]
    },
    {
      "cell_type": "markdown",
      "id": "cd11d77d",
      "metadata": {
        "id": "cd11d77d"
      },
      "source": [
        "## Handling repeated text spans\n",
        "\n",
        "Some text spans were annotated by more than one annotator. Therefore, it may be the case that some text spans have different labels, which may harm the training phase."
      ]
    },
    {
      "cell_type": "code",
      "execution_count": null,
      "id": "29de4c21",
      "metadata": {
        "colab": {
          "base_uri": "https://localhost:8080/"
        },
        "id": "29de4c21",
        "outputId": "8d7fb9a4-d5ac-4a2e-f4f5-3f1d1def0d86"
      },
      "outputs": [
        {
          "data": {
            "text/plain": [
              "((12302,), (16743,))"
            ]
          },
          "execution_count": 13,
          "metadata": {},
          "output_type": "execute_result"
        }
      ],
      "source": [
        "\n",
        "unique_spans = np.unique(ADUs[['article_id', 'ranges']].values)\n",
        "(unique_spans.shape, ADUs[\"tokens\"].shape)"
      ]
    },
    {
      "cell_type": "markdown",
      "id": "5b72cd44",
      "metadata": {
        "id": "5b72cd44"
      },
      "source": [
        "As we can see, more than 4000 text spans were evaluated by more than one annotator. Now let's check how many of these text spans receive different labels"
      ]
    },
    {
      "cell_type": "markdown",
      "id": "576b7531",
      "metadata": {
        "id": "576b7531"
      },
      "source": [
        "## Data preparation\n",
        "\n",
        "The next step is to cleanup the dataset, applying text normalization techniques:\n",
        " - Removing non-alphabetic chars\n",
        " - Lowercasing\n",
        " - Removing stop words\n",
        " - Stemming/lemmatization\n",
        " \n",
        "However, before applying these techniques, let's try to remove the repeated annotations that may confuse the classifiers on the future steps. In order to decide which is the correct label for each (article_id, range) pair, we compute the majority."
      ]
    },
    {
      "cell_type": "code",
      "execution_count": null,
      "id": "40f41968",
      "metadata": {
        "id": "40f41968"
      },
      "outputs": [],
      "source": [
        "grouped_df = ADUs.groupby(by=['article_id', 'ranges'])\n",
        "dataset_dict = {\"tokens\": [], \"label\": []}\n",
        "\n",
        "for i, group in grouped_df:\n",
        "    dict_counts = {x: group[\"label\"].value_counts()[x] for x in np.unique(group[['label']].values)}\n",
        "    final_label = max(dict_counts.items(), key=lambda x: x[1])\n",
        "    dataset_dict[\"tokens\"].append(group[\"tokens\"].values[0])\n",
        "    dataset_dict[\"label\"].append(final_label[0])\n",
        "    \n",
        "dataset = pd.DataFrame(dataset_dict, columns = [\"tokens\", \"label\"])\n",
        "\n"
      ]
    },
    {
      "cell_type": "code",
      "execution_count": null,
      "id": "3c5fc298",
      "metadata": {
        "id": "3c5fc298",
        "outputId": "2f9e1e1e-8711-444b-9a65-21cee635bc31",
        "scrolled": true
      },
      "outputs": [
        {
          "name": "stdout",
          "output_type": "stream",
          "text": [
            "Value       8102\n",
            "Fact        3663\n",
            "Value(-)    2900\n",
            "Value(+)    1411\n",
            "Policy       667\n",
            "Name: label, dtype: int64\n"
          ]
        },
        {
          "data": {
            "text/plain": [
              "Value       5748\n",
              "Fact        3001\n",
              "Value(-)    1872\n",
              "Value(+)     889\n",
              "Policy       511\n",
              "Name: label, dtype: int64"
            ]
          },
          "execution_count": 7,
          "metadata": {},
          "output_type": "execute_result"
        }
      ],
      "source": [
        "print(ADUs[\"label\"].value_counts())\n",
        "dataset[\"label\"].value_counts()"
      ]
    },
    {
      "cell_type": "markdown",
      "id": "b1eb5ea7",
      "metadata": {
        "id": "b1eb5ea7"
      },
      "source": [
        "We managed to reduce the amount of rows in the dataframe -> some of them had repeated/conflictuous labels. "
      ]
    },
    {
      "cell_type": "code",
      "execution_count": null,
      "id": "EKfXa4aa6-1_",
      "metadata": {
        "id": "EKfXa4aa6-1_"
      },
      "outputs": [],
      "source": [
        "!python -m spacy download pt_core_news_sm"
      ]
    },
    {
      "cell_type": "code",
      "execution_count": 57,
      "id": "JcZrVjyO6rGf",
      "metadata": {
        "id": "JcZrVjyO6rGf",
        "colab": {
          "base_uri": "https://localhost:8080/"
        },
        "outputId": "063da04f-ae06-4074-a86f-e881124882d5"
      },
      "outputs": [
        {
          "output_type": "stream",
          "name": "stdout",
          "text": [
            "  SPACE   \n",
            "atingiram VERB ROOT atingir\n",
            "picos NOUN obj pico\n",
            "históricos ADJ amod histórico\n",
            "na PROPN ROOT o\n",
            "passada VERB acl passar\n",
            "sexta-feira NOUN nmod sexta-feira\n",
            ". PUNCT punct .\n"
          ]
        }
      ],
      "source": [
        "import spacy\n",
        "from spacy.lang.pt.examples import sentences \n",
        "import pt_core_news_sm\n",
        "\n",
        "nlp = pt_core_news_sm.load()\n",
        "test_sentence = \"Os combustíveis atingiram picos históricos na passada sexta-feira.\"\n",
        "for token in nlp(test_sentence):\n",
        "    print(token.text, token.pos_, token.dep_, token.lemma_)"
      ]
    },
    {
      "cell_type": "markdown",
      "id": "20758d56",
      "metadata": {
        "id": "20758d56"
      },
      "source": [
        "## POS-tagging\n",
        "\n",
        "Apply POS-tagging (with a pre-trained model), to the full sentence of the corresponding text span."
      ]
    },
    {
      "cell_type": "code",
      "execution_count": null,
      "id": "w8nnLIpjJY_I",
      "metadata": {
        "id": "w8nnLIpjJY_I"
      },
      "outputs": [],
      "source": [
        "#Add a new column with POS-tags that will be gathered next\n",
        "POS_list = []\n",
        "#ADUs[\"POS\"] = []\n",
        "\n",
        "for row in ADUs.iterrows():\n",
        "  POS_list.append((row[1][\"article_id\"] + row[1][\"ranges\"]))\n",
        "\n",
        "ADUs[\"POS\"] = POS_list"
      ]
    },
    {
      "cell_type": "code",
      "execution_count": null,
      "id": "fc342396",
      "metadata": {
        "id": "fc342396"
      },
      "outputs": [],
      "source": [
        "import nltk\n",
        "\n",
        "\n",
        "for i, group in grouped_df:\n",
        "  article = articles.loc[articles[\"article_id\"] == i[0]]\n",
        "  \n",
        "  range = group[\"ranges\"].unique()[0]\n",
        "  start = eval(range)[0][0]\n",
        "  end = eval(range)[0][1] \n",
        "  body = article[\"body\"].values[0]\n",
        "  \n",
        "  body_sentences = nltk.tokenize.sent_tokenize(body)\n",
        "  current_pos, current_sent = 0,0\n",
        "  while current_pos < start:\n",
        "    if current_sent == len(body_sentences): break\n",
        "    current_pos += len(body_sentences[current_sent])\n",
        "    current_sent += 1\n",
        "  #print(body_sentences[current_sent - 1])\n",
        "  tags = [token.pos_ for token in nlp(body_sentences[current_sent - 1])]\n",
        "  test = ADUs.loc[ADUs[\"POS\"] == i[0] + i[1]]\n",
        "\n",
        "  ADUs[\"POS\"].replace(i[0] + i[1], \" \".join(tags), inplace=True)\n",
        "\n",
        "  "
      ]
    },
    {
      "cell_type": "code",
      "execution_count": null,
      "id": "a2a07FHnXheO",
      "metadata": {
        "colab": {
          "base_uri": "https://localhost:8080/"
        },
        "id": "a2a07FHnXheO",
        "outputId": "2bdfb8bc-8839-403c-e097-e144acb433ae"
      },
      "outputs": [
        {
          "output_type": "execute_result",
          "data": {
            "text/plain": [
              "count                                    16743\n",
              "unique                                    5836\n",
              "top       DET NOUN VERB ADP DET ADJ NOUN PROPN\n",
              "freq                                        57\n",
              "Name: POS, dtype: object"
            ]
          },
          "metadata": {},
          "execution_count": 67
        }
      ],
      "source": [
        "ADUs[\"POS\"].describe()"
      ]
    },
    {
      "cell_type": "markdown",
      "source": [
        "## Extract features\n",
        "\n",
        "Let's start by adding the count of each POS-tag for each document"
      ],
      "metadata": {
        "id": "UEK-ixF5xxzK"
      },
      "id": "UEK-ixF5xxzK"
    },
    {
      "cell_type": "code",
      "source": [
        "unique_tags_l = []\n",
        "\n",
        "for tags in ADUs[\"POS\"].values:\n",
        "  tags_list = tags.split(\" \")\n",
        "  unique_tags_l += tags_list\n",
        "\n",
        "unique_tags = set(unique_tags_l)\n",
        "unique_tags\n"
      ],
      "metadata": {
        "id": "-VFAOlSMuK-N",
        "outputId": "2d9d1d32-e4ef-4d38-a581-fe6c5f4d0851",
        "colab": {
          "base_uri": "https://localhost:8080/"
        }
      },
      "id": "-VFAOlSMuK-N",
      "execution_count": null,
      "outputs": [
        {
          "output_type": "execute_result",
          "data": {
            "text/plain": [
              "{'ADJ',\n",
              " 'ADP',\n",
              " 'ADV',\n",
              " 'AUX',\n",
              " 'CCONJ',\n",
              " 'DET',\n",
              " 'INTJ',\n",
              " 'NOUN',\n",
              " 'NUM',\n",
              " 'PART',\n",
              " 'PRON',\n",
              " 'PROPN',\n",
              " 'PUNCT',\n",
              " 'SCONJ',\n",
              " 'SPACE',\n",
              " 'SYM',\n",
              " 'VERB',\n",
              " 'X'}"
            ]
          },
          "metadata": {},
          "execution_count": 78
        }
      ]
    },
    {
      "cell_type": "code",
      "source": [
        "tag_counts_dict = {}\n",
        "\n",
        "for tag in list(unique_tags):\n",
        "  name = tag + \"_count\"\n",
        "  tag_counts_dict[name] = []\n",
        "  for row in ADUs.iterrows():\n",
        "    tags_list = row[1][\"POS\"].split(\" \")\n",
        "    tag_counts_dict[name].append(tags_list.count(tag))\n",
        "    \n",
        "\n",
        "for k in tag_counts_dict.keys():\n",
        "  ADUs[k] = tag_counts_dict[k]\n"
      ],
      "metadata": {
        "id": "dWS7-CrtyFSZ"
      },
      "id": "dWS7-CrtyFSZ",
      "execution_count": null,
      "outputs": []
    },
    {
      "cell_type": "markdown",
      "source": [
        "## Extract topics as features"
      ],
      "metadata": {
        "id": "95oQ6QO95llE"
      },
      "id": "95oQ6QO95llE"
    },
    {
      "cell_type": "code",
      "source": [
        "topics_l = []\n",
        "for row in ADUs.iterrows():\n",
        "  ID = row[1][\"article_id\"]\n",
        "  article = articles.loc[articles[\"article_id\"] == ID]\n",
        "  topic = article[\"topics\"].values[0]\n",
        "  topics_l.append(topic)\n",
        "\n",
        "ADUs[\"topics\"] = topics_l"
      ],
      "metadata": {
        "id": "o12BY1ew5qId"
      },
      "id": "o12BY1ew5qId",
      "execution_count": null,
      "outputs": []
    },
    {
      "cell_type": "markdown",
      "metadata": {
        "id": "ymC5IPdeLlXz"
      },
      "source": [
        "## Saving tagged data"
      ],
      "id": "ymC5IPdeLlXz"
    },
    {
      "cell_type": "code",
      "execution_count": null,
      "metadata": {
        "id": "y5EWgqivLp3s"
      },
      "outputs": [],
      "source": [
        "ADUs.to_excel(\"data/ADUs_pre-processed.xlsx\")"
      ],
      "id": "y5EWgqivLp3s"
    },
    {
      "cell_type": "markdown",
      "source": [
        "## Reading the pre-processed dataset"
      ],
      "metadata": {
        "id": "cEWw8mKbZT9N"
      },
      "id": "cEWw8mKbZT9N"
    },
    {
      "cell_type": "code",
      "source": [
        "import pandas as pd\n",
        "import numpy as np\n",
        "import nltk\n",
        "\n",
        "ADUs = pd.read_excel(\"data/ADUs_pre-processed.xlsx\")\n",
        "\n",
        "grouped_df = ADUs.groupby(by=['article_id', 'ranges'])\n",
        "dataset_dict = {\"tokens\": [], \"label\": []}\n",
        "\n",
        "for c in ADUs.columns[8:]:\n",
        "    dataset_dict[c] = []\n",
        "\n",
        "for i, group in grouped_df:\n",
        "    dict_counts = {x: group[\"label\"].value_counts()[x] for x in np.unique(group[['label']].values)}\n",
        "    final_label = max(dict_counts.items(), key=lambda x: x[1])\n",
        "    dataset_dict[\"tokens\"].append(group[\"tokens\"].values[0])\n",
        "    dataset_dict[\"label\"].append(final_label[0])\n",
        "\n",
        "    for c in ADUs.columns[8:]:\n",
        "        dataset_dict[c].append(group[c].values[0])\n",
        "    \n",
        "    \n",
        "    \n",
        "dataset = pd.DataFrame(dataset_dict, columns = dataset_dict.keys())"
      ],
      "metadata": {
        "id": "fKPvtnoSbZWT"
      },
      "id": "fKPvtnoSbZWT",
      "execution_count": 7,
      "outputs": []
    },
    {
      "cell_type": "markdown",
      "metadata": {
        "id": "f7c14ad6"
      },
      "source": [
        "## Analyzing Stopwords\n",
        "Some stopwords from `nltk` should not be ignored by the model, as they have correlation with the label."
      ],
      "id": "f7c14ad6"
    },
    {
      "cell_type": "code",
      "execution_count": 10,
      "metadata": {
        "id": "55aa6e11"
      },
      "outputs": [],
      "source": [
        "from nltk.corpus import stopwords\n",
        "import nltk\n",
        "#nltk.download('stopwords')\n",
        "stopwords_list = stopwords.words(\"portuguese\")\n",
        "\n",
        "\n",
        "stopwords_list.remove(\"não\")\n",
        "stopwords_list.remove(\"muito\")\n",
        "stopwords_list.remove(\"mais\")"
      ],
      "id": "55aa6e11"
    },
    {
      "cell_type": "code",
      "execution_count": 11,
      "metadata": {
        "id": "05330104"
      },
      "outputs": [],
      "source": [
        "import pt_core_news_sm\n",
        "import re\n",
        "#nltk.download('rslp')\n",
        "from nltk.stem import RSLPStemmer # portuguese stemmer\n",
        "nlp = pt_core_news_sm.load()\n",
        "corpus = []\n",
        "stemmer = RSLPStemmer()\n",
        "for i in range(0, dataset['tokens'].size):\n",
        "    # get review and remove non alpha chars\n",
        "    review = re.sub('[^a-zA-Z!?]', ' ', dataset['tokens'][i])\n",
        "    # to lower-case\n",
        "    review = review.lower()\n",
        "    # split into tokens, apply stemming and remove stop words\n",
        "    review = ' '.join([word.lemma_.lower().strip() + word.pos_ for word in nlp(review) if not word.text in stopwords_list])\n",
        "    corpus.append(review)\n",
        "\n",
        "\n",
        "dataset[\"corpus\"] = corpus"
      ],
      "id": "05330104"
    },
    {
      "cell_type": "code",
      "source": [
        "len(dataset[\"corpus\"].values)"
      ],
      "metadata": {
        "id": "iuJ7FlACZaAc",
        "outputId": "97dac0fb-74b8-4041-a863-7b4ea17adb6a",
        "colab": {
          "base_uri": "https://localhost:8080/"
        }
      },
      "id": "iuJ7FlACZaAc",
      "execution_count": null,
      "outputs": [
        {
          "output_type": "execute_result",
          "data": {
            "text/plain": [
              "12021"
            ]
          },
          "metadata": {},
          "execution_count": 13
        }
      ]
    },
    {
      "cell_type": "markdown",
      "id": "8d472904",
      "metadata": {
        "id": "8d472904"
      },
      "source": [
        "\n",
        "## Generating a data set\n",
        "\n",
        "We need to transform the corpus into a collection that can be handled by a machine learning model. We will be using `sklearn`'s TfidfVectorizer class"
      ]
    },
    {
      "cell_type": "code",
      "execution_count": 12,
      "id": "38e087a6",
      "metadata": {
        "id": "38e087a6"
      },
      "outputs": [],
      "source": [
        "from sklearn.feature_extraction.text import TfidfVectorizer\n",
        "from sklearn.preprocessing import OneHotEncoder\n",
        "from sklearn.compose import ColumnTransformer\n",
        "\n",
        "\n",
        "\n",
        "column_trans = ColumnTransformer([\n",
        "    (\"topics\", OneHotEncoder(), [\"topics\"]),\n",
        "    (\"corpus\", TfidfVectorizer(ngram_range=(1,2), min_df = 3), \"corpus\"),\n",
        "    (\"counts\", \"passthrough\", ADUs.columns[8:-1])\n",
        "], verbose_feature_names_out=False)\n",
        "\n",
        "#vectorizer = TfidfVectorizer(ngram_range=(1,2), min_df = 3)\n",
        "X = column_trans.fit_transform(dataset).toarray()\n"
      ]
    },
    {
      "cell_type": "code",
      "execution_count": 13,
      "id": "8569b63d",
      "metadata": {
        "colab": {
          "base_uri": "https://localhost:8080/"
        },
        "id": "8569b63d",
        "outputId": "77d86f9f-f0f9-4df8-8a00-ecd3b33565e7"
      },
      "outputs": [
        {
          "output_type": "stream",
          "name": "stdout",
          "text": [
            "(12021,)\n",
            "0    Value\n",
            "1    Value\n",
            "2    Value\n",
            "3    Value\n",
            "4    Value\n",
            "Name: label, dtype: object\n"
          ]
        }
      ],
      "source": [
        "y = dataset[\"label\"]\n",
        "print(y.shape)\n",
        "print(y.head())"
      ]
    },
    {
      "cell_type": "markdown",
      "id": "67d10ef4",
      "metadata": {
        "id": "67d10ef4"
      },
      "source": [
        "## Splitting the dataset into training and testing\n",
        "\n",
        "The next step is to split the dataset into training and testing. We will be using a 80%-20% split. Since classes are unbalanced (*Value* examples are significantly more abundant than *Policy* examples), we need to stratify both sets -> try to get a similar class distribution for each set."
      ]
    },
    {
      "cell_type": "code",
      "execution_count": 14,
      "id": "89bcae36",
      "metadata": {
        "colab": {
          "base_uri": "https://localhost:8080/"
        },
        "id": "89bcae36",
        "outputId": "d186936b-1aad-4433-e4c3-9ee6481cd75a"
      },
      "outputs": [
        {
          "output_type": "stream",
          "name": "stdout",
          "text": [
            "(9616, 13935) (9616,)\n",
            "(2405, 13935) (2405,)\n",
            "\n",
            "Label distribution in the training set:\n",
            "Value       4604\n",
            "Fact        2396\n",
            "Value(-)    1513\n",
            "Value(+)     701\n",
            "Policy       402\n",
            "Name: label, dtype: int64\n",
            "\n",
            "Label distribution in the test set:\n",
            "Value       1144\n",
            "Fact         605\n",
            "Value(-)     359\n",
            "Value(+)     188\n",
            "Policy       109\n",
            "Name: label, dtype: int64\n"
          ]
        }
      ],
      "source": [
        "from sklearn.model_selection import train_test_split\n",
        "\n",
        "X_train, X_test, y_train, y_test = train_test_split(X, y, test_size = 0.20)\n",
        "\n",
        "print(X_train.shape, y_train.shape)\n",
        "print(X_test.shape, y_test.shape)\n",
        "\n",
        "print(\"\\nLabel distribution in the training set:\")\n",
        "print(y_train.value_counts())\n",
        "\n",
        "print(\"\\nLabel distribution in the test set:\")\n",
        "print(y_test.value_counts())"
      ]
    },
    {
      "cell_type": "markdown",
      "source": [
        "## Computing class weights\n",
        "\n",
        "Since the dataset is unbalanced, we need to compute weights or apply oversampling/undersampling techniques. Otherwise predictions would be heavily biased towards the majority class."
      ],
      "metadata": {
        "id": "DruQ5tmgGziV"
      },
      "id": "DruQ5tmgGziV"
    },
    {
      "cell_type": "code",
      "source": [
        "from sklearn.utils import class_weight\n",
        "class_weights = class_weight.compute_class_weight(\n",
        "                                        class_weight = \"balanced\",\n",
        "                                        classes = np.unique(y.unique()),\n",
        "                                        y = y                                                    \n",
        "                                    )\n",
        "class_weights = dict(zip(np.unique(y.unique()), class_weights))\n",
        "class_weights"
      ],
      "metadata": {
        "id": "NfLd1VxqHMiM",
        "outputId": "c7bb1703-cda4-45d4-d86b-42dce878d11c",
        "colab": {
          "base_uri": "https://localhost:8080/"
        }
      },
      "id": "NfLd1VxqHMiM",
      "execution_count": 45,
      "outputs": [
        {
          "output_type": "execute_result",
          "data": {
            "text/plain": [
              "{'Fact': 0.8011329556814395,\n",
              " 'Policy': 4.704892367906067,\n",
              " 'Value': 0.4182672233820459,\n",
              " 'Value(+)': 2.704386951631046,\n",
              " 'Value(-)': 1.284294871794872}"
            ]
          },
          "metadata": {},
          "execution_count": 45
        }
      ]
    },
    {
      "cell_type": "markdown",
      "id": "cea4a57b",
      "metadata": {
        "id": "cea4a57b"
      },
      "source": [
        "## Training the models\n"
      ]
    },
    {
      "cell_type": "code",
      "execution_count": 15,
      "id": "592881a5",
      "metadata": {
        "id": "592881a5"
      },
      "outputs": [],
      "source": [
        "from sklearn.naive_bayes import MultinomialNB\n",
        "from sklearn.naive_bayes import ComplementNB\n",
        "from sklearn.feature_selection import SelectKBest, chi2\n",
        "from sklearn.metrics import confusion_matrix, ConfusionMatrixDisplay\n",
        "from sklearn.metrics import accuracy_score\n",
        "from sklearn.metrics import balanced_accuracy_score\n",
        "from sklearn.metrics import precision_score\n",
        "from sklearn.metrics import recall_score\n",
        "from sklearn.metrics import f1_score\n",
        "from sklearn.metrics import classification_report\n",
        "from sklearn.multiclass import OneVsRestClassifier\n",
        "from sklearn.model_selection import GridSearchCV\n",
        "from sklearn.ensemble import RandomForestClassifier\n",
        "from sklearn.preprocessing import StandardScaler\n",
        "from sklearn.linear_model import SGDClassifier\n",
        "from sklearn.model_selection import StratifiedKFold\n",
        "from sklearn.model_selection import cross_validate\n",
        "from sklearn.experimental import enable_halving_search_cv\n",
        "from sklearn.model_selection import HalvingGridSearchCV\n",
        "from sklearn.svm import LinearSVC\n",
        "from sklearn.linear_model import LogisticRegression\n",
        "import matplotlib.pyplot as plt\n",
        "import seaborn as sb\n",
        "\n",
        "cross_validation = StratifiedKFold(n_splits=5, shuffle=True)"
      ]
    },
    {
      "cell_type": "markdown",
      "source": [
        "## Resampling"
      ],
      "metadata": {
        "id": "9elPka6XEN8h"
      },
      "id": "9elPka6XEN8h"
    },
    {
      "cell_type": "code",
      "source": [
        "from imblearn.over_sampling import SMOTE\n",
        "\n",
        "sm = SMOTE()\n",
        "X_train, y_train = sm.fit_resample(X_train, y_train)"
      ],
      "metadata": {
        "id": "4HLwzLiYEROB"
      },
      "id": "4HLwzLiYEROB",
      "execution_count": 16,
      "outputs": []
    },
    {
      "cell_type": "markdown",
      "id": "b7927013",
      "metadata": {
        "id": "b7927013"
      },
      "source": [
        "### Naive Bayes\n",
        "To start off, we will train a single (`Naive Bayes`) classifier that evaluates the likelihood of a document being of one of the 5 classes. This will set the baseline for which the improvements will be measured.\n"
      ]
    },
    {
      "cell_type": "code",
      "source": [
        "pd.DataFrame(y_train).value_counts()"
      ],
      "metadata": {
        "id": "UljM2LRQcSJ-",
        "outputId": "972c03b4-46d2-429e-e136-a47e604d823e",
        "colab": {
          "base_uri": "https://localhost:8080/"
        }
      },
      "id": "UljM2LRQcSJ-",
      "execution_count": 23,
      "outputs": [
        {
          "output_type": "execute_result",
          "data": {
            "text/plain": [
              "label   \n",
              "Fact        4604\n",
              "Policy      4604\n",
              "Value       4604\n",
              "Value(+)    4604\n",
              "Value(-)    4604\n",
              "dtype: int64"
            ]
          },
          "metadata": {},
          "execution_count": 23
        }
      ]
    },
    {
      "cell_type": "code",
      "execution_count": 18,
      "id": "50bd3bf2",
      "metadata": {
        "id": "50bd3bf2"
      },
      "outputs": [],
      "source": [
        "clf = MultinomialNB()\n",
        "clf.fit(X_train, y_train)\n",
        "#scores = cross_validate(clf, X_train, y_train, cv = cross_validation, scoring=['accuracy', 'precision_weighted', 'recall_weighted', 'f1_weighted'])\n",
        "y_pred = clf.predict(X_test)\n",
        "#scores"
      ]
    },
    {
      "cell_type": "code",
      "source": [
        "\n",
        "#clf.fit(X_train, y_train)\n",
        "scores = cross_validate(ComplementNB(), X_train, y_train, cv = cross_validation, scoring=['accuracy', 'precision_weighted', 'recall_weighted', 'f1_weighted'])\n",
        "\n",
        "scores\n",
        "#y_pred = clf.predict(X_test)"
      ],
      "metadata": {
        "id": "VGGLsCpn6UvS",
        "outputId": "21220567-ce99-4024-9cd8-dc47625e9d6d",
        "colab": {
          "base_uri": "https://localhost:8080/"
        }
      },
      "id": "VGGLsCpn6UvS",
      "execution_count": 17,
      "outputs": [
        {
          "output_type": "execute_result",
          "data": {
            "text/plain": [
              "{'fit_time': array([2.15442896, 2.78314996, 2.47794294, 2.14818072, 1.97649717]),\n",
              " 'score_time': array([0.44557261, 0.37167501, 0.44988012, 0.38903785, 0.39175057]),\n",
              " 'test_accuracy': array([0.71676803, 0.71220678, 0.7228497 , 0.7139444 , 0.714596  ]),\n",
              " 'test_f1_weighted': array([0.68596699, 0.68017123, 0.69272105, 0.68337686, 0.68610397]),\n",
              " 'test_precision_weighted': array([0.70895144, 0.70871513, 0.72131025, 0.70387401, 0.70800699]),\n",
              " 'test_recall_weighted': array([0.71676803, 0.71220678, 0.7228497 , 0.7139444 , 0.714596  ])}"
            ]
          },
          "metadata": {},
          "execution_count": 17
        }
      ]
    },
    {
      "cell_type": "code",
      "execution_count": 19,
      "id": "7785f776",
      "metadata": {
        "colab": {
          "base_uri": "https://localhost:8080/",
          "height": 522
        },
        "id": "7785f776",
        "outputId": "9f507090-09df-4ba7-fa6e-34201028b5f3"
      },
      "outputs": [
        {
          "output_type": "stream",
          "name": "stdout",
          "text": [
            "Accuracy score:  0.3841995841995842\n",
            "Balanced accuracy score:  0.42712294940735973\n"
          ]
        },
        {
          "output_type": "display_data",
          "data": {
            "text/plain": [
              "<Figure size 432x288 with 2 Axes>"
            ],
            "image/png": "[encoded data removed]"
          },
          "metadata": {
            "needs_background": "light"
          }
        },
        {
          "output_type": "stream",
          "name": "stdout",
          "text": [
            "              precision    recall  f1-score   support\n",
            "\n",
            "        Fact       0.45      0.46      0.46       605\n",
            "      Policy       0.19      0.50      0.27       109\n",
            "       Value       0.64      0.30      0.41      1144\n",
            "    Value(+)       0.23      0.40      0.29       188\n",
            "    Value(-)       0.27      0.47      0.34       359\n",
            "\n",
            "    accuracy                           0.38      2405\n",
            "   macro avg       0.36      0.43      0.35      2405\n",
            "weighted avg       0.48      0.38      0.40      2405\n",
            "\n"
          ]
        }
      ],
      "source": [
        "\n",
        "def print_metrics(y_test, y_pred, classes):\n",
        "    cm = confusion_matrix(y_test, y_pred, labels = clf.classes_)\n",
        "    disp = ConfusionMatrixDisplay(confusion_matrix=cm, display_labels=clf.classes_)\n",
        "    disp.plot()\n",
        "    print(\"Accuracy score: \", accuracy_score(y_test, y_pred))\n",
        "    print(\"Balanced accuracy score: \", balanced_accuracy_score(y_test, y_pred))\n",
        "    metrics_df = pd.DataFrame({\"Precision\": precision_score(y_test, y_pred, labels = classes, average = None).tolist(),\n",
        "                              \"Recall\": recall_score(y_test, y_pred, labels = classes, average = None).tolist(),\n",
        "                              \"F1\": f1_score(y_test, y_pred, labels = classes, average = None).tolist()},\n",
        "                             index = classes)\n",
        "    \n",
        "    plt.show()\n",
        "    return metrics_df.head()\n",
        "    \n",
        "print_metrics(y_test, y_pred, clf.classes_)\n",
        "print(classification_report(y_test, y_pred))"
      ]
    },
    {
      "cell_type": "markdown",
      "id": "65a15889",
      "metadata": {
        "id": "65a15889"
      },
      "source": [
        "Since some classifiers like SVM and Logistic Regression cannot handle multi-class classification, let's use the One vs Rest classifier. This way, we can transform this problem into a binary classification problem -> one classifier for each class."
      ]
    },
    {
      "cell_type": "code",
      "execution_count": null,
      "id": "1855c726",
      "metadata": {
        "id": "1855c726"
      },
      "outputs": [],
      "source": [
        "model_to_set = RandomForestClassifier(n_jobs=-1)\n",
        "\n",
        "cross_validation = StratifiedKFold(n_splits=5)\n",
        "parameters = {\n",
        "    \"max_depth\": [int(x) for x in np.linspace(10, 110, num=5)],\n",
        "    \"min_samples_leaf\": [int(x) for x in np.linspace(50, 2000, num=5)],\n",
        "    \"criterion\": [\"gini\", \"entropy\"]\n",
        "}\n",
        "\n",
        "model_tunning = GridSearchCV(model_to_set, param_grid=parameters,\n",
        "                             scoring=\"accuracy\", cv=cross_validation, n_jobs=-1, verbose=1)\n",
        "\n",
        "model_tunning.fit(X_train, y_train)\n",
        "model_tunning.best_score_\n",
        "print_metrics(y_test, model_tunning.predict(X_test), clf.classes_)\n"
      ]
    },
    {
      "cell_type": "markdown",
      "id": "46f104a2",
      "metadata": {
        "id": "46f104a2"
      },
      "source": [
        "## Scaling the data\n",
        "\n",
        "Some linear models (like SVM or SGD classifiers) use euclidean distances and benefit from the normalization of the data."
      ]
    },
    {
      "cell_type": "code",
      "execution_count": 73,
      "id": "19f11b49",
      "metadata": {
        "id": "19f11b49"
      },
      "outputs": [],
      "source": [
        "scaler = StandardScaler()\n",
        "scaler.fit(X_train)\n",
        "X_train = scaler.transform(X_train)\n",
        "X_test = scaler.transform(X_test)"
      ]
    },
    {
      "cell_type": "markdown",
      "id": "b2e806e7",
      "metadata": {
        "id": "b2e806e7"
      },
      "source": [
        "## SGD Classifier\n",
        "\n",
        "Let's now apply the Stochastic Gradient Descent optimization with a linear SVM model (`loss='hinge'`) and a Logistic Regression model (`loss=log`). Moreover, we can tune some hyperparameters to get the best possible model.\n",
        "SGD implementation from sklearn optimizes the loss function to converge faster, as they use stochastic gradient descent instead of gradient descent."
      ]
    },
    {
      "cell_type": "code",
      "execution_count": null,
      "id": "81cf1d9a",
      "metadata": {
        "id": "81cf1d9a",
        "scrolled": true
      },
      "outputs": [],
      "source": [
        "\"\"\"\n",
        "l1-regularization -> 'built-in' feature selection (fewer features)\n",
        "l2-regularization -> Prefers weight vectors with many small weights\n",
        "\"\"\"\n",
        "\n",
        "max_iterations = 10**6/np.ceil(X_train.shape[0] / 10) #Empirically,the model converges after 10^6/n where n \n",
        "                                        # the size of the test set\n",
        "\n",
        "sgd_model = SGDClassifier(penalty=\"l2\", \n",
        "                          max_iter=np.ceil(max_iterations/10), average=True, class_weight=class_weights)\n",
        "sgd_gs = GridSearchCV(sgd_model, n_jobs=-1, param_grid={\n",
        "    \"alpha\": 10.0**-np.arange(1,5),\n",
        "    \"loss\": ['log', 'modified_huber']\n",
        "}, cv=cross_validation, scoring=\"accuracy\", verbose = 1)\n",
        "\n",
        "sgd_gs.fit(X_train, y_train)\n",
        "#sgd_gs.best_score_\n",
        "print(sgd_gs.best_params_)\n",
        "print_metrics(y_test, sgd_gs.predict(X_test), sgd_gs.classes_)"
      ]
    },
    {
      "cell_type": "code",
      "source": [
        "print_metrics(y_test, sgd_gs.predict(X_test), sgd_gs.classes_)"
      ],
      "metadata": {
        "colab": {
          "base_uri": "https://localhost:8080/",
          "height": 503
        },
        "id": "_ejS1Y6YMn9-",
        "outputId": "d9e5f580-f88c-4445-a12b-6b556a3d9c47"
      },
      "id": "_ejS1Y6YMn9-",
      "execution_count": 17,
      "outputs": [
        {
          "output_type": "stream",
          "name": "stdout",
          "text": [
            "Accuracy score:  0.47442827442827445\n",
            "Balanced accuracy score:  0.3261219562197266\n"
          ]
        },
        {
          "output_type": "display_data",
          "data": {
            "text/plain": [
              "<Figure size 432x288 with 2 Axes>"
            ],
            "image/png": "[encoded data removed]"
          },
          "metadata": {
            "needs_background": "light"
          }
        },
        {
          "output_type": "execute_result",
          "data": {
            "text/plain": [
              "          Precision    Recall        F1\n",
              "Fact       0.474120  0.355590  0.406389\n",
              "Policy     0.223022  0.300971  0.256198\n",
              "Value      0.538253  0.700441  0.608729\n",
              "Value(+)   0.149254  0.059524  0.085106\n",
              "Value(-)   0.317992  0.214085  0.255892"
            ],
            "text/html": [
              "\n",
              "  <div id=\"df-d14ca889-cac5-4f40-aa5a-bb043d06efd1\">\n",
              "    <div class=\"colab-df-container\">\n",
              "      <div>\n",
              "<style scoped>\n",
              "    .dataframe tbody tr th:only-of-type {\n",
              "        vertical-align: middle;\n",
              "    }\n",
              "\n",
              "    .dataframe tbody tr th {\n",
              "        vertical-align: top;\n",
              "    }\n",
              "\n",
              "    .dataframe thead th {\n",
              "        text-align: right;\n",
              "    }\n",
              "</style>\n",
              "<table border=\"1\" class=\"dataframe\">\n",
              "  <thead>\n",
              "    <tr style=\"text-align: right;\">\n",
              "      <th></th>\n",
              "      <th>Precision</th>\n",
              "      <th>Recall</th>\n",
              "      <th>F1</th>\n",
              "    </tr>\n",
              "  </thead>\n",
              "  <tbody>\n",
              "    <tr>\n",
              "      <th>Fact</th>\n",
              "      <td>0.474120</td>\n",
              "      <td>0.355590</td>\n",
              "      <td>0.406389</td>\n",
              "    </tr>\n",
              "    <tr>\n",
              "      <th>Policy</th>\n",
              "      <td>0.223022</td>\n",
              "      <td>0.300971</td>\n",
              "      <td>0.256198</td>\n",
              "    </tr>\n",
              "    <tr>\n",
              "      <th>Value</th>\n",
              "      <td>0.538253</td>\n",
              "      <td>0.700441</td>\n",
              "      <td>0.608729</td>\n",
              "    </tr>\n",
              "    <tr>\n",
              "      <th>Value(+)</th>\n",
              "      <td>0.149254</td>\n",
              "      <td>0.059524</td>\n",
              "      <td>0.085106</td>\n",
              "    </tr>\n",
              "    <tr>\n",
              "      <th>Value(-)</th>\n",
              "      <td>0.317992</td>\n",
              "      <td>0.214085</td>\n",
              "      <td>0.255892</td>\n",
              "    </tr>\n",
              "  </tbody>\n",
              "</table>\n",
              "</div>\n",
              "      <button class=\"colab-df-convert\" onclick=\"convertToInteractive('df-d14ca889-cac5-4f40-aa5a-bb043d06efd1')\"\n",
              "              title=\"Convert this dataframe to an interactive table.\"\n",
              "              style=\"display:none;\">\n",
              "        \n",
              "  <svg xmlns=\"http://www.w3.org/2000/svg\" height=\"24px\"viewBox=\"0 0 24 24\"\n",
              "       width=\"24px\">\n",
              "    <path d=\"M0 0h24v24H0V0z\" fill=\"none\"/>\n",
              "    <path d=\"M18.56 5.44l.94 2.06.94-2.06 2.06-.94-2.06-.94-.94-2.06-.94 2.06-2.06.94zm-11 1L8.5 8.5l.94-2.06 2.06-.94-2.06-.94L8.5 2.5l-.94 2.06-2.06.94zm10 10l.94 2.06.94-2.06 2.06-.94-2.06-.94-.94-2.06-.94 2.06-2.06.94z\"/><path d=\"M17.41 7.96l-1.37-1.37c-.4-.4-.92-.59-1.43-.59-.52 0-1.04.2-1.43.59L10.3 9.45l-7.72 7.72c-.78.78-.78 2.05 0 2.83L4 21.41c.39.39.9.59 1.41.59.51 0 1.02-.2 1.41-.59l7.78-7.78 2.81-2.81c.8-.78.8-2.07 0-2.86zM5.41 20L4 18.59l7.72-7.72 1.47 1.35L5.41 20z\"/>\n",
              "  </svg>\n",
              "      </button>\n",
              "      \n",
              "  <style>\n",
              "    .colab-df-container {\n",
              "      display:flex;\n",
              "      flex-wrap:wrap;\n",
              "      gap: 12px;\n",
              "    }\n",
              "\n",
              "    .colab-df-convert {\n",
              "      background-color: #E8F0FE;\n",
              "      border: none;\n",
              "      border-radius: 50%;\n",
              "      cursor: pointer;\n",
              "      display: none;\n",
              "      fill: #1967D2;\n",
              "      height: 32px;\n",
              "      padding: 0 0 0 0;\n",
              "      width: 32px;\n",
              "    }\n",
              "\n",
              "    .colab-df-convert:hover {\n",
              "      background-color: #E2EBFA;\n",
              "      box-shadow: 0px 1px 2px rgba(60, 64, 67, 0.3), 0px 1px 3px 1px rgba(60, 64, 67, 0.15);\n",
              "      fill: #174EA6;\n",
              "    }\n",
              "\n",
              "    [theme=dark] .colab-df-convert {\n",
              "      background-color: #3B4455;\n",
              "      fill: #D2E3FC;\n",
              "    }\n",
              "\n",
              "    [theme=dark] .colab-df-convert:hover {\n",
              "      background-color: #434B5C;\n",
              "      box-shadow: 0px 1px 3px 1px rgba(0, 0, 0, 0.15);\n",
              "      filter: drop-shadow(0px 1px 2px rgba(0, 0, 0, 0.3));\n",
              "      fill: #FFFFFF;\n",
              "    }\n",
              "  </style>\n",
              "\n",
              "      <script>\n",
              "        const buttonEl =\n",
              "          document.querySelector('#df-d14ca889-cac5-4f40-aa5a-bb043d06efd1 button.colab-df-convert');\n",
              "        buttonEl.style.display =\n",
              "          google.colab.kernel.accessAllowed ? 'block' : 'none';\n",
              "\n",
              "        async function convertToInteractive(key) {\n",
              "          const element = document.querySelector('#df-d14ca889-cac5-4f40-aa5a-bb043d06efd1');\n",
              "          const dataTable =\n",
              "            await google.colab.kernel.invokeFunction('convertToInteractive',\n",
              "                                                     [key], {});\n",
              "          if (!dataTable) return;\n",
              "\n",
              "          const docLinkHtml = 'Like what you see? Visit the ' +\n",
              "            '<a target=\"_blank\" href=https://colab.research.google.com/notebooks/data_table.ipynb>data table notebook</a>'\n",
              "            + ' to learn more about interactive tables.';\n",
              "          element.innerHTML = '';\n",
              "          dataTable['output_type'] = 'display_data';\n",
              "          await google.colab.output.renderOutput(dataTable, element);\n",
              "          const docLink = document.createElement('div');\n",
              "          docLink.innerHTML = docLinkHtml;\n",
              "          element.appendChild(docLink);\n",
              "        }\n",
              "      </script>\n",
              "    </div>\n",
              "  </div>\n",
              "  "
            ]
          },
          "metadata": {},
          "execution_count": 17
        }
      ]
    },
    {
      "cell_type": "code",
      "execution_count": null,
      "id": "1c7caa0b",
      "metadata": {
        "id": "1c7caa0b"
      },
      "outputs": [],
      "source": [
        "# Linear SVM model -> loss = 'hinge'\n",
        "\n",
        "sgd_classifier = SGDClassifier(n_jobs=-1, penalty=\"l2\", verbose = 1, shuffle=True, \n",
        "                               loss=\"hinge\", max_iter=max_iterations)\n",
        "\n",
        "sgd_classifier.fit(X_train, y_train)\n",
        "print_metrics(y_test, sgd_classifier.predict(X_test), sgd_classifier.classes_)"
      ]
    },
    {
      "cell_type": "markdown",
      "id": "64e3ef22",
      "metadata": {
        "id": "64e3ef22"
      },
      "source": [
        "## Linear SVM Classifier\n",
        "To establish a comparison in terms of performance, we will use the Linear SVM classifier.\n"
      ]
    },
    {
      "cell_type": "code",
      "execution_count": null,
      "id": "bbfcdd41",
      "metadata": {
        "id": "bbfcdd41",
        "scrolled": true
      },
      "outputs": [],
      "source": [
        "\n",
        "svm_model = LinearSVC(class_weight=\"balanced\", verbose=1)\n",
        "\n",
        "svm_gs = HalvingGridSearchCV(svm_model, n_jobs=-1, param_grid = {\n",
        "    \"C\": np.logspace(-4,4,5),\n",
        "    \"loss\": [\"hinge\", \"squared_hinge\"]\n",
        "}, cv=5, scoring=\"f1_weighted\", verbose=3)\n",
        "\n",
        "svm_gs.fit(X_train, y_train)\n",
        "print_metrics(y_test, svm_gs.predict(X_test), svm_gs.classes_)"
      ]
    },
    {
      "cell_type": "markdown",
      "id": "fe151ab2",
      "metadata": {
        "id": "fe151ab2"
      },
      "source": [
        "## Logistic Regression Classifier\n",
        "We can now do the same apply the Logistic Regression classifier and compare it with the previously obtained models with SGD optimization.\n"
      ]
    },
    {
      "cell_type": "code",
      "execution_count": null,
      "id": "643386cd",
      "metadata": {
        "id": "643386cd"
      },
      "outputs": [],
      "source": [
        "\n",
        "# Logistic Regression model\n",
        "lr_model = LogisticRegression(n_jobs=-1, verbose=1)\n",
        "\n",
        "lr_gs = GridSearchCV(lr_model, n_jobs=-1, param_grid={\n",
        "    \"max_iter\": [100, 200, 500, 1000],\n",
        "    \"solver\": [\"sag\", 'saga', 'lbfgs', \"newton-cg\"],\n",
        "    \"C\": np.logspace(-4, 4, 20)\n",
        "}, cv=cross_validation, scoring=\"accuracy\", verbose = True)\n",
        "\n",
        "lr_gs.fit(X_train, y_train)\n",
        "print_metrics(y_test, lr_gs.predict(X_test), lr_gs.classes_)"
      ]
    },
    {
      "cell_type": "markdown",
      "source": [
        "## Error Analysis\n"
      ],
      "metadata": {
        "id": "ItSXZj8fM5tF"
      },
      "id": "ItSXZj8fM5tF"
    },
    {
      "cell_type": "code",
      "source": [
        ""
      ],
      "metadata": {
        "id": "VjQopnPZSDFY"
      },
      "id": "VjQopnPZSDFY",
      "execution_count": null,
      "outputs": []
    }
  ],
  "metadata": {
    "colab": {
      "name": "assignment1.ipynb",
      "provenance": []
    },
    "kernelspec": {
      "display_name": "Python 3 (ipykernel)",
      "language": "python",
      "name": "python3"
    },
    "language_info": {
      "codemirror_mode": {
        "name": "ipython",
        "version": 3
      },
      "file_extension": ".py",
      "mimetype": "text/x-python",
      "name": "python",
      "nbconvert_exporter": "python",
      "pygments_lexer": "ipython3",
      "version": "3.8.8"
    }
  },
  "nbformat": 4,
  "nbformat_minor": 5
}