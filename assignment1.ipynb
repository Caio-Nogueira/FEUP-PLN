{
 "cells": [
  {
   "cell_type": "markdown",
   "id": "c902a82e",
   "metadata": {
    "id": "c902a82e"
   },
   "source": [
    "# PLN Assignment 1\n",
    "\n",
    "In the scope of the DARGMINTS project, an annotation project was carried out which consisted of annotating argumentation structures in opinion articles published in the Público newspaper. The annotation included several layers:\n",
    "\n",
    "Selecting text spans that are taken to have an argumentative role (either as premises or conclusions of arguments) -- these are Argumentative Discourse Units (ADU).\n",
    "Connecting such ADUs through support or attack relations.\n",
    "Classifying the propositional content of ADUs as propositions of fact, propositions of value, or propositions of policy; within propositions of value, distinguish between those with a positive (+) or negative (-) connotation.\n",
    "In a proposition of fact, the content corresponds to a piece of information that can be checked for truthness. This does not usually happen with propositions of value, which denote value judgments with a strong subjective nature; often, they also have a (positive or negative) polarity attached. A proposition of policy prescribes or suggests a certain line of action, often mentioning the agents or entities that are capable of carrying out such policies.\n",
    "\n",
    "The aim of this assignment is to build a classifier of types of ADUs, thus focusing on the last annotation step described above. For that, you have access to two different files:\n",
    "\n",
    "A file containing the content of each annotated ADU span and its 5-class classification: Value, Value(+), Value(-), Fact, or Policy. For each ADU, we also know the annotator and the document from which it has been taken.\n",
    "A file containing details for each opinion article that has been annotated, including the full article content.\n",
    "Besides ADU contents, you can make use of any contextual information provided in the corresponding opinion article.\n",
    "\n",
    "Each opinion article has been annotated by 3 different annotators. For that reason, you will find in the ADU file an indication of which annotator has obtained the ADU. It may happen that the same ADU has been annotated by more than one annotator. When that is the case, they do not necessarily agree on the type of proposition.\n",
    "\n",
    "How good a classifier (or set of classifiers) can you get? Don't forget to properly split the dataset in a sensible manner, so that you have a proper test set. Start by obtaining an arbitrary baseline, against which you can then compare your improvements.\n",
    "\n",
    "## Importing the data\n",
    "\n",
    "In order to fulfill this NLP task we will use `pandas`, `sklearn`, `nltk`, `numpy`, `matplotlib`, `seaborn` and other Python libraries\n"
   ]
  },
  {
   "cell_type": "code",
   "execution_count": 11,
   "id": "iEQIK6AV3ieB",
   "metadata": {
    "colab": {
     "base_uri": "https://localhost:8080/"
    },
    "id": "iEQIK6AV3ieB",
    "outputId": "040eea08-17cd-4dc6-dc63-f68df9ca36d9"
   },
   "outputs": [
    {
     "name": "stdout",
     "output_type": "stream",
     "text": [
      "assignment1.ipynb  \u001b[0m\u001b[01;34mdata\u001b[0m/  README.md  \u001b[01;34mstatistics\u001b[0m/\n"
     ]
    }
   ],
   "source": [
    "!git clone https://github.com/Caio-Nogueira/FEUP-PLN.git"
   ]
  },
  {
   "cell_type": "code",
   "execution_count": 12,
   "id": "16d43f8a",
   "metadata": {
    "colab": {
     "base_uri": "https://localhost:8080/"
    },
    "id": "16d43f8a",
    "outputId": "14e70aa4-0ebf-4224-a1a9-622b5017a835"
   },
   "outputs": [
    {
     "data": {
      "text/plain": [
       "False"
      ]
     },
     "execution_count": 12,
     "metadata": {},
     "output_type": "execute_result"
    }
   ],
   "source": [
    "import pandas as pd\n",
    "\n",
    "ADUs = pd.read_excel(\"data/OpArticles_ADUs.xlsx\")\n",
    "articles = pd.read_excel(\"data/OpArticles.xlsx\")\n",
    "\n",
    "ADUs.isnull().values.any() #check NaNs\n"
   ]
  },
  {
   "cell_type": "code",
   "execution_count": null,
   "id": "4eb1c7a0",
   "metadata": {
    "colab": {
     "base_uri": "https://localhost:8080/"
    },
    "id": "4eb1c7a0",
    "outputId": "9c6bc3d3-b23e-440b-b1f9-faf2d8ad317c"
   },
   "outputs": [
    {
     "data": {
      "text/plain": [
       "Value       8102\n",
       "Fact        3663\n",
       "Value(-)    2900\n",
       "Value(+)    1411\n",
       "Policy       667\n",
       "Name: label, dtype: int64"
      ]
     },
     "execution_count": 9,
     "metadata": {},
     "output_type": "execute_result"
    }
   ],
   "source": [
    "ADUs[\"label\"].value_counts()"
   ]
  },
  {
   "cell_type": "markdown",
   "id": "cd11d77d",
   "metadata": {
    "id": "cd11d77d"
   },
   "source": [
    "## Handling repeated text spans\n",
    "\n",
    "Some text spans were annotated by more than one annotator. Therefore, it may be the case that some text spans have different labels, which may harm the training phase."
   ]
  },
  {
   "cell_type": "code",
   "execution_count": 13,
   "id": "29de4c21",
   "metadata": {
    "colab": {
     "base_uri": "https://localhost:8080/"
    },
    "id": "29de4c21",
    "outputId": "8d7fb9a4-d5ac-4a2e-f4f5-3f1d1def0d86"
   },
   "outputs": [
    {
     "data": {
      "text/plain": [
       "((12302,), (16743,))"
      ]
     },
     "execution_count": 13,
     "metadata": {},
     "output_type": "execute_result"
    }
   ],
   "source": [
    "import numpy as np\n",
    "\n",
    "unique_spans = np.unique(ADUs[['article_id', 'ranges']].values)\n",
    "(unique_spans.shape, ADUs[\"tokens\"].shape)"
   ]
  },
  {
   "cell_type": "markdown",
   "id": "5b72cd44",
   "metadata": {
    "id": "5b72cd44"
   },
   "source": [
    "As we can see, more than 4000 text spans were evaluated by more than one annotator. Now let's check how many of these text spans receive different labels"
   ]
  },
  {
   "cell_type": "markdown",
   "id": "576b7531",
   "metadata": {
    "id": "576b7531"
   },
   "source": [
    "## Data preparation\n",
    "\n",
    "The next step is to cleanup the dataset, applying text normalization techniques:\n",
    " - Removing non-alphabetic chars\n",
    " - Lowercasing\n",
    " - Removing stop words\n",
    " - Stemming/lemmatization\n",
    " \n",
    "However, before applying these techniques, let's try to remove the repeated annotations that may confuse the classifiers on the future steps. In order to decide which is the correct label for each (article_id, range) pair, we compute the majority."
   ]
  },
  {
   "cell_type": "code",
   "execution_count": 14,
   "id": "40f41968",
   "metadata": {
    "colab": {
     "base_uri": "https://localhost:8080/",
     "height": 424
    },
    "id": "40f41968",
    "outputId": "edc7f00f-d439-478a-8935-d99f745b81a5"
   },
   "outputs": [
    {
     "data": {
      "text/html": [
       "\n",
       "  <div id=\"df-7e72cf12-670b-4424-b0b9-d63a00935daa\">\n",
       "    <div class=\"colab-df-container\">\n",
       "      <div>\n",
       "<style scoped>\n",
       "    .dataframe tbody tr th:only-of-type {\n",
       "        vertical-align: middle;\n",
       "    }\n",
       "\n",
       "    .dataframe tbody tr th {\n",
       "        vertical-align: top;\n",
       "    }\n",
       "\n",
       "    .dataframe thead th {\n",
       "        text-align: right;\n",
       "    }\n",
       "</style>\n",
       "<table border=\"1\" class=\"dataframe\">\n",
       "  <thead>\n",
       "    <tr style=\"text-align: right;\">\n",
       "      <th></th>\n",
       "      <th>tokens</th>\n",
       "      <th>label</th>\n",
       "    </tr>\n",
       "  </thead>\n",
       "  <tbody>\n",
       "    <tr>\n",
       "      <th>0</th>\n",
       "      <td>presumo que essas partilhas tenham gerado um e...</td>\n",
       "      <td>Value</td>\n",
       "    </tr>\n",
       "    <tr>\n",
       "      <th>1</th>\n",
       "      <td>essas partilhas tenham gerado um efeito bola d...</td>\n",
       "      <td>Value</td>\n",
       "    </tr>\n",
       "    <tr>\n",
       "      <th>2</th>\n",
       "      <td>o post não tardou a chegar ao conhecimento da ...</td>\n",
       "      <td>Value</td>\n",
       "    </tr>\n",
       "    <tr>\n",
       "      <th>3</th>\n",
       "      <td>esta questão ter [justificadamente] despertado...</td>\n",
       "      <td>Value</td>\n",
       "    </tr>\n",
       "    <tr>\n",
       "      <th>4</th>\n",
       "      <td>a ocasião propicia um debate amplo na sociedad...</td>\n",
       "      <td>Value</td>\n",
       "    </tr>\n",
       "    <tr>\n",
       "      <th>...</th>\n",
       "      <td>...</td>\n",
       "      <td>...</td>\n",
       "    </tr>\n",
       "    <tr>\n",
       "      <th>12016</th>\n",
       "      <td>eticamente é reprovável</td>\n",
       "      <td>Value(-)</td>\n",
       "    </tr>\n",
       "    <tr>\n",
       "      <th>12017</th>\n",
       "      <td>eticamente é reprovável e, o bom senso, aconse...</td>\n",
       "      <td>Value</td>\n",
       "    </tr>\n",
       "    <tr>\n",
       "      <th>12018</th>\n",
       "      <td>o bom senso, aconselha a não o fazer</td>\n",
       "      <td>Value</td>\n",
       "    </tr>\n",
       "    <tr>\n",
       "      <th>12019</th>\n",
       "      <td>Um presidente de câmara pode ter a sua preferê...</td>\n",
       "      <td>Value</td>\n",
       "    </tr>\n",
       "    <tr>\n",
       "      <th>12020</th>\n",
       "      <td>abster-se de participar em órgãos sociais do s...</td>\n",
       "      <td>Policy</td>\n",
       "    </tr>\n",
       "  </tbody>\n",
       "</table>\n",
       "<p>12021 rows × 2 columns</p>\n",
       "</div>\n",
       "      <button class=\"colab-df-convert\" onclick=\"convertToInteractive('df-7e72cf12-670b-4424-b0b9-d63a00935daa')\"\n",
       "              title=\"Convert this dataframe to an interactive table.\"\n",
       "              style=\"display:none;\">\n",
       "        \n",
       "  <svg xmlns=\"http://www.w3.org/2000/svg\" height=\"24px\"viewBox=\"0 0 24 24\"\n",
       "       width=\"24px\">\n",
       "    <path d=\"M0 0h24v24H0V0z\" fill=\"none\"/>\n",
       "    <path d=\"M18.56 5.44l.94 2.06.94-2.06 2.06-.94-2.06-.94-.94-2.06-.94 2.06-2.06.94zm-11 1L8.5 8.5l.94-2.06 2.06-.94-2.06-.94L8.5 2.5l-.94 2.06-2.06.94zm10 10l.94 2.06.94-2.06 2.06-.94-2.06-.94-.94-2.06-.94 2.06-2.06.94z\"/><path d=\"M17.41 7.96l-1.37-1.37c-.4-.4-.92-.59-1.43-.59-.52 0-1.04.2-1.43.59L10.3 9.45l-7.72 7.72c-.78.78-.78 2.05 0 2.83L4 21.41c.39.39.9.59 1.41.59.51 0 1.02-.2 1.41-.59l7.78-7.78 2.81-2.81c.8-.78.8-2.07 0-2.86zM5.41 20L4 18.59l7.72-7.72 1.47 1.35L5.41 20z\"/>\n",
       "  </svg>\n",
       "      </button>\n",
       "      \n",
       "  <style>\n",
       "    .colab-df-container {\n",
       "      display:flex;\n",
       "      flex-wrap:wrap;\n",
       "      gap: 12px;\n",
       "    }\n",
       "\n",
       "    .colab-df-convert {\n",
       "      background-color: #E8F0FE;\n",
       "      border: none;\n",
       "      border-radius: 50%;\n",
       "      cursor: pointer;\n",
       "      display: none;\n",
       "      fill: #1967D2;\n",
       "      height: 32px;\n",
       "      padding: 0 0 0 0;\n",
       "      width: 32px;\n",
       "    }\n",
       "\n",
       "    .colab-df-convert:hover {\n",
       "      background-color: #E2EBFA;\n",
       "      box-shadow: 0px 1px 2px rgba(60, 64, 67, 0.3), 0px 1px 3px 1px rgba(60, 64, 67, 0.15);\n",
       "      fill: #174EA6;\n",
       "    }\n",
       "\n",
       "    [theme=dark] .colab-df-convert {\n",
       "      background-color: #3B4455;\n",
       "      fill: #D2E3FC;\n",
       "    }\n",
       "\n",
       "    [theme=dark] .colab-df-convert:hover {\n",
       "      background-color: #434B5C;\n",
       "      box-shadow: 0px 1px 3px 1px rgba(0, 0, 0, 0.15);\n",
       "      filter: drop-shadow(0px 1px 2px rgba(0, 0, 0, 0.3));\n",
       "      fill: #FFFFFF;\n",
       "    }\n",
       "  </style>\n",
       "\n",
       "      <script>\n",
       "        const buttonEl =\n",
       "          document.querySelector('#df-7e72cf12-670b-4424-b0b9-d63a00935daa button.colab-df-convert');\n",
       "        buttonEl.style.display =\n",
       "          google.colab.kernel.accessAllowed ? 'block' : 'none';\n",
       "\n",
       "        async function convertToInteractive(key) {\n",
       "          const element = document.querySelector('#df-7e72cf12-670b-4424-b0b9-d63a00935daa');\n",
       "          const dataTable =\n",
       "            await google.colab.kernel.invokeFunction('convertToInteractive',\n",
       "                                                     [key], {});\n",
       "          if (!dataTable) return;\n",
       "\n",
       "          const docLinkHtml = 'Like what you see? Visit the ' +\n",
       "            '<a target=\"_blank\" href=https://colab.research.google.com/notebooks/data_table.ipynb>data table notebook</a>'\n",
       "            + ' to learn more about interactive tables.';\n",
       "          element.innerHTML = '';\n",
       "          dataTable['output_type'] = 'display_data';\n",
       "          await google.colab.output.renderOutput(dataTable, element);\n",
       "          const docLink = document.createElement('div');\n",
       "          docLink.innerHTML = docLinkHtml;\n",
       "          element.appendChild(docLink);\n",
       "        }\n",
       "      </script>\n",
       "    </div>\n",
       "  </div>\n",
       "  "
      ],
      "text/plain": [
       "                                                  tokens     label\n",
       "0      presumo que essas partilhas tenham gerado um e...     Value\n",
       "1      essas partilhas tenham gerado um efeito bola d...     Value\n",
       "2      o post não tardou a chegar ao conhecimento da ...     Value\n",
       "3      esta questão ter [justificadamente] despertado...     Value\n",
       "4      a ocasião propicia um debate amplo na sociedad...     Value\n",
       "...                                                  ...       ...\n",
       "12016                            eticamente é reprovável  Value(-)\n",
       "12017  eticamente é reprovável e, o bom senso, aconse...     Value\n",
       "12018               o bom senso, aconselha a não o fazer     Value\n",
       "12019  Um presidente de câmara pode ter a sua preferê...     Value\n",
       "12020  abster-se de participar em órgãos sociais do s...    Policy\n",
       "\n",
       "[12021 rows x 2 columns]"
      ]
     },
     "execution_count": 14,
     "metadata": {},
     "output_type": "execute_result"
    }
   ],
   "source": [
    "grouped_df = ADUs.groupby(by=['article_id', 'ranges'])\n",
    "dataset_dict = {\"tokens\": [], \"label\": []}\n",
    "\n",
    "for i, group in grouped_df:\n",
    "    dict_counts = {x: group[\"label\"].value_counts()[x] for x in np.unique(group[['label']].values)}\n",
    "    final_label = max(dict_counts.items(), key=lambda x: x[1])\n",
    "    dataset_dict[\"tokens\"].append(group[\"tokens\"].values[0])\n",
    "    dataset_dict[\"label\"].append(final_label[0])\n",
    "    \n",
    "dataset = pd.DataFrame(dataset_dict, columns = [\"tokens\", \"label\"])\n",
    "dataset\n"
   ]
  },
  {
   "cell_type": "code",
   "execution_count": null,
   "id": "3c5fc298",
   "metadata": {
    "id": "3c5fc298",
    "outputId": "2f9e1e1e-8711-444b-9a65-21cee635bc31",
    "scrolled": true
   },
   "outputs": [
    {
     "name": "stdout",
     "output_type": "stream",
     "text": [
      "Value       8102\n",
      "Fact        3663\n",
      "Value(-)    2900\n",
      "Value(+)    1411\n",
      "Policy       667\n",
      "Name: label, dtype: int64\n"
     ]
    },
    {
     "data": {
      "text/plain": [
       "Value       5748\n",
       "Fact        3001\n",
       "Value(-)    1872\n",
       "Value(+)     889\n",
       "Policy       511\n",
       "Name: label, dtype: int64"
      ]
     },
     "execution_count": 7,
     "metadata": {},
     "output_type": "execute_result"
    }
   ],
   "source": [
    "print(ADUs[\"label\"].value_counts())\n",
    "dataset[\"label\"].value_counts()"
   ]
  },
  {
   "cell_type": "markdown",
   "id": "b1eb5ea7",
   "metadata": {
    "id": "b1eb5ea7"
   },
   "source": [
    "We managed to reduce the amount of rows in the dataframe -> some of them had repeated/conflictuous labels. "
   ]
  },
  {
   "cell_type": "markdown",
   "id": "f7c14ad6",
   "metadata": {
    "id": "f7c14ad6"
   },
   "source": [
    "## Analyzing Stopwords\n",
    "Some stopwords from `nltk` should not be ignored by the model, as they have correlation with the label."
   ]
  },
  {
   "cell_type": "code",
   "execution_count": 17,
   "id": "55aa6e11",
   "metadata": {
    "colab": {
     "base_uri": "https://localhost:8080/"
    },
    "id": "55aa6e11",
    "outputId": "2e09c15e-cb9e-4fbb-df12-45ccd40834cb"
   },
   "outputs": [
    {
     "name": "stdout",
     "output_type": "stream",
     "text": [
      "[nltk_data] Downloading package stopwords to /root/nltk_data...\n",
      "[nltk_data]   Unzipping corpora/stopwords.zip.\n"
     ]
    }
   ],
   "source": [
    "from nltk.corpus import stopwords\n",
    "import nltk\n",
    "\n",
    "stopwords_list = stopwords.words(\"portuguese\")\n",
    "\n",
    "\n",
    "stopwords_list.remove(\"não\")\n",
    "stopwords_list.remove(\"muito\")\n",
    "stopwords_list.remove(\"mais\")"
   ]
  },
  {
   "cell_type": "code",
   "execution_count": null,
   "id": "EKfXa4aa6-1_",
   "metadata": {
    "id": "EKfXa4aa6-1_"
   },
   "outputs": [],
   "source": [
    "!python -m spacy download pt_core_news_sm"
   ]
  },
  {
   "cell_type": "code",
   "execution_count": 25,
   "id": "JcZrVjyO6rGf",
   "metadata": {
    "colab": {
     "base_uri": "https://localhost:8080/"
    },
    "id": "JcZrVjyO6rGf",
    "outputId": "5e1a545b-b128-4346-9a43-a5721c8cc212"
   },
   "outputs": [
    {
     "name": "stdout",
     "output_type": "stream",
     "text": [
      "Os DET det\n",
      "combustíveis SYM nsubj\n",
      "atingiram VERB ROOT\n",
      "picos NOUN obj\n",
      "históricos ADJ amod\n",
      "na PROPN obj\n",
      "passada VERB acl\n",
      "sexta-feira NOUN obl\n",
      ". PUNCT punct\n"
     ]
    }
   ],
   "source": [
    "import spacy\n",
    "from spacy.lang.pt.examples import sentences \n",
    "import pt_core_news_sm\n",
    "\n",
    "nlp = pt_core_news_sm.load()\n",
    "test_sentence = \"Os combustíveis atingiram picos históricos na passada sexta-feira.\"\n",
    "for token in nlp(test_sentence):\n",
    "    print(token.text, token.pos_, token.dep_)"
   ]
  },
  {
   "cell_type": "code",
   "execution_count": 27,
   "id": "05330104",
   "metadata": {
    "colab": {
     "base_uri": "https://localhost:8080/"
    },
    "id": "05330104",
    "outputId": "74b2c474-f335-4eea-93ca-264489763e33"
   },
   "outputs": [
    {
     "name": "stdout",
     "output_type": "stream",
     "text": [
      "[nltk_data] Downloading package rslp to /root/nltk_data...\n",
      "[nltk_data]   Unzipping stemmers/rslp.zip.\n"
     ]
    }
   ],
   "source": [
    "import re\n",
    "#nltk.download('rslp')\n",
    "from nltk.stem import RSLPStemmer # portuguese stemmer\n",
    "corpus = []\n",
    "stemmer = RSLPStemmer()\n",
    "for i in range(0, dataset['tokens'].size):\n",
    "    # get review and remove non alpha chars\n",
    "    review = re.sub('[^a-zA-Z!?]', ' ', dataset['tokens'][i])\n",
    "    # to lower-case\n",
    "    review = review.lower()\n",
    "    # split into tokens, apply stemming and remove stop words\n",
    "    review = ' '.join([stemmer.stem(w) for w in review.split() if not w in stopwords_list])\n",
    "    corpus.append(review)\n",
    "\n",
    "#print(corpus)"
   ]
  },
  {
   "cell_type": "markdown",
   "id": "20758d56",
   "metadata": {
    "id": "20758d56"
   },
   "source": [
    "## POS-tagging"
   ]
  },
  {
   "cell_type": "code",
   "execution_count": 55,
   "id": "w8nnLIpjJY_I",
   "metadata": {
    "id": "w8nnLIpjJY_I"
   },
   "outputs": [],
   "source": [
    "#Add a new column with POS-tags that will be gathered next\n",
    "POS_list = []\n",
    "#ADUs[\"POS\"] = []\n",
    "\n",
    "for row in ADUs.iterrows():\n",
    "  POS_list.append((row[1][\"article_id\"] + row[1][\"ranges\"]))\n",
    "\n",
    "ADUs[\"POS\"] = POS_list"
   ]
  },
  {
   "cell_type": "code",
   "execution_count": 56,
   "id": "fc342396",
   "metadata": {
    "id": "fc342396"
   },
   "outputs": [],
   "source": [
    "import nltk\n",
    "\n",
    "\n",
    "for i, group in grouped_df:\n",
    "  article = articles.loc[articles[\"article_id\"] == i[0]]\n",
    "  \n",
    "  range = group[\"ranges\"].unique()[0]\n",
    "  start = eval(range)[0][0]\n",
    "  end = eval(range)[0][1] \n",
    "  body = article[\"body\"].values[0]\n",
    "  \n",
    "  body_sentences = nltk.tokenize.sent_tokenize(body)\n",
    "  current_pos, current_sent = 0,0\n",
    "  while current_pos < start:\n",
    "    if current_sent == len(body_sentences): break\n",
    "    current_pos += len(body_sentences[current_sent])\n",
    "    current_sent += 1\n",
    "  #print(body_sentences[current_sent - 1])\n",
    "  tags = [token.pos_ for token in nlp(body_sentences[current_sent - 1])]\n",
    "  test = ADUs.loc[ADUs[\"POS\"] == i[0] + i[1]]\n",
    "\n",
    "  ADUs[\"POS\"].replace(i[0] + i[1], \" \".join(tags), inplace=True)\n",
    "\n",
    "  "
   ]
  },
  {
   "cell_type": "code",
   "execution_count": 57,
   "id": "a2a07FHnXheO",
   "metadata": {
    "colab": {
     "base_uri": "https://localhost:8080/"
    },
    "id": "a2a07FHnXheO",
    "outputId": "96d3a377-c62e-4da3-9a9f-2c1a9783b25a"
   },
   "outputs": [
    {
     "data": {
      "text/plain": [
       "count                                    16743\n",
       "unique                                    5836\n",
       "top       DET NOUN VERB ADP DET ADJ NOUN PROPN\n",
       "freq                                        57\n",
       "Name: POS, dtype: object"
      ]
     },
     "execution_count": 57,
     "metadata": {},
     "output_type": "execute_result"
    }
   ],
   "source": [
    "ADUs[\"POS\"].describe()"
   ]
  },
  {
   "cell_type": "markdown",
   "id": "ymC5IPdeLlXz",
   "metadata": {
    "id": "ymC5IPdeLlXz"
   },
   "source": [
    "## Saving pre-processed data"
   ]
  },
  {
   "cell_type": "code",
   "execution_count": 59,
   "id": "y5EWgqivLp3s",
   "metadata": {
    "id": "y5EWgqivLp3s"
   },
   "outputs": [],
   "source": [
    "ADUs.to_excel(\"data/ADUs_pre-processed.xlsx\")"
   ]
  },
  {
   "cell_type": "markdown",
   "id": "8d472904",
   "metadata": {
    "id": "8d472904"
   },
   "source": [
    "\n",
    "## Generating a data set\n",
    "\n",
    "We need to transform the corpus into a collection that can be handled by a machine learning model. We will be using `sklearn`'s TfidfVectorizer class"
   ]
  },
  {
   "cell_type": "code",
   "execution_count": null,
   "id": "38e087a6",
   "metadata": {
    "id": "38e087a6"
   },
   "outputs": [],
   "source": [
    "from sklearn.feature_extraction.text import TfidfVectorizer\n",
    "\n",
    "#set max_features = 10000 to select k features with the highest corpus frequency\n",
    "vectorizer = TfidfVectorizer(ngram_range=(1,2), min_df = 3)\n",
    "X = vectorizer.fit_transform(corpus).toarray()\n",
    "\n",
    "print(X.shape)\n"
   ]
  },
  {
   "cell_type": "code",
   "execution_count": null,
   "id": "31bb571b",
   "metadata": {
    "id": "31bb571b"
   },
   "outputs": [],
   "source": [
    "print(vectorizer.get_feature_names())"
   ]
  },
  {
   "cell_type": "code",
   "execution_count": null,
   "id": "8569b63d",
   "metadata": {
    "colab": {
     "base_uri": "https://localhost:8080/"
    },
    "id": "8569b63d",
    "outputId": "47a1918b-f372-4e36-8cdc-ef10d9219b98"
   },
   "outputs": [
    {
     "name": "stdout",
     "output_type": "stream",
     "text": [
      "(12021,)\n",
      "0    Value\n",
      "1    Value\n",
      "2    Value\n",
      "3    Value\n",
      "4    Value\n",
      "Name: label, dtype: object\n"
     ]
    }
   ],
   "source": [
    "y = dataset[\"label\"]\n",
    "print(y.shape)\n",
    "print(y.head())"
   ]
  },
  {
   "cell_type": "markdown",
   "id": "67d10ef4",
   "metadata": {
    "id": "67d10ef4"
   },
   "source": [
    "## Splitting the dataset into training and testing\n",
    "\n",
    "The next step is to split the dataset into training and testing. We will be using a 80%-20% split. Since classes are unbalanced (*Value* examples are significantly more abundant than *Policy* examples), we need to stratify both sets -> try to get a similar class distribution for each set."
   ]
  },
  {
   "cell_type": "code",
   "execution_count": null,
   "id": "89bcae36",
   "metadata": {
    "colab": {
     "base_uri": "https://localhost:8080/"
    },
    "id": "89bcae36",
    "outputId": "5da8f0f9-5578-4ca1-a1cd-8b56c6235e1a"
   },
   "outputs": [
    {
     "name": "stdout",
     "output_type": "stream",
     "text": [
      "(9616, 8859) (9616,)\n",
      "(2405, 8859) (2405,)\n",
      "\n",
      "Label distribution in the training set:\n",
      "Value       4580\n",
      "Fact        2456\n",
      "Value(-)    1465\n",
      "Value(+)     707\n",
      "Policy       408\n",
      "Name: label, dtype: int64\n",
      "\n",
      "Label distribution in the test set:\n",
      "Value       1168\n",
      "Fact         545\n",
      "Value(-)     407\n",
      "Value(+)     182\n",
      "Policy       103\n",
      "Name: label, dtype: int64\n"
     ]
    }
   ],
   "source": [
    "from sklearn.model_selection import train_test_split\n",
    "\n",
    "X_train, X_test, y_train, y_test = train_test_split(X, y, test_size = 0.20)\n",
    "\n",
    "print(X_train.shape, y_train.shape)\n",
    "print(X_test.shape, y_test.shape)\n",
    "\n",
    "print(\"\\nLabel distribution in the training set:\")\n",
    "print(y_train.value_counts())\n",
    "\n",
    "print(\"\\nLabel distribution in the test set:\")\n",
    "print(y_test.value_counts())"
   ]
  },
  {
   "cell_type": "markdown",
   "id": "cea4a57b",
   "metadata": {
    "id": "cea4a57b"
   },
   "source": [
    "## Training the models\n"
   ]
  },
  {
   "cell_type": "code",
   "execution_count": null,
   "id": "592881a5",
   "metadata": {
    "id": "592881a5"
   },
   "outputs": [],
   "source": [
    "from sklearn.naive_bayes import MultinomialNB\n",
    "from sklearn.feature_selection import SelectKBest, chi2\n",
    "from sklearn.metrics import confusion_matrix, ConfusionMatrixDisplay\n",
    "from sklearn.metrics import accuracy_score\n",
    "from sklearn.metrics import precision_score\n",
    "from sklearn.metrics import recall_score\n",
    "from sklearn.metrics import f1_score\n",
    "from sklearn.multiclass import OneVsRestClassifier\n",
    "from sklearn.model_selection import GridSearchCV\n",
    "from sklearn.ensemble import RandomForestClassifier\n",
    "from sklearn.preprocessing import StandardScaler\n",
    "from sklearn.linear_model import SGDClassifier\n",
    "from sklearn.model_selection import StratifiedKFold\n",
    "from sklearn.experimental import enable_halving_search_cv\n",
    "from sklearn.model_selection import HalvingGridSearchCV\n",
    "from sklearn.svm import LinearSVC\n",
    "from sklearn.linear_model import LogisticRegression\n",
    "\n",
    "cross_validation = StratifiedKFold(n_splits=5)"
   ]
  },
  {
   "cell_type": "markdown",
   "id": "b7927013",
   "metadata": {
    "id": "b7927013"
   },
   "source": [
    "### Naive Bayes\n",
    "To start off, we will train a single (`Naive Bayes`) classifier that evaluates the likelihood of a document being of one of the 5 classes. This will set the baseline for which the improvements will be measured.\n"
   ]
  },
  {
   "cell_type": "code",
   "execution_count": null,
   "id": "50bd3bf2",
   "metadata": {
    "id": "50bd3bf2"
   },
   "outputs": [],
   "source": [
    "\n",
    "clf = MultinomialNB()\n",
    "clf.fit(X_train, y_train)\n",
    "\n",
    "y_pred = clf.predict(X_test)"
   ]
  },
  {
   "cell_type": "code",
   "execution_count": null,
   "id": "7785f776",
   "metadata": {
    "colab": {
     "base_uri": "https://localhost:8080/",
     "height": 540
    },
    "id": "7785f776",
    "outputId": "4d26655a-76a5-493b-f048-2f20bf448a33"
   },
   "outputs": [
    {
     "name": "stdout",
     "output_type": "stream",
     "text": [
      "Accuracy score:  0.49812889812889816\n"
     ]
    },
    {
     "name": "stderr",
     "output_type": "stream",
     "text": [
      "/usr/local/lib/python3.7/dist-packages/sklearn/metrics/_classification.py:1318: UndefinedMetricWarning: Precision is ill-defined and being set to 0.0 in labels with no predicted samples. Use `zero_division` parameter to control this behavior.\n",
      "  _warn_prf(average, modifier, msg_start, len(result))\n"
     ]
    },
    {
     "data": {
      "image/png": "[encoded data removed]",
      "text/plain": [
       "<Figure size 432x288 with 2 Axes>"
      ]
     },
     "metadata": {
      "needs_background": "light"
     },
     "output_type": "display_data"
    },
    {
     "data": {
      "text/html": [
       "\n",
       "  <div id=\"df-c8d7e5cf-bdfc-4033-9716-3781286affa1\">\n",
       "    <div class=\"colab-df-container\">\n",
       "      <div>\n",
       "<style scoped>\n",
       "    .dataframe tbody tr th:only-of-type {\n",
       "        vertical-align: middle;\n",
       "    }\n",
       "\n",
       "    .dataframe tbody tr th {\n",
       "        vertical-align: top;\n",
       "    }\n",
       "\n",
       "    .dataframe thead th {\n",
       "        text-align: right;\n",
       "    }\n",
       "</style>\n",
       "<table border=\"1\" class=\"dataframe\">\n",
       "  <thead>\n",
       "    <tr style=\"text-align: right;\">\n",
       "      <th></th>\n",
       "      <th>Precision</th>\n",
       "      <th>Recall</th>\n",
       "      <th>F1</th>\n",
       "    </tr>\n",
       "  </thead>\n",
       "  <tbody>\n",
       "    <tr>\n",
       "      <th>Fact</th>\n",
       "      <td>0.475676</td>\n",
       "      <td>0.161468</td>\n",
       "      <td>0.241096</td>\n",
       "    </tr>\n",
       "    <tr>\n",
       "      <th>Policy</th>\n",
       "      <td>0.000000</td>\n",
       "      <td>0.000000</td>\n",
       "      <td>0.000000</td>\n",
       "    </tr>\n",
       "    <tr>\n",
       "      <th>Value</th>\n",
       "      <td>0.499545</td>\n",
       "      <td>0.940925</td>\n",
       "      <td>0.652613</td>\n",
       "    </tr>\n",
       "    <tr>\n",
       "      <th>Value(+)</th>\n",
       "      <td>0.500000</td>\n",
       "      <td>0.010989</td>\n",
       "      <td>0.021505</td>\n",
       "    </tr>\n",
       "    <tr>\n",
       "      <th>Value(-)</th>\n",
       "      <td>0.562500</td>\n",
       "      <td>0.022113</td>\n",
       "      <td>0.042553</td>\n",
       "    </tr>\n",
       "  </tbody>\n",
       "</table>\n",
       "</div>\n",
       "      <button class=\"colab-df-convert\" onclick=\"convertToInteractive('df-c8d7e5cf-bdfc-4033-9716-3781286affa1')\"\n",
       "              title=\"Convert this dataframe to an interactive table.\"\n",
       "              style=\"display:none;\">\n",
       "        \n",
       "  <svg xmlns=\"http://www.w3.org/2000/svg\" height=\"24px\"viewBox=\"0 0 24 24\"\n",
       "       width=\"24px\">\n",
       "    <path d=\"M0 0h24v24H0V0z\" fill=\"none\"/>\n",
       "    <path d=\"M18.56 5.44l.94 2.06.94-2.06 2.06-.94-2.06-.94-.94-2.06-.94 2.06-2.06.94zm-11 1L8.5 8.5l.94-2.06 2.06-.94-2.06-.94L8.5 2.5l-.94 2.06-2.06.94zm10 10l.94 2.06.94-2.06 2.06-.94-2.06-.94-.94-2.06-.94 2.06-2.06.94z\"/><path d=\"M17.41 7.96l-1.37-1.37c-.4-.4-.92-.59-1.43-.59-.52 0-1.04.2-1.43.59L10.3 9.45l-7.72 7.72c-.78.78-.78 2.05 0 2.83L4 21.41c.39.39.9.59 1.41.59.51 0 1.02-.2 1.41-.59l7.78-7.78 2.81-2.81c.8-.78.8-2.07 0-2.86zM5.41 20L4 18.59l7.72-7.72 1.47 1.35L5.41 20z\"/>\n",
       "  </svg>\n",
       "      </button>\n",
       "      \n",
       "  <style>\n",
       "    .colab-df-container {\n",
       "      display:flex;\n",
       "      flex-wrap:wrap;\n",
       "      gap: 12px;\n",
       "    }\n",
       "\n",
       "    .colab-df-convert {\n",
       "      background-color: #E8F0FE;\n",
       "      border: none;\n",
       "      border-radius: 50%;\n",
       "      cursor: pointer;\n",
       "      display: none;\n",
       "      fill: #1967D2;\n",
       "      height: 32px;\n",
       "      padding: 0 0 0 0;\n",
       "      width: 32px;\n",
       "    }\n",
       "\n",
       "    .colab-df-convert:hover {\n",
       "      background-color: #E2EBFA;\n",
       "      box-shadow: 0px 1px 2px rgba(60, 64, 67, 0.3), 0px 1px 3px 1px rgba(60, 64, 67, 0.15);\n",
       "      fill: #174EA6;\n",
       "    }\n",
       "\n",
       "    [theme=dark] .colab-df-convert {\n",
       "      background-color: #3B4455;\n",
       "      fill: #D2E3FC;\n",
       "    }\n",
       "\n",
       "    [theme=dark] .colab-df-convert:hover {\n",
       "      background-color: #434B5C;\n",
       "      box-shadow: 0px 1px 3px 1px rgba(0, 0, 0, 0.15);\n",
       "      filter: drop-shadow(0px 1px 2px rgba(0, 0, 0, 0.3));\n",
       "      fill: #FFFFFF;\n",
       "    }\n",
       "  </style>\n",
       "\n",
       "      <script>\n",
       "        const buttonEl =\n",
       "          document.querySelector('#df-c8d7e5cf-bdfc-4033-9716-3781286affa1 button.colab-df-convert');\n",
       "        buttonEl.style.display =\n",
       "          google.colab.kernel.accessAllowed ? 'block' : 'none';\n",
       "\n",
       "        async function convertToInteractive(key) {\n",
       "          const element = document.querySelector('#df-c8d7e5cf-bdfc-4033-9716-3781286affa1');\n",
       "          const dataTable =\n",
       "            await google.colab.kernel.invokeFunction('convertToInteractive',\n",
       "                                                     [key], {});\n",
       "          if (!dataTable) return;\n",
       "\n",
       "          const docLinkHtml = 'Like what you see? Visit the ' +\n",
       "            '<a target=\"_blank\" href=https://colab.research.google.com/notebooks/data_table.ipynb>data table notebook</a>'\n",
       "            + ' to learn more about interactive tables.';\n",
       "          element.innerHTML = '';\n",
       "          dataTable['output_type'] = 'display_data';\n",
       "          await google.colab.output.renderOutput(dataTable, element);\n",
       "          const docLink = document.createElement('div');\n",
       "          docLink.innerHTML = docLinkHtml;\n",
       "          element.appendChild(docLink);\n",
       "        }\n",
       "      </script>\n",
       "    </div>\n",
       "  </div>\n",
       "  "
      ],
      "text/plain": [
       "          Precision    Recall        F1\n",
       "Fact       0.475676  0.161468  0.241096\n",
       "Policy     0.000000  0.000000  0.000000\n",
       "Value      0.499545  0.940925  0.652613\n",
       "Value(+)   0.500000  0.010989  0.021505\n",
       "Value(-)   0.562500  0.022113  0.042553"
      ]
     },
     "execution_count": 25,
     "metadata": {},
     "output_type": "execute_result"
    }
   ],
   "source": [
    "\n",
    "def print_metrics(y_test, y_pred, classes):\n",
    "    cm = confusion_matrix(y_test, y_pred, labels = clf.classes_)\n",
    "    disp = ConfusionMatrixDisplay(confusion_matrix=cm, display_labels=clf.classes_)\n",
    "    disp.plot()\n",
    "    print(\"Accuracy score: \", accuracy_score(y_test, y_pred))\n",
    "    metrics_df = pd.DataFrame({\"Precision\": precision_score(y_test, y_pred, labels = classes, average = None).tolist(),\n",
    "                              \"Recall\": recall_score(y_test, y_pred, labels = classes, average = None).tolist(),\n",
    "                              \"F1\": f1_score(y_test, y_pred, labels = classes, average = None).tolist()},\n",
    "                             index = classes)\n",
    "    \n",
    "    plt.show()\n",
    "    return metrics_df.head()\n",
    "    \n",
    "print_metrics(y_test, y_pred, clf.classes_)"
   ]
  },
  {
   "cell_type": "markdown",
   "id": "65a15889",
   "metadata": {
    "id": "65a15889"
   },
   "source": [
    "Since some classifiers like SVM and Logistic Regression cannot handle multi-class classification, let's use the One vs Rest classifier. This way, we can transform this problem into a binary classification problem -> one classifier for each class."
   ]
  },
  {
   "cell_type": "code",
   "execution_count": null,
   "id": "1855c726",
   "metadata": {
    "colab": {
     "base_uri": "https://localhost:8080/",
     "height": 592
    },
    "id": "1855c726",
    "outputId": "f62488a5-e0bd-4e94-d3a9-d5831f3d1b3b"
   },
   "outputs": [
    {
     "name": "stdout",
     "output_type": "stream",
     "text": [
      "Fitting 5 folds for each of 50 candidates, totalling 250 fits\n"
     ]
    },
    {
     "name": "stderr",
     "output_type": "stream",
     "text": [
      "/usr/local/lib/python3.7/dist-packages/joblib/externals/loky/process_executor.py:705: UserWarning: A worker stopped while some jobs were given to the executor. This can be caused by a too short worker timeout or by a memory leak.\n",
      "  \"timeout or by a memory leak.\", UserWarning\n"
     ]
    },
    {
     "name": "stdout",
     "output_type": "stream",
     "text": [
      "Accuracy score:  0.4856548856548857\n"
     ]
    },
    {
     "name": "stderr",
     "output_type": "stream",
     "text": [
      "/usr/local/lib/python3.7/dist-packages/sklearn/metrics/_classification.py:1318: UndefinedMetricWarning: Precision is ill-defined and being set to 0.0 in labels with no predicted samples. Use `zero_division` parameter to control this behavior.\n",
      "  _warn_prf(average, modifier, msg_start, len(result))\n"
     ]
    },
    {
     "data": {
      "image/png": "[encoded data removed]",
      "text/plain": [
       "<Figure size 432x288 with 2 Axes>"
      ]
     },
     "metadata": {
      "needs_background": "light"
     },
     "output_type": "display_data"
    },
    {
     "data": {
      "text/html": [
       "\n",
       "  <div id=\"df-d4d0ad84-b163-4be8-902e-32fd36c41d12\">\n",
       "    <div class=\"colab-df-container\">\n",
       "      <div>\n",
       "<style scoped>\n",
       "    .dataframe tbody tr th:only-of-type {\n",
       "        vertical-align: middle;\n",
       "    }\n",
       "\n",
       "    .dataframe tbody tr th {\n",
       "        vertical-align: top;\n",
       "    }\n",
       "\n",
       "    .dataframe thead th {\n",
       "        text-align: right;\n",
       "    }\n",
       "</style>\n",
       "<table border=\"1\" class=\"dataframe\">\n",
       "  <thead>\n",
       "    <tr style=\"text-align: right;\">\n",
       "      <th></th>\n",
       "      <th>Precision</th>\n",
       "      <th>Recall</th>\n",
       "      <th>F1</th>\n",
       "    </tr>\n",
       "  </thead>\n",
       "  <tbody>\n",
       "    <tr>\n",
       "      <th>Fact</th>\n",
       "      <td>0.000000</td>\n",
       "      <td>0.0</td>\n",
       "      <td>0.000000</td>\n",
       "    </tr>\n",
       "    <tr>\n",
       "      <th>Policy</th>\n",
       "      <td>0.000000</td>\n",
       "      <td>0.0</td>\n",
       "      <td>0.000000</td>\n",
       "    </tr>\n",
       "    <tr>\n",
       "      <th>Value</th>\n",
       "      <td>0.485655</td>\n",
       "      <td>1.0</td>\n",
       "      <td>0.653792</td>\n",
       "    </tr>\n",
       "    <tr>\n",
       "      <th>Value(+)</th>\n",
       "      <td>0.000000</td>\n",
       "      <td>0.0</td>\n",
       "      <td>0.000000</td>\n",
       "    </tr>\n",
       "    <tr>\n",
       "      <th>Value(-)</th>\n",
       "      <td>0.000000</td>\n",
       "      <td>0.0</td>\n",
       "      <td>0.000000</td>\n",
       "    </tr>\n",
       "  </tbody>\n",
       "</table>\n",
       "</div>\n",
       "      <button class=\"colab-df-convert\" onclick=\"convertToInteractive('df-d4d0ad84-b163-4be8-902e-32fd36c41d12')\"\n",
       "              title=\"Convert this dataframe to an interactive table.\"\n",
       "              style=\"display:none;\">\n",
       "        \n",
       "  <svg xmlns=\"http://www.w3.org/2000/svg\" height=\"24px\"viewBox=\"0 0 24 24\"\n",
       "       width=\"24px\">\n",
       "    <path d=\"M0 0h24v24H0V0z\" fill=\"none\"/>\n",
       "    <path d=\"M18.56 5.44l.94 2.06.94-2.06 2.06-.94-2.06-.94-.94-2.06-.94 2.06-2.06.94zm-11 1L8.5 8.5l.94-2.06 2.06-.94-2.06-.94L8.5 2.5l-.94 2.06-2.06.94zm10 10l.94 2.06.94-2.06 2.06-.94-2.06-.94-.94-2.06-.94 2.06-2.06.94z\"/><path d=\"M17.41 7.96l-1.37-1.37c-.4-.4-.92-.59-1.43-.59-.52 0-1.04.2-1.43.59L10.3 9.45l-7.72 7.72c-.78.78-.78 2.05 0 2.83L4 21.41c.39.39.9.59 1.41.59.51 0 1.02-.2 1.41-.59l7.78-7.78 2.81-2.81c.8-.78.8-2.07 0-2.86zM5.41 20L4 18.59l7.72-7.72 1.47 1.35L5.41 20z\"/>\n",
       "  </svg>\n",
       "      </button>\n",
       "      \n",
       "  <style>\n",
       "    .colab-df-container {\n",
       "      display:flex;\n",
       "      flex-wrap:wrap;\n",
       "      gap: 12px;\n",
       "    }\n",
       "\n",
       "    .colab-df-convert {\n",
       "      background-color: #E8F0FE;\n",
       "      border: none;\n",
       "      border-radius: 50%;\n",
       "      cursor: pointer;\n",
       "      display: none;\n",
       "      fill: #1967D2;\n",
       "      height: 32px;\n",
       "      padding: 0 0 0 0;\n",
       "      width: 32px;\n",
       "    }\n",
       "\n",
       "    .colab-df-convert:hover {\n",
       "      background-color: #E2EBFA;\n",
       "      box-shadow: 0px 1px 2px rgba(60, 64, 67, 0.3), 0px 1px 3px 1px rgba(60, 64, 67, 0.15);\n",
       "      fill: #174EA6;\n",
       "    }\n",
       "\n",
       "    [theme=dark] .colab-df-convert {\n",
       "      background-color: #3B4455;\n",
       "      fill: #D2E3FC;\n",
       "    }\n",
       "\n",
       "    [theme=dark] .colab-df-convert:hover {\n",
       "      background-color: #434B5C;\n",
       "      box-shadow: 0px 1px 3px 1px rgba(0, 0, 0, 0.15);\n",
       "      filter: drop-shadow(0px 1px 2px rgba(0, 0, 0, 0.3));\n",
       "      fill: #FFFFFF;\n",
       "    }\n",
       "  </style>\n",
       "\n",
       "      <script>\n",
       "        const buttonEl =\n",
       "          document.querySelector('#df-d4d0ad84-b163-4be8-902e-32fd36c41d12 button.colab-df-convert');\n",
       "        buttonEl.style.display =\n",
       "          google.colab.kernel.accessAllowed ? 'block' : 'none';\n",
       "\n",
       "        async function convertToInteractive(key) {\n",
       "          const element = document.querySelector('#df-d4d0ad84-b163-4be8-902e-32fd36c41d12');\n",
       "          const dataTable =\n",
       "            await google.colab.kernel.invokeFunction('convertToInteractive',\n",
       "                                                     [key], {});\n",
       "          if (!dataTable) return;\n",
       "\n",
       "          const docLinkHtml = 'Like what you see? Visit the ' +\n",
       "            '<a target=\"_blank\" href=https://colab.research.google.com/notebooks/data_table.ipynb>data table notebook</a>'\n",
       "            + ' to learn more about interactive tables.';\n",
       "          element.innerHTML = '';\n",
       "          dataTable['output_type'] = 'display_data';\n",
       "          await google.colab.output.renderOutput(dataTable, element);\n",
       "          const docLink = document.createElement('div');\n",
       "          docLink.innerHTML = docLinkHtml;\n",
       "          element.appendChild(docLink);\n",
       "        }\n",
       "      </script>\n",
       "    </div>\n",
       "  </div>\n",
       "  "
      ],
      "text/plain": [
       "          Precision  Recall        F1\n",
       "Fact       0.000000     0.0  0.000000\n",
       "Policy     0.000000     0.0  0.000000\n",
       "Value      0.485655     1.0  0.653792\n",
       "Value(+)   0.000000     0.0  0.000000\n",
       "Value(-)   0.000000     0.0  0.000000"
      ]
     },
     "execution_count": 29,
     "metadata": {},
     "output_type": "execute_result"
    }
   ],
   "source": [
    "\n",
    "\n",
    "model_to_set = RandomForestClassifier(n_jobs=-1)\n",
    "\n",
    "cross_validation = StratifiedKFold(n_splits=5)\n",
    "parameters = {\n",
    "    \"max_depth\": [int(x) for x in np.linspace(10, 110, num=5)],\n",
    "    \"min_samples_leaf\": [int(x) for x in np.linspace(50, 2000, num=5)],\n",
    "    \"criterion\": [\"gini\", \"entropy\"]\n",
    "}\n",
    "\n",
    "model_tunning = GridSearchCV(model_to_set, param_grid=parameters,\n",
    "                             scoring=\"accuracy\", cv=cross_validation, n_jobs=-1, verbose=1)\n",
    "\n",
    "model_tunning.fit(X_train, y_train)\n",
    "model_tunning.best_score_\n",
    "print_metrics(y_test, model_tunning.predict(X_test), clf.classes_)\n"
   ]
  },
  {
   "cell_type": "markdown",
   "id": "46f104a2",
   "metadata": {
    "id": "46f104a2"
   },
   "source": [
    "## Scaling the data\n",
    "\n",
    "Some linear models (like SVM or SGD classifiers) use euclidean distances and benefit from the normalization of the data."
   ]
  },
  {
   "cell_type": "code",
   "execution_count": null,
   "id": "19f11b49",
   "metadata": {
    "id": "19f11b49"
   },
   "outputs": [],
   "source": [
    "\n",
    "\n",
    "scaler = StandardScaler()\n",
    "scaler.fit(X_train)\n",
    "X_train = scaler.transform(X_train)\n",
    "X_test = scaler.transform(X_test)"
   ]
  },
  {
   "cell_type": "markdown",
   "id": "b2e806e7",
   "metadata": {
    "id": "b2e806e7"
   },
   "source": [
    "## SGD Classifier\n",
    "\n",
    "Let's now apply the Stochastic Gradient Descent optimization with a linear SVM model (`loss='hinge'`) and a Logistic Regression model (`loss=log`). Moreover, we can tune some hyperparameters to get the best possible model.\n",
    "SGD implementation from sklearn optimizes the loss function to converge faster, as they use stochastic gradient descent instead of gradient descent."
   ]
  },
  {
   "cell_type": "code",
   "execution_count": null,
   "id": "81cf1d9a",
   "metadata": {
    "id": "81cf1d9a",
    "outputId": "6972c6ab-09fc-4b59-fca1-fb9dc15b7ebd",
    "scrolled": true
   },
   "outputs": [
    {
     "name": "stdout",
     "output_type": "stream",
     "text": [
      "Fitting 5 folds for each of 8 candidates, totalling 40 fits\n",
      "{'alpha': 0.0001, 'loss': 'modified_huber'}\n",
      "Accuracy score:  0.47442827442827445\n"
     ]
    },
    {
     "data": {
      "image/png": "[encoded data removed]",
      "text/plain": [
       "<Figure size 460.8x403.2 with 2 Axes>"
      ]
     },
     "metadata": {},
     "output_type": "display_data"
    },
    {
     "data": {
      "text/html": [
       "<div>\n",
       "<style scoped>\n",
       "    .dataframe tbody tr th:only-of-type {\n",
       "        vertical-align: middle;\n",
       "    }\n",
       "\n",
       "    .dataframe tbody tr th {\n",
       "        vertical-align: top;\n",
       "    }\n",
       "\n",
       "    .dataframe thead th {\n",
       "        text-align: right;\n",
       "    }\n",
       "</style>\n",
       "<table border=\"1\" class=\"dataframe\">\n",
       "  <thead>\n",
       "    <tr style=\"text-align: right;\">\n",
       "      <th></th>\n",
       "      <th>Precision</th>\n",
       "      <th>Recall</th>\n",
       "      <th>F1</th>\n",
       "    </tr>\n",
       "  </thead>\n",
       "  <tbody>\n",
       "    <tr>\n",
       "      <th>Fact</th>\n",
       "      <td>0.401141</td>\n",
       "      <td>0.357627</td>\n",
       "      <td>0.378136</td>\n",
       "    </tr>\n",
       "    <tr>\n",
       "      <th>Policy</th>\n",
       "      <td>0.514286</td>\n",
       "      <td>0.165138</td>\n",
       "      <td>0.250000</td>\n",
       "    </tr>\n",
       "    <tr>\n",
       "      <th>Value</th>\n",
       "      <td>0.519344</td>\n",
       "      <td>0.696570</td>\n",
       "      <td>0.595041</td>\n",
       "    </tr>\n",
       "    <tr>\n",
       "      <th>Value(+)</th>\n",
       "      <td>0.333333</td>\n",
       "      <td>0.105556</td>\n",
       "      <td>0.160338</td>\n",
       "    </tr>\n",
       "    <tr>\n",
       "      <th>Value(-)</th>\n",
       "      <td>0.385496</td>\n",
       "      <td>0.259640</td>\n",
       "      <td>0.310292</td>\n",
       "    </tr>\n",
       "  </tbody>\n",
       "</table>\n",
       "</div>"
      ],
      "text/plain": [
       "          Precision    Recall        F1\n",
       "Fact       0.401141  0.357627  0.378136\n",
       "Policy     0.514286  0.165138  0.250000\n",
       "Value      0.519344  0.696570  0.595041\n",
       "Value(+)   0.333333  0.105556  0.160338\n",
       "Value(-)   0.385496  0.259640  0.310292"
      ]
     },
     "execution_count": 29,
     "metadata": {},
     "output_type": "execute_result"
    }
   ],
   "source": [
    "\n",
    "\n",
    "\n",
    "\"\"\"\n",
    "l1-regularization -> 'built-in' feature selection (fewer features)\n",
    "l2-regularization -> Prefers weight vectors with many small weights\n",
    "\"\"\"\n",
    "\n",
    "max_iterations = 10**6/np.ceil(X_train.shape[0] / 10) #Empirically,the model converges after 10^6/n where n \n",
    "                                        # the size of the test set\n",
    "\n",
    "sgd_model = SGDClassifier(penalty=\"l2\", \n",
    "                          max_iter=np.ceil(max_iterations/10), average=True)\n",
    "sgd_gs = GridSearchCV(sgd_model, n_jobs=-1, param_grid={\n",
    "    \"alpha\": 10.0**-np.arange(1,5),\n",
    "    \"loss\": ['log', 'modified_huber']\n",
    "}, cv=cross_validation, scoring=\"f1_weighted\", verbose = 1)\n",
    "\n",
    "sgd_gs.fit(X_train, y_train)\n",
    "#sgd_gs.best_score_\n",
    "print(sgd_gs.best_params_)\n",
    "print_metrics(y_test, sgd_gs.predict(X_test), sgd_gs.classes_)"
   ]
  },
  {
   "cell_type": "code",
   "execution_count": null,
   "id": "1c7caa0b",
   "metadata": {
    "id": "1c7caa0b"
   },
   "outputs": [],
   "source": [
    "# Linear SVM model -> loss = 'hinge'\n",
    "\n",
    "sgd_classifier = SGDClassifier(n_jobs=-1, penalty=\"l2\", verbose = 1, shuffle=True, \n",
    "                               loss=\"hinge\", max_iter=max_iterations)\n",
    "\n",
    "sgd_classifier.fit(X_train, y_train)\n",
    "print_metrics(y_test, sgd_classifier.predict(X_test), sgd_classifier.classes_)"
   ]
  },
  {
   "cell_type": "markdown",
   "id": "64e3ef22",
   "metadata": {
    "id": "64e3ef22"
   },
   "source": [
    "## Linear SVM Classifier\n",
    "To establish a comparison in terms of performance, we will use the Linear SVM classifier.\n"
   ]
  },
  {
   "cell_type": "code",
   "execution_count": null,
   "id": "bbfcdd41",
   "metadata": {
    "colab": {
     "base_uri": "https://localhost:8080/",
     "height": 867
    },
    "id": "bbfcdd41",
    "outputId": "ad0e8657-42f7-4b18-a852-b60011edd0a7",
    "scrolled": true
   },
   "outputs": [
    {
     "name": "stdout",
     "output_type": "stream",
     "text": [
      "n_iterations: 3\n",
      "n_required_iterations: 3\n",
      "n_possible_iterations: 3\n",
      "min_resources_: 1068\n",
      "max_resources_: 9616\n",
      "aggressive_elimination: False\n",
      "factor: 3\n",
      "----------\n",
      "iter: 0\n",
      "n_candidates: 10\n",
      "n_resources: 1068\n",
      "Fitting 5 folds for each of 10 candidates, totalling 50 fits\n",
      "----------\n",
      "iter: 1\n",
      "n_candidates: 4\n",
      "n_resources: 3204\n",
      "Fitting 5 folds for each of 4 candidates, totalling 20 fits\n",
      "----------\n",
      "iter: 2\n",
      "n_candidates: 2\n",
      "n_resources: 9612\n",
      "Fitting 5 folds for each of 2 candidates, totalling 10 fits\n",
      "[LibLinear]Accuracy score:  0.5068607068607068\n"
     ]
    },
    {
     "data": {
      "image/png": "[encoded data removed]",
      "text/plain": [
       "<Figure size 432x288 with 2 Axes>"
      ]
     },
     "metadata": {
      "needs_background": "light"
     },
     "output_type": "display_data"
    },
    {
     "data": {
      "text/html": [
       "\n",
       "  <div id=\"df-562b2d56-2b0e-474e-9390-d35df57a6916\">\n",
       "    <div class=\"colab-df-container\">\n",
       "      <div>\n",
       "<style scoped>\n",
       "    .dataframe tbody tr th:only-of-type {\n",
       "        vertical-align: middle;\n",
       "    }\n",
       "\n",
       "    .dataframe tbody tr th {\n",
       "        vertical-align: top;\n",
       "    }\n",
       "\n",
       "    .dataframe thead th {\n",
       "        text-align: right;\n",
       "    }\n",
       "</style>\n",
       "<table border=\"1\" class=\"dataframe\">\n",
       "  <thead>\n",
       "    <tr style=\"text-align: right;\">\n",
       "      <th></th>\n",
       "      <th>Precision</th>\n",
       "      <th>Recall</th>\n",
       "      <th>F1</th>\n",
       "    </tr>\n",
       "  </thead>\n",
       "  <tbody>\n",
       "    <tr>\n",
       "      <th>Fact</th>\n",
       "      <td>0.582609</td>\n",
       "      <td>0.122936</td>\n",
       "      <td>0.203030</td>\n",
       "    </tr>\n",
       "    <tr>\n",
       "      <th>Policy</th>\n",
       "      <td>0.476190</td>\n",
       "      <td>0.388350</td>\n",
       "      <td>0.427807</td>\n",
       "    </tr>\n",
       "    <tr>\n",
       "      <th>Value</th>\n",
       "      <td>0.504155</td>\n",
       "      <td>0.934932</td>\n",
       "      <td>0.655069</td>\n",
       "    </tr>\n",
       "    <tr>\n",
       "      <th>Value(+)</th>\n",
       "      <td>0.480000</td>\n",
       "      <td>0.065934</td>\n",
       "      <td>0.115942</td>\n",
       "    </tr>\n",
       "    <tr>\n",
       "      <th>Value(-)</th>\n",
       "      <td>0.533333</td>\n",
       "      <td>0.019656</td>\n",
       "      <td>0.037915</td>\n",
       "    </tr>\n",
       "  </tbody>\n",
       "</table>\n",
       "</div>\n",
       "      <button class=\"colab-df-convert\" onclick=\"convertToInteractive('df-562b2d56-2b0e-474e-9390-d35df57a6916')\"\n",
       "              title=\"Convert this dataframe to an interactive table.\"\n",
       "              style=\"display:none;\">\n",
       "        \n",
       "  <svg xmlns=\"http://www.w3.org/2000/svg\" height=\"24px\"viewBox=\"0 0 24 24\"\n",
       "       width=\"24px\">\n",
       "    <path d=\"M0 0h24v24H0V0z\" fill=\"none\"/>\n",
       "    <path d=\"M18.56 5.44l.94 2.06.94-2.06 2.06-.94-2.06-.94-.94-2.06-.94 2.06-2.06.94zm-11 1L8.5 8.5l.94-2.06 2.06-.94-2.06-.94L8.5 2.5l-.94 2.06-2.06.94zm10 10l.94 2.06.94-2.06 2.06-.94-2.06-.94-.94-2.06-.94 2.06-2.06.94z\"/><path d=\"M17.41 7.96l-1.37-1.37c-.4-.4-.92-.59-1.43-.59-.52 0-1.04.2-1.43.59L10.3 9.45l-7.72 7.72c-.78.78-.78 2.05 0 2.83L4 21.41c.39.39.9.59 1.41.59.51 0 1.02-.2 1.41-.59l7.78-7.78 2.81-2.81c.8-.78.8-2.07 0-2.86zM5.41 20L4 18.59l7.72-7.72 1.47 1.35L5.41 20z\"/>\n",
       "  </svg>\n",
       "      </button>\n",
       "      \n",
       "  <style>\n",
       "    .colab-df-container {\n",
       "      display:flex;\n",
       "      flex-wrap:wrap;\n",
       "      gap: 12px;\n",
       "    }\n",
       "\n",
       "    .colab-df-convert {\n",
       "      background-color: #E8F0FE;\n",
       "      border: none;\n",
       "      border-radius: 50%;\n",
       "      cursor: pointer;\n",
       "      display: none;\n",
       "      fill: #1967D2;\n",
       "      height: 32px;\n",
       "      padding: 0 0 0 0;\n",
       "      width: 32px;\n",
       "    }\n",
       "\n",
       "    .colab-df-convert:hover {\n",
       "      background-color: #E2EBFA;\n",
       "      box-shadow: 0px 1px 2px rgba(60, 64, 67, 0.3), 0px 1px 3px 1px rgba(60, 64, 67, 0.15);\n",
       "      fill: #174EA6;\n",
       "    }\n",
       "\n",
       "    [theme=dark] .colab-df-convert {\n",
       "      background-color: #3B4455;\n",
       "      fill: #D2E3FC;\n",
       "    }\n",
       "\n",
       "    [theme=dark] .colab-df-convert:hover {\n",
       "      background-color: #434B5C;\n",
       "      box-shadow: 0px 1px 3px 1px rgba(0, 0, 0, 0.15);\n",
       "      filter: drop-shadow(0px 1px 2px rgba(0, 0, 0, 0.3));\n",
       "      fill: #FFFFFF;\n",
       "    }\n",
       "  </style>\n",
       "\n",
       "      <script>\n",
       "        const buttonEl =\n",
       "          document.querySelector('#df-562b2d56-2b0e-474e-9390-d35df57a6916 button.colab-df-convert');\n",
       "        buttonEl.style.display =\n",
       "          google.colab.kernel.accessAllowed ? 'block' : 'none';\n",
       "\n",
       "        async function convertToInteractive(key) {\n",
       "          const element = document.querySelector('#df-562b2d56-2b0e-474e-9390-d35df57a6916');\n",
       "          const dataTable =\n",
       "            await google.colab.kernel.invokeFunction('convertToInteractive',\n",
       "                                                     [key], {});\n",
       "          if (!dataTable) return;\n",
       "\n",
       "          const docLinkHtml = 'Like what you see? Visit the ' +\n",
       "            '<a target=\"_blank\" href=https://colab.research.google.com/notebooks/data_table.ipynb>data table notebook</a>'\n",
       "            + ' to learn more about interactive tables.';\n",
       "          element.innerHTML = '';\n",
       "          dataTable['output_type'] = 'display_data';\n",
       "          await google.colab.output.renderOutput(dataTable, element);\n",
       "          const docLink = document.createElement('div');\n",
       "          docLink.innerHTML = docLinkHtml;\n",
       "          element.appendChild(docLink);\n",
       "        }\n",
       "      </script>\n",
       "    </div>\n",
       "  </div>\n",
       "  "
      ],
      "text/plain": [
       "          Precision    Recall        F1\n",
       "Fact       0.582609  0.122936  0.203030\n",
       "Policy     0.476190  0.388350  0.427807\n",
       "Value      0.504155  0.934932  0.655069\n",
       "Value(+)   0.480000  0.065934  0.115942\n",
       "Value(-)   0.533333  0.019656  0.037915"
      ]
     },
     "execution_count": 31,
     "metadata": {},
     "output_type": "execute_result"
    }
   ],
   "source": [
    "\n",
    "\n",
    "\n",
    "svm_model = LinearSVC(class_weight=\"balanced\", verbose=1)\n",
    "\n",
    "svm_gs = HalvingGridSearchCV(svm_model, n_jobs=-1, param_grid = {\n",
    "    \"C\": np.logspace(-4,4,5),\n",
    "    \"loss\": [\"hinge\", \"squared_hinge\"]\n",
    "}, cv=5, scoring=\"accuracy\", verbose=3)\n",
    "\n",
    "svm_gs.fit(X_train, y_train)\n",
    "print_metrics(y_test, svm_gs.predict(X_test), svm_gs.classes_)"
   ]
  },
  {
   "cell_type": "markdown",
   "id": "fe151ab2",
   "metadata": {
    "id": "fe151ab2"
   },
   "source": [
    "## Logistic Regression Classifier\n",
    "We can now do the same apply the Logistic Regression classifier and compare it with the previously obtained models with SGD optimization.\n"
   ]
  },
  {
   "cell_type": "code",
   "execution_count": null,
   "id": "643386cd",
   "metadata": {
    "id": "643386cd"
   },
   "outputs": [],
   "source": [
    "\n",
    "# Logistic Regression model\n",
    "lr_model = LogisticRegression(n_jobs=-1, verbose=1)\n",
    "\n",
    "lr_gs = GridSearchCV(lr_model, n_jobs=-1, param_grid={\n",
    "    \"max_iter\": [100, 200, 500, 1000],\n",
    "    \"solver\": [\"sag\", 'saga', 'lbfgs', \"newton-cg\"],\n",
    "    \"C\": np.logspace(-4, 4, 20)\n",
    "}, cv=cross_validation, scoring=\"accuracy\", verbose = True)\n",
    "\n",
    "lr_gs.fit(X_train, y_train)\n",
    "print_metrics(y_test, lr_gs.predict(X_test), lr_gs.classes_)"
   ]
  },
  {
   "cell_type": "code",
   "execution_count": null,
   "id": "09d8737e",
   "metadata": {
    "id": "09d8737e"
   },
   "outputs": [],
   "source": []
  }
 ],
 "metadata": {
  "colab": {
   "name": "assignment1.ipynb",
   "provenance": [],
   "toc_visible": true
  },
  "kernelspec": {
   "display_name": "Python 3 (ipykernel)",
   "language": "python",
   "name": "python3"
  },
  "language_info": {
   "codemirror_mode": {
    "name": "ipython",
    "version": 3
   },
   "file_extension": ".py",
   "mimetype": "text/x-python",
   "name": "python",
   "nbconvert_exporter": "python",
   "pygments_lexer": "ipython3",
   "version": "3.8.8"
  }
 },
 "nbformat": 4,
 "nbformat_minor": 5
}
