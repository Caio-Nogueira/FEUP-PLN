{
 "cells": [
  {
   "cell_type": "markdown",
   "id": "c902a82e",
   "metadata": {
    "id": "c902a82e"
   },
   "source": [
    "# PLN Assignment 1\n",
    "\n",
    "In the scope of the DARGMINTS project, an annotation project was carried out which consisted of annotating argumentation structures in opinion articles published in the Público newspaper. The annotation included several layers:\n",
    "\n",
    "Selecting text spans that are taken to have an argumentative role (either as premises or conclusions of arguments) -- these are Argumentative Discourse Units (ADU).\n",
    "Connecting such ADUs through support or attack relations.\n",
    "Classifying the propositional content of ADUs as propositions of fact, propositions of value, or propositions of policy; within propositions of value, distinguish between those with a positive (+) or negative (-) connotation.\n",
    "In a proposition of fact, the content corresponds to a piece of information that can be checked for truthness. This does not usually happen with propositions of value, which denote value judgments with a strong subjective nature; often, they also have a (positive or negative) polarity attached. A proposition of policy prescribes or suggests a certain line of action, often mentioning the agents or entities that are capable of carrying out such policies.\n",
    "\n",
    "The aim of this assignment is to build a classifier of types of ADUs, thus focusing on the last annotation step described above. For that, you have access to two different files:\n",
    "\n",
    "A file containing the content of each annotated ADU span and its 5-class classification: Value, Value(+), Value(-), Fact, or Policy. For each ADU, we also know the annotator and the document from which it has been taken.\n",
    "A file containing details for each opinion article that has been annotated, including the full article content.\n",
    "Besides ADU contents, you can make use of any contextual information provided in the corresponding opinion article.\n",
    "\n",
    "Each opinion article has been annotated by 3 different annotators. For that reason, you will find in the ADU file an indication of which annotator has obtained the ADU. It may happen that the same ADU has been annotated by more than one annotator. When that is the case, they do not necessarily agree on the type of proposition.\n",
    "\n",
    "How good a classifier (or set of classifiers) can you get? Don't forget to properly split the dataset in a sensible manner, so that you have a proper test set. Start by obtaining an arbitrary baseline, against which you can then compare your improvements.\n",
    "\n",
    "## Importing the data\n",
    "\n",
    "In order to fulfill this NLP task we will use `pandas`, `sklearn`, `nltk`, `numpy`, `matplotlib`, `seaborn` and other Python libraries\n"
   ]
  },
  {
   "cell_type": "code",
   "execution_count": 2,
   "id": "iEQIK6AV3ieB",
   "metadata": {
    "colab": {
     "base_uri": "https://localhost:8080/"
    },
    "id": "iEQIK6AV3ieB",
    "outputId": "ae671dfd-03b8-4369-c6d4-01f20239b127"
   },
   "outputs": [
    {
     "name": "stdout",
     "output_type": "stream",
     "text": [
      "/content/FEUP-PLN\n"
     ]
    }
   ],
   "source": [
    "%cd FEUP-PLN"
   ]
  },
  {
   "cell_type": "code",
   "execution_count": 1,
   "id": "16d43f8a",
   "metadata": {
    "colab": {
     "base_uri": "https://localhost:8080/"
    },
    "id": "16d43f8a",
    "outputId": "d9ed2cab-3920-453b-a91e-da728bf11a3d"
   },
   "outputs": [
    {
     "data": {
      "text/plain": [
       "False"
      ]
     },
     "execution_count": 1,
     "metadata": {},
     "output_type": "execute_result"
    }
   ],
   "source": [
    "import pandas as pd\n",
    "import numpy as np\n",
    "\n",
    "ADUs = pd.read_excel(\"data/OpArticles_ADUs.xlsx\")\n",
    "articles = pd.read_excel(\"data/OpArticles.xlsx\")\n",
    "\n",
    "ADUs.isnull().values.any() #check NaNs\n"
   ]
  },
  {
   "cell_type": "code",
   "execution_count": 2,
   "id": "4eb1c7a0",
   "metadata": {
    "colab": {
     "base_uri": "https://localhost:8080/"
    },
    "id": "4eb1c7a0",
    "outputId": "8b1803d4-3fc1-4058-d07b-4fb17ef8a1dc"
   },
   "outputs": [
    {
     "data": {
      "text/plain": [
       "Value       8102\n",
       "Fact        3663\n",
       "Value(-)    2900\n",
       "Value(+)    1411\n",
       "Policy       667\n",
       "Name: label, dtype: int64"
      ]
     },
     "execution_count": 2,
     "metadata": {},
     "output_type": "execute_result"
    }
   ],
   "source": [
    "ADUs[\"label\"].value_counts()"
   ]
  },
  {
   "cell_type": "markdown",
   "id": "cd11d77d",
   "metadata": {
    "id": "cd11d77d"
   },
   "source": [
    "## Handling repeated text spans\n",
    "\n",
    "Some text spans were annotated by more than one annotator. Therefore, it may be the case that some text spans have different labels, which may harm the training phase."
   ]
  },
  {
   "cell_type": "code",
   "execution_count": 3,
   "id": "29de4c21",
   "metadata": {
    "colab": {
     "base_uri": "https://localhost:8080/"
    },
    "id": "29de4c21",
    "outputId": "956acdf5-84a5-486d-9e55-0829f0653bc1"
   },
   "outputs": [
    {
     "data": {
      "text/plain": [
       "((12302,), (16743,))"
      ]
     },
     "execution_count": 3,
     "metadata": {},
     "output_type": "execute_result"
    }
   ],
   "source": [
    "unique_spans = np.unique(ADUs[['article_id', 'ranges']].values)\n",
    "(unique_spans.shape, ADUs[\"tokens\"].shape)"
   ]
  },
  {
   "cell_type": "markdown",
   "id": "5b72cd44",
   "metadata": {
    "id": "5b72cd44"
   },
   "source": [
    "As we can see, more than 4000 text spans were evaluated by more than one annotator. Now let's check how many of these text spans receive different labels"
   ]
  },
  {
   "cell_type": "markdown",
   "id": "576b7531",
   "metadata": {
    "id": "576b7531"
   },
   "source": [
    "## Data preparation\n",
    "\n",
    "The next step is to cleanup the dataset, applying text normalization techniques:\n",
    " - Removing non-alphabetic chars\n",
    " - Lowercasing\n",
    " - Removing stop words\n",
    " - Stemming/lemmatization\n",
    " \n",
    "However, before applying these techniques, let's try to remove the repeated annotations that may confuse the classifiers on the future steps. In order to decide which is the correct label for each (article_id, range) pair, we compute the majority."
   ]
  },
  {
   "cell_type": "code",
   "execution_count": 3,
   "id": "40f41968",
   "metadata": {
    "id": "40f41968"
   },
   "outputs": [],
   "source": [
    "grouped_df = ADUs.groupby(by=['article_id', 'ranges'])\n",
    "dataset_dict = {\"tokens\": [], \"label\": []}\n",
    "\n",
    "for i, group in grouped_df:\n",
    "    dict_counts = {x: group[\"label\"].value_counts()[x] for x in np.unique(group[['label']].values)}\n",
    "    final_label = max(dict_counts.items(), key=lambda x: x[1])\n",
    "    dataset_dict[\"tokens\"].append(group[\"tokens\"].values[0])\n",
    "    dataset_dict[\"label\"].append(final_label[0])\n",
    "    \n",
    "dataset = pd.DataFrame(dataset_dict, columns = [\"tokens\", \"label\"])\n",
    "\n"
   ]
  },
  {
   "cell_type": "code",
   "execution_count": 5,
   "id": "3c5fc298",
   "metadata": {
    "colab": {
     "base_uri": "https://localhost:8080/"
    },
    "id": "3c5fc298",
    "outputId": "e0926d43-915a-4e03-e8a0-ca6c399ed6f0",
    "scrolled": true
   },
   "outputs": [
    {
     "name": "stdout",
     "output_type": "stream",
     "text": [
      "Value       8102\n",
      "Fact        3663\n",
      "Value(-)    2900\n",
      "Value(+)    1411\n",
      "Policy       667\n",
      "Name: label, dtype: int64\n"
     ]
    },
    {
     "data": {
      "text/plain": [
       "Value       5003\n",
       "Fact        2897\n",
       "Value(-)    2401\n",
       "Value(+)    1181\n",
       "Policy       539\n",
       "Name: label, dtype: int64"
      ]
     },
     "execution_count": 5,
     "metadata": {},
     "output_type": "execute_result"
    }
   ],
   "source": [
    "print(ADUs[\"label\"].value_counts())\n",
    "dataset[\"label\"].value_counts()"
   ]
  },
  {
   "cell_type": "markdown",
   "id": "b1eb5ea7",
   "metadata": {
    "id": "b1eb5ea7"
   },
   "source": [
    "We managed to reduce the amount of rows in the dataframe -> some of them had repeated/conflictuous labels. "
   ]
  },
  {
   "cell_type": "code",
   "execution_count": null,
   "id": "EKfXa4aa6-1_",
   "metadata": {
    "id": "EKfXa4aa6-1_"
   },
   "outputs": [],
   "source": [
    "!python -m spacy download pt_core_news_sm"
   ]
  },
  {
   "cell_type": "code",
   "execution_count": null,
   "id": "JcZrVjyO6rGf",
   "metadata": {
    "colab": {
     "base_uri": "https://localhost:8080/"
    },
    "id": "JcZrVjyO6rGf",
    "outputId": "063da04f-ae06-4074-a86f-e881124882d5"
   },
   "outputs": [
    {
     "name": "stdout",
     "output_type": "stream",
     "text": [
      "  SPACE   \n",
      "atingiram VERB ROOT atingir\n",
      "picos NOUN obj pico\n",
      "históricos ADJ amod histórico\n",
      "na PROPN ROOT o\n",
      "passada VERB acl passar\n",
      "sexta-feira NOUN nmod sexta-feira\n",
      ". PUNCT punct .\n"
     ]
    }
   ],
   "source": [
    "import spacy\n",
    "from spacy.lang.pt.examples import sentences \n",
    "import pt_core_news_sm\n",
    "\n",
    "nlp = pt_core_news_sm.load()\n",
    "test_sentence = \"Os combustíveis atingiram picos históricos na passada sexta-feira.\"\n",
    "for token in nlp(test_sentence):\n",
    "    print(token.text, token.pos_, token.dep_, token.lemma_)"
   ]
  },
  {
   "cell_type": "markdown",
   "id": "20758d56",
   "metadata": {
    "id": "20758d56"
   },
   "source": [
    "## POS-tagging\n",
    "\n",
    "Apply POS-tagging (with a pre-trained model), to the full sentence of the corresponding text span."
   ]
  },
  {
   "cell_type": "code",
   "execution_count": 25,
   "id": "w8nnLIpjJY_I",
   "metadata": {
    "id": "w8nnLIpjJY_I"
   },
   "outputs": [],
   "source": [
    "#Add a new column with POS-tags that will be gathered next\n",
    "POS_list = []\n",
    "#ADUs[\"POS\"] = []\n",
    "\n",
    "for row in ADUs.iterrows():\n",
    "    POS_list.append((row[1][\"article_id\"] + row[1][\"ranges\"]))\n",
    "\n",
    "ADUs[\"POS\"] = POS_list"
   ]
  },
  {
   "cell_type": "code",
   "execution_count": 27,
   "id": "fc342396",
   "metadata": {
    "colab": {
     "base_uri": "https://localhost:8080/"
    },
    "id": "fc342396",
    "outputId": "35782ae1-b64b-4fa5-e231-f37ece262537"
   },
   "outputs": [
    {
     "name": "stdout",
     "output_type": "stream",
     "text": [
      "[nltk_data] Downloading package punkt to /root/nltk_data...\n",
      "[nltk_data]   Unzipping tokenizers/punkt.zip.\n"
     ]
    }
   ],
   "source": [
    "import nltk\n",
    "nltk.download('punkt')\n",
    "\n",
    "for i, group in grouped_df:\n",
    "    article = articles.loc[articles[\"article_id\"] == i[0]]\n",
    "\n",
    "    range = group[\"ranges\"].unique()[0]\n",
    "    start = eval(range)[0][0]\n",
    "    end = eval(range)[0][1] \n",
    "    body = article[\"body\"].values[0]\n",
    "\n",
    "    body_sentences = nltk.tokenize.sent_tokenize(body)\n",
    "    current_pos, current_sent = 0,0\n",
    "    while current_pos < start:\n",
    "        if current_sent == len(body_sentences): break\n",
    "        current_pos += len(body_sentences[current_sent])\n",
    "        current_sent += 1\n",
    "\n",
    "    tags = [token.pos_ for token in nlp(body_sentences[current_sent - 1])]\n",
    "\n",
    "    ADUs[\"POS\"].replace(i[0] + i[1], \" \".join(tags), inplace=True)"
   ]
  },
  {
   "cell_type": "code",
   "execution_count": 28,
   "id": "a2a07FHnXheO",
   "metadata": {
    "colab": {
     "base_uri": "https://localhost:8080/"
    },
    "id": "a2a07FHnXheO",
    "outputId": "a1a0bb48-8bd4-41cc-bb2e-d7004b4fe566"
   },
   "outputs": [
    {
     "data": {
      "text/plain": [
       "count                                    16743\n",
       "unique                                    5836\n",
       "top       DET NOUN VERB ADP DET ADJ NOUN PROPN\n",
       "freq                                        57\n",
       "Name: POS, dtype: object"
      ]
     },
     "execution_count": 28,
     "metadata": {},
     "output_type": "execute_result"
    }
   ],
   "source": [
    "ADUs[\"POS\"].describe()"
   ]
  },
  {
   "cell_type": "markdown",
   "id": "UEK-ixF5xxzK",
   "metadata": {
    "id": "UEK-ixF5xxzK"
   },
   "source": [
    "## Extract features\n",
    "\n",
    "Let's start by adding the count of each POS-tag for each document"
   ]
  },
  {
   "cell_type": "code",
   "execution_count": 29,
   "id": "-VFAOlSMuK-N",
   "metadata": {
    "colab": {
     "base_uri": "https://localhost:8080/"
    },
    "id": "-VFAOlSMuK-N",
    "outputId": "37e54c46-ddec-4614-bf67-11a3791d1474"
   },
   "outputs": [
    {
     "data": {
      "text/plain": [
       "{'ADJ',\n",
       " 'ADP',\n",
       " 'ADV',\n",
       " 'AUX',\n",
       " 'CCONJ',\n",
       " 'DET',\n",
       " 'INTJ',\n",
       " 'NOUN',\n",
       " 'NUM',\n",
       " 'PART',\n",
       " 'PRON',\n",
       " 'PROPN',\n",
       " 'PUNCT',\n",
       " 'SCONJ',\n",
       " 'SPACE',\n",
       " 'SYM',\n",
       " 'VERB',\n",
       " 'X'}"
      ]
     },
     "execution_count": 29,
     "metadata": {},
     "output_type": "execute_result"
    }
   ],
   "source": [
    "unique_tags_l = []\n",
    "\n",
    "for tags in ADUs[\"POS\"].values:\n",
    "    tags_list = tags.split(\" \")\n",
    "    unique_tags_l += tags_list\n",
    "\n",
    "unique_tags = set(unique_tags_l)\n",
    "unique_tags\n"
   ]
  },
  {
   "cell_type": "code",
   "execution_count": 30,
   "id": "dWS7-CrtyFSZ",
   "metadata": {
    "id": "dWS7-CrtyFSZ"
   },
   "outputs": [],
   "source": [
    "tag_counts_dict = {}\n",
    "\n",
    "for tag in list(unique_tags):\n",
    "    name = tag + \"_count\"\n",
    "    tag_counts_dict[name] = []\n",
    "    for row in ADUs.iterrows():\n",
    "    tags_list = row[1][\"POS\"].split(\" \")\n",
    "    tag_counts_dict[name].append(tags_list.count(tag) / len(tags_list))\n",
    "    \n",
    "\n",
    "for k in tag_counts_dict.keys():\n",
    "    ADUs[k] = tag_counts_dict[k]\n"
   ]
  },
  {
   "cell_type": "markdown",
   "id": "95oQ6QO95llE",
   "metadata": {
    "id": "95oQ6QO95llE"
   },
   "source": [
    "## Extract topics as features"
   ]
  },
  {
   "cell_type": "code",
   "execution_count": 31,
   "id": "o12BY1ew5qId",
   "metadata": {
    "id": "o12BY1ew5qId"
   },
   "outputs": [],
   "source": [
    "topics_l = []\n",
    "for row in ADUs.iterrows():\n",
    "    ID = row[1][\"article_id\"]\n",
    "    article = articles.loc[articles[\"article_id\"] == ID]\n",
    "    topic = article[\"topics\"].values[0]\n",
    "    topics_l.append(topic)\n",
    "\n",
    "ADUs[\"topics\"] = topics_l"
   ]
  },
  {
   "cell_type": "markdown",
   "id": "ymC5IPdeLlXz",
   "metadata": {
    "id": "ymC5IPdeLlXz"
   },
   "source": [
    "## Saving tagged data"
   ]
  },
  {
   "cell_type": "code",
   "execution_count": 32,
   "id": "y5EWgqivLp3s",
   "metadata": {
    "id": "y5EWgqivLp3s"
   },
   "outputs": [],
   "source": [
    "ADUs.to_excel(\"data/ADUs_pre-processed.xlsx\")"
   ]
  },
  {
   "cell_type": "markdown",
   "id": "cEWw8mKbZT9N",
   "metadata": {
    "id": "cEWw8mKbZT9N"
   },
   "source": [
    "## Reading the pre-processed dataset"
   ]
  },
  {
   "cell_type": "code",
   "execution_count": 2,
   "id": "jlFvv0X3nRPM",
   "metadata": {
    "colab": {
     "base_uri": "https://localhost:8080/"
    },
    "id": "jlFvv0X3nRPM",
    "outputId": "e50b2371-4fa7-45db-b1cb-1f9de6cd44ab"
   },
   "outputs": [
    {
     "name": "stdout",
     "output_type": "stream",
     "text": [
      "/content/FEUP-PLN\n"
     ]
    }
   ],
   "source": [
    "%cd FEUP-PLN"
   ]
  },
  {
   "cell_type": "code",
   "execution_count": 15,
   "id": "fKPvtnoSbZWT",
   "metadata": {
    "id": "fKPvtnoSbZWT"
   },
   "outputs": [],
   "source": [
    "import pandas as pd\n",
    "import numpy as np\n",
    "import nltk\n",
    "\n",
    "ADUs = pd.read_excel(\"data/ADUs_pre-processed.xlsx\")\n",
    "\n",
    "grouped_df = ADUs.groupby(by=['article_id', 'ranges'])\n",
    "dataset_dict = {\"tokens\": [], \"label\": []}\n",
    "\n",
    "for c in ADUs.columns[8:]:\n",
    "    dataset_dict[c] = []\n",
    "\n",
    "for i, group in grouped_df:\n",
    "    dict_counts = {x: group[\"label\"].value_counts()[x] for x in np.unique(group[['label']].values)}\n",
    "    final_label = max(dict_counts.items(), key=lambda x: x[1]) #majority vote\n",
    "    dataset_dict[\"tokens\"].append(group[\"tokens\"].values[0])\n",
    "    dataset_dict[\"label\"].append(final_label[0])\n",
    "\n",
    "    for c in ADUs.columns[8:]:\n",
    "        dataset_dict[c].append(group[c].values[0])\n",
    "    \n",
    "    \n",
    "    \n",
    "dataset = pd.DataFrame(dataset_dict, columns = dataset_dict.keys())"
   ]
  },
  {
   "cell_type": "markdown",
   "id": "f7c14ad6",
   "metadata": {
    "id": "f7c14ad6"
   },
   "source": [
    "## Analyzing Stopwords\n",
    "Some stopwords from `nltk` should not be ignored by the model, as they have correlation with the label."
   ]
  },
  {
   "cell_type": "code",
   "execution_count": 18,
   "id": "55aa6e11",
   "metadata": {
    "colab": {
     "base_uri": "https://localhost:8080/"
    },
    "id": "55aa6e11",
    "outputId": "f24698af-f045-4493-deae-0e6255580878"
   },
   "outputs": [
    {
     "name": "stderr",
     "output_type": "stream",
     "text": [
      "[nltk_data] Downloading package stopwords to\n",
      "[nltk_data]     C:\\Users\\caion\\AppData\\Roaming\\nltk_data...\n",
      "[nltk_data]   Package stopwords is already up-to-date!\n"
     ]
    }
   ],
   "source": [
    "from nltk.corpus import stopwords\n",
    "import nltk\n",
    "nltk.download('stopwords')\n",
    "stopwords_list = stopwords.words(\"portuguese\")\n",
    "\n",
    "\n",
    "stopwords_list.remove(\"não\")\n",
    "stopwords_list.remove(\"muito\")\n",
    "stopwords_list.remove(\"mais\")"
   ]
  },
  {
   "cell_type": "code",
   "execution_count": null,
   "id": "482321af",
   "metadata": {},
   "outputs": [],
   "source": [
    "!python -m spacy download pt_core_news_sm"
   ]
  },
  {
   "cell_type": "code",
   "execution_count": 19,
   "id": "05330104",
   "metadata": {
    "id": "05330104"
   },
   "outputs": [
    {
     "data": {
      "text/plain": [
       "'presumirNOUN partilharNOUN gerarVERB efeitoNOUN bolarADJ nevarNOUN'"
      ]
     },
     "execution_count": 19,
     "metadata": {},
     "output_type": "execute_result"
    }
   ],
   "source": [
    "import pt_core_news_sm\n",
    "import re\n",
    "#nltk.download('rslp')\n",
    "from nltk.stem import RSLPStemmer # portuguese stemmer\n",
    "nlp = pt_core_news_sm.load()\n",
    "corpus = []\n",
    "#stemmer = RSLPStemmer()\n",
    "for row in dataset.iterrows():\n",
    "    # get review and remove non alpha chars\n",
    "    review = re.sub('[^a-zA-Z!?]', ' ',row[1][\"tokens\"])\n",
    "    # to lower-case\n",
    "    review = review.lower()\n",
    "    # split into tokens, apply stemming and remove stop words\n",
    "    review = ' '.join([word.lemma_.lower().strip() + word.pos_ for word in nlp(review) if not word.text in stopwords_list\n",
    "                      and word.lemma_.lower().strip() != \"space\"])\n",
    "    corpus.append(review)\n",
    "\n",
    "\n",
    "dataset[\"corpus\"] = corpus\n",
    "corpus[0]"
   ]
  },
  {
   "cell_type": "markdown",
   "id": "8d472904",
   "metadata": {
    "id": "8d472904"
   },
   "source": [
    "\n",
    "## Generating a data set\n",
    "\n",
    "We need to transform the corpus into a collection that can be handled by a machine learning model. We will be using `sklearn`'s TfidfVectorizer class"
   ]
  },
  {
   "cell_type": "code",
   "execution_count": 61,
   "id": "38e087a6",
   "metadata": {
    "id": "38e087a6"
   },
   "outputs": [],
   "source": [
    "from sklearn.compose import ColumnTransformer\n",
    "from sklearn.feature_extraction.text import TfidfVectorizer\n",
    "from sklearn.preprocessing import OneHotEncoder\n",
    "\n",
    "column_trans = ColumnTransformer([\n",
    "    (\"topics\", OneHotEncoder(), [\"topics\"]),\n",
    "    (\"corpus\", TfidfVectorizer(ngram_range=(1,2), min_df = 2), \"corpus\"),\n",
    "    (\"counts\", \"passthrough\", ADUs.columns[8:-2])\n",
    "], verbose_feature_names_out=False)\n",
    "\n",
    "\n",
    "X = column_trans.fit_transform(dataset).toarray()\n"
   ]
  },
  {
   "cell_type": "code",
   "execution_count": 54,
   "id": "8569b63d",
   "metadata": {
    "colab": {
     "base_uri": "https://localhost:8080/"
    },
    "id": "8569b63d",
    "outputId": "490a2db7-75a7-4f23-faa2-878468f5de30"
   },
   "outputs": [
    {
     "name": "stdout",
     "output_type": "stream",
     "text": [
      "(12021,)\n",
      "0    Value\n",
      "1    Value\n",
      "2    Value\n",
      "3    Value\n",
      "4    Value\n",
      "Name: label, dtype: object\n"
     ]
    }
   ],
   "source": [
    "y = dataset[\"label\"]\n",
    "print(y.shape)\n",
    "print(y.head())"
   ]
  },
  {
   "cell_type": "markdown",
   "id": "67d10ef4",
   "metadata": {
    "id": "67d10ef4"
   },
   "source": [
    "## Splitting the dataset into training and testing\n",
    "\n",
    "The next step is to split the dataset into training and testing. We will be using a 80%-20% split. Since classes are unbalanced (*Value* examples are significantly more abundant than *Policy* examples), we need to stratify both sets -> try to get a similar class distribution for each set."
   ]
  },
  {
   "cell_type": "code",
   "execution_count": 62,
   "id": "89bcae36",
   "metadata": {
    "id": "89bcae36"
   },
   "outputs": [
    {
     "name": "stdout",
     "output_type": "stream",
     "text": [
      "(9616, 29823) (9616,)\n",
      "(2405, 29823) (2405,)\n",
      "\n",
      "Label distribution in the training set:\n",
      "Value       4630\n",
      "Fact        2365\n",
      "Value(-)    1489\n",
      "Value(+)     724\n",
      "Policy       408\n",
      "Name: label, dtype: int64\n",
      "\n",
      "Label distribution in the test set:\n",
      "Value       1118\n",
      "Fact         636\n",
      "Value(-)     383\n",
      "Value(+)     165\n",
      "Policy       103\n",
      "Name: label, dtype: int64\n"
     ]
    }
   ],
   "source": [
    "from sklearn.model_selection import train_test_split\n",
    "\n",
    "X_train, X_test, y_train, y_test = train_test_split(X, y, test_size = 0.20)\n",
    "\n",
    "print(X_train.shape, y_train.shape)\n",
    "print(X_test.shape, y_test.shape)\n",
    "\n",
    "print(\"\\nLabel distribution in the training set:\")\n",
    "print(y_train.value_counts())\n",
    "print(\"\\nLabel distribution in the test set:\")\n",
    "print(y_test.value_counts())"
   ]
  },
  {
   "cell_type": "markdown",
   "id": "DruQ5tmgGziV",
   "metadata": {
    "id": "DruQ5tmgGziV"
   },
   "source": [
    "## Computing class weights\n",
    "\n",
    "Since the dataset is unbalanced, we need to compute weights or apply oversampling/undersampling techniques. Otherwise predictions would be heavily biased towards the majority class."
   ]
  },
  {
   "cell_type": "code",
   "execution_count": null,
   "id": "NfLd1VxqHMiM",
   "metadata": {
    "colab": {
     "base_uri": "https://localhost:8080/"
    },
    "id": "NfLd1VxqHMiM",
    "outputId": "c7bb1703-cda4-45d4-d86b-42dce878d11c"
   },
   "outputs": [
    {
     "data": {
      "text/plain": [
       "{'Fact': 0.8011329556814395,\n",
       " 'Policy': 4.704892367906067,\n",
       " 'Value': 0.4182672233820459,\n",
       " 'Value(+)': 2.704386951631046,\n",
       " 'Value(-)': 1.284294871794872}"
      ]
     },
     "execution_count": 45,
     "metadata": {},
     "output_type": "execute_result"
    }
   ],
   "source": [
    "from sklearn.utils import class_weight\n",
    "class_weights = class_weight.compute_class_weight(\n",
    "                                        class_weight = \"balanced\",\n",
    "                                        classes = np.unique(y.unique()),\n",
    "                                        y = y                                                    \n",
    "                                    )\n",
    "class_weights = dict(zip(np.unique(y.unique()), class_weights))\n",
    "class_weights"
   ]
  },
  {
   "cell_type": "markdown",
   "id": "cea4a57b",
   "metadata": {
    "id": "cea4a57b"
   },
   "source": [
    "## Training the models\n"
   ]
  },
  {
   "cell_type": "code",
   "execution_count": 7,
   "id": "592881a5",
   "metadata": {
    "id": "592881a5"
   },
   "outputs": [],
   "source": [
    "from sklearn.naive_bayes import MultinomialNB\n",
    "from sklearn.naive_bayes import ComplementNB\n",
    "from sklearn.metrics import confusion_matrix, ConfusionMatrixDisplay\n",
    "from sklearn.metrics import accuracy_score\n",
    "from sklearn.metrics import balanced_accuracy_score\n",
    "from sklearn.metrics import precision_score\n",
    "from sklearn.metrics import recall_score\n",
    "from sklearn.metrics import f1_score\n",
    "from sklearn.metrics import classification_report\n",
    "from sklearn.multiclass import OneVsRestClassifier\n",
    "from sklearn.model_selection import GridSearchCV\n",
    "from sklearn.ensemble import RandomForestClassifier\n",
    "from sklearn.ensemble import VotingClassifier\n",
    "from sklearn.preprocessing import StandardScaler\n",
    "from sklearn.linear_model import SGDClassifier\n",
    "from sklearn.model_selection import StratifiedKFold\n",
    "from sklearn.model_selection import cross_validate\n",
    "from sklearn.experimental import enable_halving_search_cv\n",
    "from sklearn.model_selection import HalvingGridSearchCV\n",
    "from sklearn.svm import LinearSVC\n",
    "from sklearn.linear_model import LogisticRegression\n",
    "from sklearn.linear_model import Perceptron\n",
    "import matplotlib.pyplot as plt\n",
    "import seaborn as sb\n",
    "from sklearn.model_selection import train_test_split\n",
    "\n",
    "\n",
    "\n",
    "cross_validation = StratifiedKFold(n_splits=5, shuffle=True)"
   ]
  },
  {
   "cell_type": "markdown",
   "id": "9elPka6XEN8h",
   "metadata": {
    "id": "9elPka6XEN8h"
   },
   "source": [
    "## Resampling techniques\n",
    "\n",
    "SMOTE upsampling doesn't work well in a high dimensional feature space such as text classification problems."
   ]
  },
  {
   "cell_type": "code",
   "execution_count": null,
   "id": "4HLwzLiYEROB",
   "metadata": {
    "colab": {
     "base_uri": "https://localhost:8080/"
    },
    "id": "4HLwzLiYEROB",
    "outputId": "54162192-555b-41f6-aed3-407cfcf99168"
   },
   "outputs": [],
   "source": [
    "from imblearn.over_sampling import SMOTE\n",
    "from imblearn.over_sampling import RandomOverSampler\n",
    "\n",
    "ros = RandomOverSampler(random_state=1)\n",
    "sm = SMOTE()\n",
    "\n",
    "X_train, y_train = ros.fit_resample(X_train, y_train)\n"
   ]
  },
  {
   "cell_type": "markdown",
   "id": "b7927013",
   "metadata": {
    "id": "b7927013"
   },
   "source": [
    "### Naive Bayes\n",
    "To start off, we will train a single (`Naive Bayes`) classifier that evaluates the likelihood of a document being of one of the 5 classes. This will set the baseline for which the improvements will be measured.\n"
   ]
  },
  {
   "cell_type": "code",
   "execution_count": 63,
   "id": "50bd3bf2",
   "metadata": {
    "id": "50bd3bf2"
   },
   "outputs": [],
   "source": [
    "from sklearn.naive_bayes import ComplementNB\n",
    "clf = ComplementNB()\n",
    "clf.fit(X_train, y_train)\n",
    "y_pred = clf.predict(X_test)"
   ]
  },
  {
   "cell_type": "code",
   "execution_count": null,
   "id": "VGGLsCpn6UvS",
   "metadata": {
    "colab": {
     "base_uri": "https://localhost:8080/"
    },
    "id": "VGGLsCpn6UvS",
    "outputId": "21220567-ce99-4024-9cd8-dc47625e9d6d"
   },
   "outputs": [
    {
     "data": {
      "text/plain": [
       "{'fit_time': array([2.15442896, 2.78314996, 2.47794294, 2.14818072, 1.97649717]),\n",
       " 'score_time': array([0.44557261, 0.37167501, 0.44988012, 0.38903785, 0.39175057]),\n",
       " 'test_accuracy': array([0.71676803, 0.71220678, 0.7228497 , 0.7139444 , 0.714596  ]),\n",
       " 'test_f1_weighted': array([0.68596699, 0.68017123, 0.69272105, 0.68337686, 0.68610397]),\n",
       " 'test_precision_weighted': array([0.70895144, 0.70871513, 0.72131025, 0.70387401, 0.70800699]),\n",
       " 'test_recall_weighted': array([0.71676803, 0.71220678, 0.7228497 , 0.7139444 , 0.714596  ])}"
      ]
     },
     "execution_count": 17,
     "metadata": {},
     "output_type": "execute_result"
    }
   ],
   "source": [
    "scores = cross_validate(ComplementNB(), X_train, y_train, cv = cross_validation, scoring=['accuracy', 'precision_weighted', 'recall_weighted', 'f1_weighted'])\n",
    "scores"
   ]
  },
  {
   "cell_type": "code",
   "execution_count": 66,
   "id": "7785f776",
   "metadata": {
    "colab": {
     "base_uri": "https://localhost:8080/",
     "height": 522
    },
    "id": "7785f776",
    "outputId": "6b0b968e-9848-47e4-a314-069bc2b8d79a"
   },
   "outputs": [
    {
     "name": "stdout",
     "output_type": "stream",
     "text": [
      "Accuracy score:  0.4972972972972973\n",
      "Balanced accuracy score:  0.29369163383792596\n"
     ]
    },
    {
     "data": {
      "image/png": "[encoded data removed]",
      "text/plain": [
       "<Figure size 460.8x403.2 with 2 Axes>"
      ]
     },
     "metadata": {},
     "output_type": "display_data"
    },
    {
     "name": "stdout",
     "output_type": "stream",
     "text": [
      "              precision    recall  f1-score   support\n",
      "\n",
      "        Fact       0.48      0.32      0.38       636\n",
      "      Policy       0.37      0.13      0.19       103\n",
      "       Value       0.51      0.83      0.63      1118\n",
      "    Value(+)       0.35      0.08      0.14       165\n",
      "    Value(-)       0.50      0.11      0.19       383\n",
      "\n",
      "    accuracy                           0.50      2405\n",
      "   macro avg       0.44      0.29      0.30      2405\n",
      "weighted avg       0.48      0.50      0.44      2405\n",
      "\n"
     ]
    }
   ],
   "source": [
    "from sklearn.metrics import confusion_matrix, ConfusionMatrixDisplay\n",
    "from sklearn.metrics import accuracy_score\n",
    "from sklearn.metrics import balanced_accuracy_score\n",
    "from sklearn.metrics import precision_score\n",
    "from sklearn.metrics import recall_score\n",
    "from sklearn.metrics import f1_score\n",
    "from sklearn.metrics import classification_report\n",
    "from jupyterthemes import jtplot\n",
    "\n",
    "jtplot.style(theme='onedork')\n",
    "\n",
    "def print_metrics(y_test, y_pred, classes):\n",
    "    cm = confusion_matrix(y_test, y_pred, labels = clf.classes_)\n",
    "    disp = ConfusionMatrixDisplay(confusion_matrix=cm, display_labels=clf.classes_)\n",
    "    disp.plot()\n",
    "    print(\"Accuracy score: \", accuracy_score(y_test, y_pred))\n",
    "    print(\"Balanced accuracy score: \", balanced_accuracy_score(y_test, y_pred))\n",
    "    metrics_df = pd.DataFrame({\"Precision\": precision_score(y_test, y_pred, labels = classes, average = None).tolist(),\n",
    "                              \"Recall\": recall_score(y_test, y_pred, labels = classes, average = None).tolist(),\n",
    "                              \"F1\": f1_score(y_test, y_pred, labels = classes, average = None).tolist()},\n",
    "                             index = classes)\n",
    "    plt.show()\n",
    "    #plt.savefig(\"./statistics/confusion_matrix.png\")\n",
    "    return metrics_df.head()\n",
    "    \n",
    "print_metrics(y_test, y_pred, clf.classes_)\n",
    "print(classification_report(y_test, y_pred))"
   ]
  },
  {
   "cell_type": "markdown",
   "id": "65a15889",
   "metadata": {
    "id": "65a15889"
   },
   "source": [
    "Since some classifiers like SVM and Logistic Regression cannot handle multi-class classification, let's use the One vs Rest classifier. This way, we can transform this problem into a binary classification problem -> one classifier for each class."
   ]
  },
  {
   "cell_type": "code",
   "execution_count": 17,
   "id": "1855c726",
   "metadata": {
    "id": "1855c726"
   },
   "outputs": [
    {
     "name": "stdout",
     "output_type": "stream",
     "text": [
      "Fitting 5 folds for each of 50 candidates, totalling 250 fits\n",
      "Accuracy score:  0.47650727650727653\n",
      "Balanced accuracy score:  0.2\n"
     ]
    },
    {
     "name": "stderr",
     "output_type": "stream",
     "text": [
      "C:\\Users\\caion\\anaconda3\\lib\\site-packages\\sklearn\\metrics\\_classification.py:1308: UndefinedMetricWarning: Precision is ill-defined and being set to 0.0 in labels with no predicted samples. Use `zero_division` parameter to control this behavior.\n",
      "  _warn_prf(average, modifier, msg_start, len(result))\n"
     ]
    },
    {
     "data": {
      "image/png": "[encoded data removed]",
      "text/plain": [
       "<Figure size 432x288 with 2 Axes>"
      ]
     },
     "metadata": {
      "needs_background": "light"
     },
     "output_type": "display_data"
    },
    {
     "data": {
      "text/html": [
       "<div>\n",
       "<style scoped>\n",
       "    .dataframe tbody tr th:only-of-type {\n",
       "        vertical-align: middle;\n",
       "    }\n",
       "\n",
       "    .dataframe tbody tr th {\n",
       "        vertical-align: top;\n",
       "    }\n",
       "\n",
       "    .dataframe thead th {\n",
       "        text-align: right;\n",
       "    }\n",
       "</style>\n",
       "<table border=\"1\" class=\"dataframe\">\n",
       "  <thead>\n",
       "    <tr style=\"text-align: right;\">\n",
       "      <th></th>\n",
       "      <th>Precision</th>\n",
       "      <th>Recall</th>\n",
       "      <th>F1</th>\n",
       "    </tr>\n",
       "  </thead>\n",
       "  <tbody>\n",
       "    <tr>\n",
       "      <th>Fact</th>\n",
       "      <td>0.000000</td>\n",
       "      <td>0.0</td>\n",
       "      <td>0.000000</td>\n",
       "    </tr>\n",
       "    <tr>\n",
       "      <th>Policy</th>\n",
       "      <td>0.000000</td>\n",
       "      <td>0.0</td>\n",
       "      <td>0.000000</td>\n",
       "    </tr>\n",
       "    <tr>\n",
       "      <th>Value</th>\n",
       "      <td>0.476507</td>\n",
       "      <td>1.0</td>\n",
       "      <td>0.645452</td>\n",
       "    </tr>\n",
       "    <tr>\n",
       "      <th>Value(+)</th>\n",
       "      <td>0.000000</td>\n",
       "      <td>0.0</td>\n",
       "      <td>0.000000</td>\n",
       "    </tr>\n",
       "    <tr>\n",
       "      <th>Value(-)</th>\n",
       "      <td>0.000000</td>\n",
       "      <td>0.0</td>\n",
       "      <td>0.000000</td>\n",
       "    </tr>\n",
       "  </tbody>\n",
       "</table>\n",
       "</div>"
      ],
      "text/plain": [
       "          Precision  Recall        F1\n",
       "Fact       0.000000     0.0  0.000000\n",
       "Policy     0.000000     0.0  0.000000\n",
       "Value      0.476507     1.0  0.645452\n",
       "Value(+)   0.000000     0.0  0.000000\n",
       "Value(-)   0.000000     0.0  0.000000"
      ]
     },
     "execution_count": 17,
     "metadata": {},
     "output_type": "execute_result"
    }
   ],
   "source": [
    "model_to_set = RandomForestClassifier(n_jobs=-1)\n",
    "\n",
    "cross_validation = StratifiedKFold(n_splits=5)\n",
    "parameters = {\n",
    "    \"max_depth\": [int(x) for x in np.linspace(10, 110, num=5)],\n",
    "    \"min_samples_leaf\": [int(x) for x in np.linspace(50, 2000, num=5)],\n",
    "    \"criterion\": [\"gini\", \"entropy\"]\n",
    "}\n",
    "\n",
    "model_tunning = GridSearchCV(model_to_set, param_grid=parameters,\n",
    "                             scoring=\"accuracy\", cv=cross_validation, n_jobs=-1, verbose=1)\n",
    "\n",
    "model_tunning.fit(X_train, y_train)\n",
    "model_tunning.best_score_\n",
    "print_metrics(y_test, model_tunning.predict(X_test), clf.classes_)\n"
   ]
  },
  {
   "cell_type": "markdown",
   "id": "46f104a2",
   "metadata": {
    "id": "46f104a2"
   },
   "source": [
    "## Scaling the data\n",
    "\n",
    "Some linear models (like SVM or SGD classifiers) use euclidean distances and benefit from the normalization of the data."
   ]
  },
  {
   "cell_type": "code",
   "execution_count": 14,
   "id": "19f11b49",
   "metadata": {
    "id": "19f11b49"
   },
   "outputs": [],
   "source": [
    "scaler = StandardScaler()\n",
    "scaler.fit(X_train)\n",
    "X_train = scaler.transform(X_train)\n",
    "X_test = scaler.transform(X_test)"
   ]
  },
  {
   "cell_type": "markdown",
   "id": "b2e806e7",
   "metadata": {
    "id": "b2e806e7"
   },
   "source": [
    "## SGD Classifier\n",
    "\n",
    "Let's now apply the Stochastic Gradient Descent optimization with a linear SVM model (`loss='hinge'`) and a Logistic Regression model (`loss=log`). Moreover, we can tune some hyperparameters to get the best possible model.\n",
    "SGD implementation from sklearn optimizes the loss function to converge faster, as they use stochastic gradient descent instead of gradient descent."
   ]
  },
  {
   "cell_type": "code",
   "execution_count": 35,
   "id": "81cf1d9a",
   "metadata": {
    "id": "81cf1d9a",
    "scrolled": true
   },
   "outputs": [
    {
     "name": "stdout",
     "output_type": "stream",
     "text": [
      "Fitting 5 folds for each of 4 candidates, totalling 20 fits\n",
      "{'alpha': 0.0001}\n",
      "Accuracy score:  0.520997920997921\n",
      "Balanced accuracy score:  0.24209185450564757\n"
     ]
    },
    {
     "name": "stderr",
     "output_type": "stream",
     "text": [
      "C:\\Users\\caion\\anaconda3\\lib\\site-packages\\sklearn\\metrics\\_classification.py:1308: UndefinedMetricWarning: Precision is ill-defined and being set to 0.0 in labels with no predicted samples. Use `zero_division` parameter to control this behavior.\n",
      "  _warn_prf(average, modifier, msg_start, len(result))\n"
     ]
    },
    {
     "data": {
      "image/png": "[encoded data removed]",
      "text/plain": [
       "<Figure size 432x288 with 2 Axes>"
      ]
     },
     "metadata": {
      "needs_background": "light"
     },
     "output_type": "display_data"
    },
    {
     "data": {
      "text/html": [
       "<div>\n",
       "<style scoped>\n",
       "    .dataframe tbody tr th:only-of-type {\n",
       "        vertical-align: middle;\n",
       "    }\n",
       "\n",
       "    .dataframe tbody tr th {\n",
       "        vertical-align: top;\n",
       "    }\n",
       "\n",
       "    .dataframe thead th {\n",
       "        text-align: right;\n",
       "    }\n",
       "</style>\n",
       "<table border=\"1\" class=\"dataframe\">\n",
       "  <thead>\n",
       "    <tr style=\"text-align: right;\">\n",
       "      <th></th>\n",
       "      <th>Precision</th>\n",
       "      <th>Recall</th>\n",
       "      <th>F1</th>\n",
       "    </tr>\n",
       "  </thead>\n",
       "  <tbody>\n",
       "    <tr>\n",
       "      <th>Fact</th>\n",
       "      <td>0.611538</td>\n",
       "      <td>0.258117</td>\n",
       "      <td>0.363014</td>\n",
       "    </tr>\n",
       "    <tr>\n",
       "      <th>Policy</th>\n",
       "      <td>0.500000</td>\n",
       "      <td>0.010101</td>\n",
       "      <td>0.019802</td>\n",
       "    </tr>\n",
       "    <tr>\n",
       "      <th>Value</th>\n",
       "      <td>0.510033</td>\n",
       "      <td>0.942241</td>\n",
       "      <td>0.661823</td>\n",
       "    </tr>\n",
       "    <tr>\n",
       "      <th>Value(+)</th>\n",
       "      <td>0.000000</td>\n",
       "      <td>0.000000</td>\n",
       "      <td>0.000000</td>\n",
       "    </tr>\n",
       "    <tr>\n",
       "      <th>Value(-)</th>\n",
       "      <td>0.000000</td>\n",
       "      <td>0.000000</td>\n",
       "      <td>0.000000</td>\n",
       "    </tr>\n",
       "  </tbody>\n",
       "</table>\n",
       "</div>"
      ],
      "text/plain": [
       "          Precision    Recall        F1\n",
       "Fact       0.611538  0.258117  0.363014\n",
       "Policy     0.500000  0.010101  0.019802\n",
       "Value      0.510033  0.942241  0.661823\n",
       "Value(+)   0.000000  0.000000  0.000000\n",
       "Value(-)   0.000000  0.000000  0.000000"
      ]
     },
     "execution_count": 35,
     "metadata": {},
     "output_type": "execute_result"
    }
   ],
   "source": [
    "\"\"\"\n",
    "l1-regularization -> 'built-in' feature selection (fewer features)\n",
    "l2-regularization -> Prefers weight vectors with many small weights\n",
    "\"\"\"\n",
    "\n",
    "sgd_model = SGDClassifier(penalty=\"l2\", average=True, n_jobs=-1, loss = \"log\")\n",
    "sgd_gs = GridSearchCV(sgd_model, n_jobs=-1, param_grid={\n",
    "    \"alpha\": 10.0**-np.arange(1,5)\n",
    "}, cv=cross_validation, scoring=\"f1_weighted\", verbose = 1)\n",
    "\n",
    "sgd_gs.fit(X_train, y_train)\n",
    "\n",
    "print(sgd_gs.best_params_)\n",
    "print_metrics(y_test, sgd_gs.predict(X_test), sgd_gs.classes_)"
   ]
  },
  {
   "cell_type": "code",
   "execution_count": 13,
   "id": "0e261a29",
   "metadata": {},
   "outputs": [
    {
     "name": "stdout",
     "output_type": "stream",
     "text": [
      "              precision    recall  f1-score   support\n",
      "\n",
      "        Fact       0.80      0.05      0.10       614\n",
      "      Policy       0.46      0.10      0.17       109\n",
      "       Value       0.53      0.66      0.59      1146\n",
      "    Value(+)       0.14      0.04      0.07       178\n",
      "    Value(-)       0.22      0.51      0.30       358\n",
      "\n",
      "    accuracy                           0.41      2405\n",
      "   macro avg       0.43      0.27      0.25      2405\n",
      "weighted avg       0.52      0.41      0.36      2405\n",
      "\n",
      "Accuracy score:  0.4128898128898129\n",
      "Balanced accuracy score:  0.2744422857372219\n"
     ]
    },
    {
     "data": {
      "image/png": "[encoded data removed]",
      "text/plain": [
       "<Figure size 432x288 with 2 Axes>"
      ]
     },
     "metadata": {
      "needs_background": "light"
     },
     "output_type": "display_data"
    },
    {
     "data": {
      "text/html": [
       "<div>\n",
       "<style scoped>\n",
       "    .dataframe tbody tr th:only-of-type {\n",
       "        vertical-align: middle;\n",
       "    }\n",
       "\n",
       "    .dataframe tbody tr th {\n",
       "        vertical-align: top;\n",
       "    }\n",
       "\n",
       "    .dataframe thead th {\n",
       "        text-align: right;\n",
       "    }\n",
       "</style>\n",
       "<table border=\"1\" class=\"dataframe\">\n",
       "  <thead>\n",
       "    <tr style=\"text-align: right;\">\n",
       "      <th></th>\n",
       "      <th>Precision</th>\n",
       "      <th>Recall</th>\n",
       "      <th>F1</th>\n",
       "    </tr>\n",
       "  </thead>\n",
       "  <tbody>\n",
       "    <tr>\n",
       "      <th>Fact</th>\n",
       "      <td>0.804878</td>\n",
       "      <td>0.053746</td>\n",
       "      <td>0.100763</td>\n",
       "    </tr>\n",
       "    <tr>\n",
       "      <th>Policy</th>\n",
       "      <td>0.458333</td>\n",
       "      <td>0.100917</td>\n",
       "      <td>0.165414</td>\n",
       "    </tr>\n",
       "    <tr>\n",
       "      <th>Value</th>\n",
       "      <td>0.528223</td>\n",
       "      <td>0.661431</td>\n",
       "      <td>0.587369</td>\n",
       "    </tr>\n",
       "    <tr>\n",
       "      <th>Value(+)</th>\n",
       "      <td>0.137931</td>\n",
       "      <td>0.044944</td>\n",
       "      <td>0.067797</td>\n",
       "    </tr>\n",
       "    <tr>\n",
       "      <th>Value(-)</th>\n",
       "      <td>0.216057</td>\n",
       "      <td>0.511173</td>\n",
       "      <td>0.303734</td>\n",
       "    </tr>\n",
       "  </tbody>\n",
       "</table>\n",
       "</div>"
      ],
      "text/plain": [
       "          Precision    Recall        F1\n",
       "Fact       0.804878  0.053746  0.100763\n",
       "Policy     0.458333  0.100917  0.165414\n",
       "Value      0.528223  0.661431  0.587369\n",
       "Value(+)   0.137931  0.044944  0.067797\n",
       "Value(-)   0.216057  0.511173  0.303734"
      ]
     },
     "execution_count": 13,
     "metadata": {},
     "output_type": "execute_result"
    }
   ],
   "source": [
    "sgd_classifier = SGDClassifier(n_jobs=-1, penalty=\"l2\")\n",
    "\n",
    "sgd_classifier.fit(X_train, y_train)\n",
    "print(classification_report(y_test, sgd_classifier.predict(X_test)))\n",
    "print_metrics(y_test, sgd_classifier.predict(X_test), sgd_classifier.classes_)"
   ]
  },
  {
   "cell_type": "markdown",
   "id": "64e3ef22",
   "metadata": {
    "id": "64e3ef22"
   },
   "source": [
    "## Linear SVM Classifier\n",
    "To establish a comparison in terms of performance, we will use the Linear SVM classifier.\n"
   ]
  },
  {
   "cell_type": "code",
   "execution_count": 33,
   "id": "bbfcdd41",
   "metadata": {
    "id": "bbfcdd41",
    "scrolled": true
   },
   "outputs": [
    {
     "name": "stdout",
     "output_type": "stream",
     "text": [
      "n_iterations: 3\n",
      "n_required_iterations: 3\n",
      "n_possible_iterations: 3\n",
      "min_resources_: 1068\n",
      "max_resources_: 9616\n",
      "aggressive_elimination: False\n",
      "factor: 3\n",
      "----------\n",
      "iter: 0\n",
      "n_candidates: 10\n",
      "n_resources: 1068\n",
      "Fitting 5 folds for each of 10 candidates, totalling 50 fits\n",
      "----------\n",
      "iter: 1\n",
      "n_candidates: 4\n",
      "n_resources: 3204\n",
      "Fitting 5 folds for each of 4 candidates, totalling 20 fits\n",
      "----------\n",
      "iter: 2\n",
      "n_candidates: 2\n",
      "n_resources: 9612\n",
      "Fitting 5 folds for each of 2 candidates, totalling 10 fits\n",
      "[LibLinear]"
     ]
    },
    {
     "name": "stderr",
     "output_type": "stream",
     "text": [
      "C:\\Users\\caion\\anaconda3\\lib\\site-packages\\sklearn\\svm\\_base.py:1206: ConvergenceWarning: Liblinear failed to converge, increase the number of iterations.\n",
      "  warnings.warn(\n"
     ]
    },
    {
     "name": "stdout",
     "output_type": "stream",
     "text": [
      "Accuracy score:  0.5085239085239085\n",
      "Balanced accuracy score:  0.34425359347589723\n"
     ]
    },
    {
     "data": {
      "image/png": "[encoded data removed]",
      "text/plain": [
       "<Figure size 432x288 with 2 Axes>"
      ]
     },
     "metadata": {
      "needs_background": "light"
     },
     "output_type": "display_data"
    },
    {
     "data": {
      "text/html": [
       "<div>\n",
       "<style scoped>\n",
       "    .dataframe tbody tr th:only-of-type {\n",
       "        vertical-align: middle;\n",
       "    }\n",
       "\n",
       "    .dataframe tbody tr th {\n",
       "        vertical-align: top;\n",
       "    }\n",
       "\n",
       "    .dataframe thead th {\n",
       "        text-align: right;\n",
       "    }\n",
       "</style>\n",
       "<table border=\"1\" class=\"dataframe\">\n",
       "  <thead>\n",
       "    <tr style=\"text-align: right;\">\n",
       "      <th></th>\n",
       "      <th>Precision</th>\n",
       "      <th>Recall</th>\n",
       "      <th>F1</th>\n",
       "    </tr>\n",
       "  </thead>\n",
       "  <tbody>\n",
       "    <tr>\n",
       "      <th>Fact</th>\n",
       "      <td>0.453608</td>\n",
       "      <td>0.357143</td>\n",
       "      <td>0.399637</td>\n",
       "    </tr>\n",
       "    <tr>\n",
       "      <th>Policy</th>\n",
       "      <td>0.392857</td>\n",
       "      <td>0.222222</td>\n",
       "      <td>0.283871</td>\n",
       "    </tr>\n",
       "    <tr>\n",
       "      <th>Value</th>\n",
       "      <td>0.547014</td>\n",
       "      <td>0.742241</td>\n",
       "      <td>0.629846</td>\n",
       "    </tr>\n",
       "    <tr>\n",
       "      <th>Value(+)</th>\n",
       "      <td>0.313433</td>\n",
       "      <td>0.136364</td>\n",
       "      <td>0.190045</td>\n",
       "    </tr>\n",
       "    <tr>\n",
       "      <th>Value(-)</th>\n",
       "      <td>0.443946</td>\n",
       "      <td>0.263298</td>\n",
       "      <td>0.330551</td>\n",
       "    </tr>\n",
       "  </tbody>\n",
       "</table>\n",
       "</div>"
      ],
      "text/plain": [
       "          Precision    Recall        F1\n",
       "Fact       0.453608  0.357143  0.399637\n",
       "Policy     0.392857  0.222222  0.283871\n",
       "Value      0.547014  0.742241  0.629846\n",
       "Value(+)   0.313433  0.136364  0.190045\n",
       "Value(-)   0.443946  0.263298  0.330551"
      ]
     },
     "execution_count": 33,
     "metadata": {},
     "output_type": "execute_result"
    }
   ],
   "source": [
    "\n",
    "svm_model = LinearSVC(verbose=1)\n",
    "\n",
    "svm_gs = HalvingGridSearchCV(svm_model, n_jobs=-1, param_grid = {\n",
    "    \"C\": np.logspace(-4,4,5),\n",
    "    \"loss\": [\"hinge\", \"squared_hinge\"]\n",
    "}, cv=5, scoring=\"f1_weighted\", verbose=3)\n",
    "\n",
    "#set scoring as f1_weighted to reduce bias\n",
    "\n",
    "svm_gs.fit(X_train, y_train)\n",
    "print_metrics(y_test, svm_gs.predict(X_test), svm_gs.classes_)"
   ]
  },
  {
   "cell_type": "markdown",
   "id": "fe151ab2",
   "metadata": {
    "id": "fe151ab2"
   },
   "source": [
    "## Logistic Regression Classifier\n",
    "We can now do the same apply the Logistic Regression classifier and compare it with the previously obtained models with SGD optimization.\n"
   ]
  },
  {
   "cell_type": "code",
   "execution_count": 40,
   "id": "6098ceac",
   "metadata": {},
   "outputs": [
    {
     "name": "stderr",
     "output_type": "stream",
     "text": [
      "[Parallel(n_jobs=-1)]: Using backend LokyBackend with 16 concurrent workers.\n",
      "[Parallel(n_jobs=-1)]: Done   1 out of   1 | elapsed:  1.5min finished\n"
     ]
    },
    {
     "name": "stdout",
     "output_type": "stream",
     "text": [
      "              precision    recall  f1-score   support\n",
      "\n",
      "        Fact       0.59      0.17      0.26       616\n",
      "      Policy       0.00      0.00      0.00        99\n",
      "       Value       0.50      0.96      0.66      1160\n",
      "    Value(+)       0.00      0.00      0.00       154\n",
      "    Value(-)       0.40      0.01      0.01       376\n",
      "\n",
      "    accuracy                           0.51      2405\n",
      "   macro avg       0.30      0.23      0.19      2405\n",
      "weighted avg       0.46      0.51      0.39      2405\n",
      "\n"
     ]
    },
    {
     "name": "stderr",
     "output_type": "stream",
     "text": [
      "C:\\Users\\caion\\anaconda3\\lib\\site-packages\\sklearn\\metrics\\_classification.py:1308: UndefinedMetricWarning: Precision and F-score are ill-defined and being set to 0.0 in labels with no predicted samples. Use `zero_division` parameter to control this behavior.\n",
      "  _warn_prf(average, modifier, msg_start, len(result))\n",
      "C:\\Users\\caion\\anaconda3\\lib\\site-packages\\sklearn\\metrics\\_classification.py:1308: UndefinedMetricWarning: Precision and F-score are ill-defined and being set to 0.0 in labels with no predicted samples. Use `zero_division` parameter to control this behavior.\n",
      "  _warn_prf(average, modifier, msg_start, len(result))\n",
      "C:\\Users\\caion\\anaconda3\\lib\\site-packages\\sklearn\\metrics\\_classification.py:1308: UndefinedMetricWarning: Precision and F-score are ill-defined and being set to 0.0 in labels with no predicted samples. Use `zero_division` parameter to control this behavior.\n",
      "  _warn_prf(average, modifier, msg_start, len(result))\n"
     ]
    }
   ],
   "source": [
    "#Logistic Regression without hyperparameter tuning\n",
    "#Hyperparameter tuning takes too much time with this classifier\n",
    "\n",
    "lr_model = LogisticRegression(n_jobs=-1, verbose=1)\n",
    "lr_model.fit(X_train, y_train)\n",
    "print(classification_report(y_test, lr_model.predict(X_test)))\n"
   ]
  },
  {
   "cell_type": "markdown",
   "id": "a09de9bb",
   "metadata": {},
   "source": [
    "## XGBoost "
   ]
  },
  {
   "cell_type": "code",
   "execution_count": null,
   "id": "7e762a54",
   "metadata": {},
   "outputs": [],
   "source": [
    "import xgboost as xgb\n",
    "xgb_clf = xgb.XGBClassifier(n_jobs=-1)\n",
    "\n",
    "xgb_clf.fit(X_train, y_train)\n",
    "print(classification_report(y_test, xgb_clf.predict(X_test)))"
   ]
  },
  {
   "cell_type": "markdown",
   "id": "da657112",
   "metadata": {},
   "source": [
    "## Perceptron"
   ]
  },
  {
   "cell_type": "code",
   "execution_count": 37,
   "id": "c24fd3da",
   "metadata": {},
   "outputs": [
    {
     "name": "stdout",
     "output_type": "stream",
     "text": [
      "              precision    recall  f1-score   support\n",
      "\n",
      "        Fact       0.52      0.13      0.21       616\n",
      "      Policy       0.50      0.01      0.02        99\n",
      "       Value       0.49      0.95      0.65      1160\n",
      "    Value(+)       0.33      0.01      0.01       154\n",
      "    Value(-)       0.50      0.00      0.01       376\n",
      "\n",
      "    accuracy                           0.49      2405\n",
      "   macro avg       0.47      0.22      0.18      2405\n",
      "weighted avg       0.49      0.49      0.37      2405\n",
      "\n",
      "Accuracy score:  0.49313929313929317\n",
      "Balanced accuracy score:  0.2203017810427935\n"
     ]
    },
    {
     "data": {
      "image/png": "[encoded data removed]",
      "text/plain": [
       "<Figure size 432x288 with 2 Axes>"
      ]
     },
     "metadata": {
      "needs_background": "light"
     },
     "output_type": "display_data"
    },
    {
     "data": {
      "text/html": [
       "<div>\n",
       "<style scoped>\n",
       "    .dataframe tbody tr th:only-of-type {\n",
       "        vertical-align: middle;\n",
       "    }\n",
       "\n",
       "    .dataframe tbody tr th {\n",
       "        vertical-align: top;\n",
       "    }\n",
       "\n",
       "    .dataframe thead th {\n",
       "        text-align: right;\n",
       "    }\n",
       "</style>\n",
       "<table border=\"1\" class=\"dataframe\">\n",
       "  <thead>\n",
       "    <tr style=\"text-align: right;\">\n",
       "      <th></th>\n",
       "      <th>Precision</th>\n",
       "      <th>Recall</th>\n",
       "      <th>F1</th>\n",
       "    </tr>\n",
       "  </thead>\n",
       "  <tbody>\n",
       "    <tr>\n",
       "      <th>Fact</th>\n",
       "      <td>0.522293</td>\n",
       "      <td>0.133117</td>\n",
       "      <td>0.212160</td>\n",
       "    </tr>\n",
       "    <tr>\n",
       "      <th>Policy</th>\n",
       "      <td>0.500000</td>\n",
       "      <td>0.010101</td>\n",
       "      <td>0.019802</td>\n",
       "    </tr>\n",
       "    <tr>\n",
       "      <th>Value</th>\n",
       "      <td>0.491299</td>\n",
       "      <td>0.949138</td>\n",
       "      <td>0.647457</td>\n",
       "    </tr>\n",
       "    <tr>\n",
       "      <th>Value(+)</th>\n",
       "      <td>0.333333</td>\n",
       "      <td>0.006494</td>\n",
       "      <td>0.012739</td>\n",
       "    </tr>\n",
       "    <tr>\n",
       "      <th>Value(-)</th>\n",
       "      <td>0.500000</td>\n",
       "      <td>0.002660</td>\n",
       "      <td>0.005291</td>\n",
       "    </tr>\n",
       "  </tbody>\n",
       "</table>\n",
       "</div>"
      ],
      "text/plain": [
       "          Precision    Recall        F1\n",
       "Fact       0.522293  0.133117  0.212160\n",
       "Policy     0.500000  0.010101  0.019802\n",
       "Value      0.491299  0.949138  0.647457\n",
       "Value(+)   0.333333  0.006494  0.012739\n",
       "Value(-)   0.500000  0.002660  0.005291"
      ]
     },
     "execution_count": 37,
     "metadata": {},
     "output_type": "execute_result"
    }
   ],
   "source": [
    "perceptron_model = Perceptron(n_jobs=-1)\n",
    "perceptron_model.fit(X_train, y_train)\n",
    "\n",
    "print(classification_report(y_test, perceptron_model.predict(X_test)))\n",
    "print_metrics(y_test, perceptron_model.predict(X_test), svm_gs.classes_)"
   ]
  },
  {
   "cell_type": "markdown",
   "id": "38d31ffb",
   "metadata": {},
   "source": [
    "## Results comparison"
   ]
  },
  {
   "cell_type": "code",
   "execution_count": null,
   "id": "69e63b20",
   "metadata": {},
   "outputs": [],
   "source": [
    "from sklearn.model_selection import cross_validate\n",
    "from sklearn.model_selection import cross_val_score\n",
    "\n",
    "classifiers = {}\n",
    "classifiers['Complement NB'] = clf\n",
    "classifiers['Perceptron'] = perceptron_model\n",
    "classifiers['SVM'] = svm_gs.best_estimator_\n",
    "classifiers['Logistic Regression'] = lr_model\n",
    "#classifiers['K Nearest Neighbours'] = knngs.best_estimator_\n",
    "clf_df = pd.DataFrame()\n",
    "for name, clf in classifiers.items():\n",
    "    clf_df = clf_df.append(pd.DataFrame({'accuracy': cross_val_score(clf, X_train, y_train, cv=StratifiedKFold(n_splits=10)),\n",
    "                       'classifier': [name] * 10}))\n",
    "\n",
    "ax = sb.boxplot(x='classifier', y='accuracy', data=clf_df)\n",
    "ax.set_title('Classifiers Accuracy')\n",
    "ax.set_xticklabels(ax.get_xticklabels(), rotation=20, horizontalalignment='right')\n"
   ]
  },
  {
   "cell_type": "code",
   "execution_count": 50,
   "id": "a7bfa9aa",
   "metadata": {},
   "outputs": [
    {
     "data": {
      "image/png": "[encoded data removed]",
      "text/plain": [
       "<Figure size 432x288 with 1 Axes>"
      ]
     },
     "metadata": {},
     "output_type": "display_data"
    }
   ],
   "source": [
    "sb.set_theme(style=\"whitegrid\", palette=\"pastel\")\n",
    "ax = sb.boxplot(x='classifier', y='accuracy', data=clf_df)\n",
    "ax.set_title('Classifiers Accuracy')\n",
    "ax.set_xticklabels(ax.get_xticklabels())\n",
    "\n",
    "fig = ax.get_figure()\n",
    "fig.savefig(\"./statistics/accuracy.png\") "
   ]
  },
  {
   "cell_type": "markdown",
   "id": "ItSXZj8fM5tF",
   "metadata": {
    "id": "ItSXZj8fM5tF"
   },
   "source": [
    "## Error Analysis\n",
    "\n",
    "To debug the models, we need to look at wrongly classified samples and detect patterns to figure out why the models are failing to classify them."
   ]
  },
  {
   "cell_type": "code",
   "execution_count": 47,
   "id": "VjQopnPZSDFY",
   "metadata": {
    "id": "VjQopnPZSDFY"
   },
   "outputs": [
    {
     "name": "stdout",
     "output_type": "stream",
     "text": [
      "euPRON gostarVERB deSCONJ estudarVERB nlpPROPN !PUNCT\n"
     ]
    },
    {
     "data": {
      "text/plain": [
       "array(['Value'], dtype='<U8')"
      ]
     },
     "execution_count": 47,
     "metadata": {},
     "output_type": "execute_result"
    }
   ],
   "source": [
    "sample_text = \"Eu gostei de estudar NLP!\"\n",
    "review = ' '.join([word.lemma_.lower().strip() + word.pos_ for word in nlp(sample_text)])\n",
    "print(review)\n",
    "df_test = pd.DataFrame({\"corpus\": [review]})\n",
    "vector = column_trans.transform(df_test)\n",
    "sgd_classifier.predict(vector)"
   ]
  },
  {
   "cell_type": "code",
   "execution_count": 42,
   "id": "51241285",
   "metadata": {},
   "outputs": [],
   "source": [
    "features = column_trans.named_transformers_['corpus'].get_feature_names()"
   ]
  },
  {
   "cell_type": "code",
   "execution_count": 56,
   "id": "88629375",
   "metadata": {},
   "outputs": [],
   "source": [
    "predictions = sgd_classifier.predict(X_test)\n",
    "df_error_analysis = pd.DataFrame({\"predicted\": predictions, \"ground truth\": y_test})\n",
    "\n",
    "incorrect = []\n",
    "\n",
    "for idx, row in enumerate(df_error_analysis.iterrows()):\n",
    "    if row[1][\"predicted\"] == row[1][\"ground truth\"]: continue\n",
    "        \n",
    "    tokens = [x[1] for x in zip(X_test[idx], features) if x[0] > 0]\n",
    "    tokens += [\"Predicted: \" + row[1][\"predicted\"], \"Ground Truth: \" + row[1][\"ground truth\"]]\n",
    "    incorrect.append(tokens)\n",
    "    "
   ]
  },
  {
   "cell_type": "code",
   "execution_count": 58,
   "id": "deca6b12",
   "metadata": {},
   "outputs": [
    {
     "data": {
      "text/plain": [
       "['abaixaradv preververb',\n",
       " 'enormeadj margemnoun',\n",
       " 'enquadrarverb',\n",
       " 'entenderverb maisadv',\n",
       " 'entenderverb porquesconj',\n",
       " 'sobraradp clientenoun',\n",
       " 'Predicted: Value(-)',\n",
       " 'Ground Truth: Value']"
      ]
     },
     "execution_count": 58,
     "metadata": {},
     "output_type": "execute_result"
    }
   ],
   "source": [
    "incorrect[0]"
   ]
  },
  {
   "cell_type": "code",
   "execution_count": null,
   "id": "6b064f50",
   "metadata": {},
   "outputs": [],
   "source": []
  }
 ],
 "metadata": {
  "colab": {
   "name": "assignment1.ipynb",
   "provenance": [],
   "toc_visible": true
  },
  "kernelspec": {
   "display_name": "Python 3 (ipykernel)",
   "language": "python",
   "name": "python3"
  },
  "language_info": {
   "codemirror_mode": {
    "name": "ipython",
    "version": 3
   },
   "file_extension": ".py",
   "mimetype": "text/x-python",
   "name": "python",
   "nbconvert_exporter": "python",
   "pygments_lexer": "ipython3",
   "version": "3.8.8"
  }
 },
 "nbformat": 4,
 "nbformat_minor": 5
}
