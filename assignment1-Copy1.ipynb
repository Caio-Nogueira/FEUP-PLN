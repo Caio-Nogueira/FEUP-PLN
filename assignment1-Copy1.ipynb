{
 "cells": [
  {
   "cell_type": "markdown",
   "id": "c902a82e",
   "metadata": {
    "id": "c902a82e"
   },
   "source": [
    "# PLN Assignment 1\n",
    "\n",
    "In the scope of the DARGMINTS project, an annotation project was carried out which consisted of annotating argumentation structures in opinion articles published in the Público newspaper. The annotation included several layers:\n",
    "\n",
    "Selecting text spans that are taken to have an argumentative role (either as premises or conclusions of arguments) -- these are Argumentative Discourse Units (ADU).\n",
    "Connecting such ADUs through support or attack relations.\n",
    "Classifying the propositional content of ADUs as propositions of fact, propositions of value, or propositions of policy; within propositions of value, distinguish between those with a positive (+) or negative (-) connotation.\n",
    "In a proposition of fact, the content corresponds to a piece of information that can be checked for truthness. This does not usually happen with propositions of value, which denote value judgments with a strong subjective nature; often, they also have a (positive or negative) polarity attached. A proposition of policy prescribes or suggests a certain line of action, often mentioning the agents or entities that are capable of carrying out such policies.\n",
    "\n",
    "The aim of this assignment is to build a classifier of types of ADUs, thus focusing on the last annotation step described above. For that, you have access to two different files:\n",
    "\n",
    "A file containing the content of each annotated ADU span and its 5-class classification: Value, Value(+), Value(-), Fact, or Policy. For each ADU, we also know the annotator and the document from which it has been taken.\n",
    "A file containing details for each opinion article that has been annotated, including the full article content.\n",
    "Besides ADU contents, you can make use of any contextual information provided in the corresponding opinion article.\n",
    "\n",
    "Each opinion article has been annotated by 3 different annotators. For that reason, you will find in the ADU file an indication of which annotator has obtained the ADU. It may happen that the same ADU has been annotated by more than one annotator. When that is the case, they do not necessarily agree on the type of proposition.\n",
    "\n",
    "How good a classifier (or set of classifiers) can you get? Don't forget to properly split the dataset in a sensible manner, so that you have a proper test set. Start by obtaining an arbitrary baseline, against which you can then compare your improvements.\n",
    "\n",
    "## Importing the data\n",
    "\n",
    "In order to fulfill this NLP task we will use `pandas`, `sklearn`, `nltk`, `numpy`, `matplotlib`, `seaborn` and other Python libraries\n"
   ]
  },
  {
   "cell_type": "code",
   "execution_count": 2,
   "id": "iEQIK6AV3ieB",
   "metadata": {
    "colab": {
     "base_uri": "https://localhost:8080/"
    },
    "id": "iEQIK6AV3ieB",
    "outputId": "ae671dfd-03b8-4369-c6d4-01f20239b127"
   },
   "outputs": [
    {
     "name": "stdout",
     "output_type": "stream",
     "text": [
      "/content/FEUP-PLN\n"
     ]
    }
   ],
   "source": [
    "%cd FEUP-PLN"
   ]
  },
  {
   "cell_type": "code",
   "execution_count": 2,
   "id": "16d43f8a",
   "metadata": {
    "colab": {
     "base_uri": "https://localhost:8080/"
    },
    "id": "16d43f8a",
    "outputId": "d9ed2cab-3920-453b-a91e-da728bf11a3d"
   },
   "outputs": [
    {
     "data": {
      "text/plain": [
       "False"
      ]
     },
     "execution_count": 2,
     "metadata": {},
     "output_type": "execute_result"
    }
   ],
   "source": [
    "import pandas as pd\n",
    "import numpy as np\n",
    "\n",
    "ADUs = pd.read_excel(\"data/OpArticles_ADUs.xlsx\")\n",
    "articles = pd.read_excel(\"data/OpArticles.xlsx\")\n",
    "\n",
    "ADUs.isnull().values.any() #check NaNs\n"
   ]
  },
  {
   "cell_type": "code",
   "execution_count": 19,
   "id": "4eb1c7a0",
   "metadata": {
    "colab": {
     "base_uri": "https://localhost:8080/"
    },
    "id": "4eb1c7a0",
    "outputId": "8b1803d4-3fc1-4058-d07b-4fb17ef8a1dc"
   },
   "outputs": [
    {
     "data": {
      "text/plain": [
       "Value       8102\n",
       "Fact        3663\n",
       "Value(-)    2900\n",
       "Value(+)    1411\n",
       "Policy       667\n",
       "Name: label, dtype: int64"
      ]
     },
     "execution_count": 19,
     "metadata": {},
     "output_type": "execute_result"
    }
   ],
   "source": [
    "ADUs[\"label\"].value_counts()"
   ]
  },
  {
   "cell_type": "markdown",
   "id": "cd11d77d",
   "metadata": {
    "id": "cd11d77d"
   },
   "source": [
    "## Handling repeated text spans\n",
    "\n",
    "Some text spans were annotated by more than one annotator. Therefore, it may be the case that some text spans have different labels, which may harm the training phase."
   ]
  },
  {
   "cell_type": "code",
   "execution_count": 3,
   "id": "29de4c21",
   "metadata": {
    "colab": {
     "base_uri": "https://localhost:8080/"
    },
    "id": "29de4c21",
    "outputId": "956acdf5-84a5-486d-9e55-0829f0653bc1"
   },
   "outputs": [
    {
     "data": {
      "text/plain": [
       "((12302,), (16743,))"
      ]
     },
     "execution_count": 3,
     "metadata": {},
     "output_type": "execute_result"
    }
   ],
   "source": [
    "unique_spans = np.unique(ADUs[['article_id', 'ranges']].values)\n",
    "(unique_spans.shape, ADUs[\"tokens\"].shape)"
   ]
  },
  {
   "cell_type": "markdown",
   "id": "5b72cd44",
   "metadata": {
    "id": "5b72cd44"
   },
   "source": [
    "As we can see, more than 4000 text spans were evaluated by more than one annotator. Now let's check how many of these text spans receive different labels"
   ]
  },
  {
   "cell_type": "markdown",
   "id": "576b7531",
   "metadata": {
    "id": "576b7531"
   },
   "source": [
    "## Data preparation\n",
    "\n",
    "The next step is to cleanup the dataset, applying text normalization techniques:\n",
    " - Removing non-alphabetic chars\n",
    " - Lowercasing\n",
    " - Removing stop words\n",
    " - Stemming/lemmatization\n",
    " \n",
    "However, before applying these techniques, let's try to remove the repeated annotations that may confuse the classifiers on the future steps. In order to decide which is the correct label for each (article_id, range) pair, we compute the majority."
   ]
  },
  {
   "cell_type": "code",
   "execution_count": 4,
   "id": "40f41968",
   "metadata": {
    "id": "40f41968"
   },
   "outputs": [],
   "source": [
    "grouped_df = ADUs.groupby(by=['article_id', 'ranges'])\n",
    "dataset_dict = {\"tokens\": [], \"label\": []}\n",
    "\n",
    "for i, group in grouped_df:\n",
    "    dict_counts = {x: group[\"label\"].value_counts()[x] for x in np.unique(group[['label']].values)}\n",
    "    final_label = max(dict_counts.items(), key=lambda x: x[1])\n",
    "    dataset_dict[\"tokens\"].append(group[\"tokens\"].values[0])\n",
    "    dataset_dict[\"label\"].append(final_label[0])\n",
    "    \n",
    "dataset = pd.DataFrame(dataset_dict, columns = [\"tokens\", \"label\"])\n",
    "\n"
   ]
  },
  {
   "cell_type": "code",
   "execution_count": 5,
   "id": "3c5fc298",
   "metadata": {
    "colab": {
     "base_uri": "https://localhost:8080/"
    },
    "id": "3c5fc298",
    "outputId": "e0926d43-915a-4e03-e8a0-ca6c399ed6f0",
    "scrolled": true
   },
   "outputs": [
    {
     "name": "stdout",
     "output_type": "stream",
     "text": [
      "Value       8102\n",
      "Fact        3663\n",
      "Value(-)    2900\n",
      "Value(+)    1411\n",
      "Policy       667\n",
      "Name: label, dtype: int64\n"
     ]
    },
    {
     "data": {
      "text/plain": [
       "Value       5003\n",
       "Fact        2897\n",
       "Value(-)    2401\n",
       "Value(+)    1181\n",
       "Policy       539\n",
       "Name: label, dtype: int64"
      ]
     },
     "execution_count": 5,
     "metadata": {},
     "output_type": "execute_result"
    }
   ],
   "source": [
    "print(ADUs[\"label\"].value_counts())\n",
    "dataset[\"label\"].value_counts()"
   ]
  },
  {
   "cell_type": "markdown",
   "id": "b1eb5ea7",
   "metadata": {
    "id": "b1eb5ea7"
   },
   "source": [
    "We managed to reduce the amount of rows in the dataframe -> some of them had repeated/conflictuous labels. "
   ]
  },
  {
   "cell_type": "code",
   "execution_count": null,
   "id": "EKfXa4aa6-1_",
   "metadata": {
    "id": "EKfXa4aa6-1_"
   },
   "outputs": [],
   "source": [
    "!python -m spacy download pt_core_news_sm"
   ]
  },
  {
   "cell_type": "code",
   "execution_count": null,
   "id": "JcZrVjyO6rGf",
   "metadata": {
    "colab": {
     "base_uri": "https://localhost:8080/"
    },
    "id": "JcZrVjyO6rGf",
    "outputId": "063da04f-ae06-4074-a86f-e881124882d5"
   },
   "outputs": [
    {
     "name": "stdout",
     "output_type": "stream",
     "text": [
      "  SPACE   \n",
      "atingiram VERB ROOT atingir\n",
      "picos NOUN obj pico\n",
      "históricos ADJ amod histórico\n",
      "na PROPN ROOT o\n",
      "passada VERB acl passar\n",
      "sexta-feira NOUN nmod sexta-feira\n",
      ". PUNCT punct .\n"
     ]
    }
   ],
   "source": [
    "import spacy\n",
    "from spacy.lang.pt.examples import sentences \n",
    "import pt_core_news_sm\n",
    "\n",
    "nlp = pt_core_news_sm.load()\n",
    "test_sentence = \"Os combustíveis atingiram picos históricos na passada sexta-feira.\"\n",
    "for token in nlp(test_sentence):\n",
    "    print(token.text, token.pos_, token.dep_, token.lemma_)"
   ]
  },
  {
   "cell_type": "markdown",
   "id": "20758d56",
   "metadata": {
    "id": "20758d56"
   },
   "source": [
    "## POS-tagging\n",
    "\n",
    "Apply POS-tagging (with a pre-trained model), to the full sentence of the corresponding text span."
   ]
  },
  {
   "cell_type": "code",
   "execution_count": 25,
   "id": "w8nnLIpjJY_I",
   "metadata": {
    "id": "w8nnLIpjJY_I"
   },
   "outputs": [],
   "source": [
    "#Add a new column with POS-tags that will be gathered next\n",
    "POS_list = []\n",
    "#ADUs[\"POS\"] = []\n",
    "\n",
    "for row in ADUs.iterrows():\n",
    "    POS_list.append((row[1][\"article_id\"] + row[1][\"ranges\"]))\n",
    "\n",
    "ADUs[\"POS\"] = POS_list"
   ]
  },
  {
   "cell_type": "code",
   "execution_count": 27,
   "id": "fc342396",
   "metadata": {
    "colab": {
     "base_uri": "https://localhost:8080/"
    },
    "id": "fc342396",
    "outputId": "35782ae1-b64b-4fa5-e231-f37ece262537"
   },
   "outputs": [
    {
     "name": "stdout",
     "output_type": "stream",
     "text": [
      "[nltk_data] Downloading package punkt to /root/nltk_data...\n",
      "[nltk_data]   Unzipping tokenizers/punkt.zip.\n"
     ]
    }
   ],
   "source": [
    "import nltk\n",
    "nltk.download('punkt')\n",
    "\n",
    "for i, group in grouped_df:\n",
    "    article = articles.loc[articles[\"article_id\"] == i[0]]\n",
    "\n",
    "    range = group[\"ranges\"].unique()[0]\n",
    "    start = eval(range)[0][0]\n",
    "    end = eval(range)[0][1] \n",
    "    body = article[\"body\"].values[0]\n",
    "\n",
    "    body_sentences = nltk.tokenize.sent_tokenize(body)\n",
    "    current_pos, current_sent = 0,0\n",
    "    while current_pos < start:\n",
    "        if current_sent == len(body_sentences): break\n",
    "        current_pos += len(body_sentences[current_sent])\n",
    "        current_sent += 1\n",
    "\n",
    "    tags = [token.pos_ for token in nlp(body_sentences[current_sent - 1])]\n",
    "\n",
    "    ADUs[\"POS\"].replace(i[0] + i[1], \" \".join(tags), inplace=True)\n",
    "\n",
    "  "
   ]
  },
  {
   "cell_type": "code",
   "execution_count": 28,
   "id": "a2a07FHnXheO",
   "metadata": {
    "colab": {
     "base_uri": "https://localhost:8080/"
    },
    "id": "a2a07FHnXheO",
    "outputId": "a1a0bb48-8bd4-41cc-bb2e-d7004b4fe566"
   },
   "outputs": [
    {
     "data": {
      "text/plain": [
       "count                                    16743\n",
       "unique                                    5836\n",
       "top       DET NOUN VERB ADP DET ADJ NOUN PROPN\n",
       "freq                                        57\n",
       "Name: POS, dtype: object"
      ]
     },
     "execution_count": 28,
     "metadata": {},
     "output_type": "execute_result"
    }
   ],
   "source": [
    "ADUs[\"POS\"].describe()"
   ]
  },
  {
   "cell_type": "markdown",
   "id": "UEK-ixF5xxzK",
   "metadata": {
    "id": "UEK-ixF5xxzK"
   },
   "source": [
    "## Extract features\n",
    "\n",
    "Let's start by adding the count of each POS-tag for each document"
   ]
  },
  {
   "cell_type": "code",
   "execution_count": 29,
   "id": "-VFAOlSMuK-N",
   "metadata": {
    "colab": {
     "base_uri": "https://localhost:8080/"
    },
    "id": "-VFAOlSMuK-N",
    "outputId": "37e54c46-ddec-4614-bf67-11a3791d1474"
   },
   "outputs": [
    {
     "data": {
      "text/plain": [
       "{'ADJ',\n",
       " 'ADP',\n",
       " 'ADV',\n",
       " 'AUX',\n",
       " 'CCONJ',\n",
       " 'DET',\n",
       " 'INTJ',\n",
       " 'NOUN',\n",
       " 'NUM',\n",
       " 'PART',\n",
       " 'PRON',\n",
       " 'PROPN',\n",
       " 'PUNCT',\n",
       " 'SCONJ',\n",
       " 'SPACE',\n",
       " 'SYM',\n",
       " 'VERB',\n",
       " 'X'}"
      ]
     },
     "execution_count": 29,
     "metadata": {},
     "output_type": "execute_result"
    }
   ],
   "source": [
    "unique_tags_l = []\n",
    "\n",
    "for tags in ADUs[\"POS\"].values:\n",
    "    tags_list = tags.split(\" \")\n",
    "    unique_tags_l += tags_list\n",
    "\n",
    "unique_tags = set(unique_tags_l)\n",
    "unique_tags\n"
   ]
  },
  {
   "cell_type": "code",
   "execution_count": 30,
   "id": "dWS7-CrtyFSZ",
   "metadata": {
    "id": "dWS7-CrtyFSZ"
   },
   "outputs": [],
   "source": [
    "tag_counts_dict = {}\n",
    "\n",
    "for tag in list(unique_tags):\n",
    "    name = tag + \"_count\"\n",
    "    tag_counts_dict[name] = []\n",
    "    for row in ADUs.iterrows():\n",
    "    tags_list = row[1][\"POS\"].split(\" \")\n",
    "    tag_counts_dict[name].append(tags_list.count(tag) / len(tags_list))\n",
    "    \n",
    "\n",
    "for k in tag_counts_dict.keys():\n",
    "    ADUs[k] = tag_counts_dict[k]\n"
   ]
  },
  {
   "cell_type": "markdown",
   "id": "95oQ6QO95llE",
   "metadata": {
    "id": "95oQ6QO95llE"
   },
   "source": [
    "## Extract topics as features"
   ]
  },
  {
   "cell_type": "code",
   "execution_count": 31,
   "id": "o12BY1ew5qId",
   "metadata": {
    "id": "o12BY1ew5qId"
   },
   "outputs": [],
   "source": [
    "topics_l = []\n",
    "for row in ADUs.iterrows():\n",
    "    ID = row[1][\"article_id\"]\n",
    "    article = articles.loc[articles[\"article_id\"] == ID]\n",
    "    topic = article[\"topics\"].values[0]\n",
    "    topics_l.append(topic)\n",
    "\n",
    "ADUs[\"topics\"] = topics_l"
   ]
  },
  {
   "cell_type": "markdown",
   "id": "ymC5IPdeLlXz",
   "metadata": {
    "id": "ymC5IPdeLlXz"
   },
   "source": [
    "## Saving tagged data"
   ]
  },
  {
   "cell_type": "code",
   "execution_count": 32,
   "id": "y5EWgqivLp3s",
   "metadata": {
    "id": "y5EWgqivLp3s"
   },
   "outputs": [],
   "source": [
    "ADUs.to_excel(\"data/ADUs_pre-processed.xlsx\")"
   ]
  },
  {
   "cell_type": "markdown",
   "id": "cEWw8mKbZT9N",
   "metadata": {
    "id": "cEWw8mKbZT9N"
   },
   "source": [
    "## Reading the pre-processed dataset"
   ]
  },
  {
   "cell_type": "code",
   "execution_count": 2,
   "id": "jlFvv0X3nRPM",
   "metadata": {
    "colab": {
     "base_uri": "https://localhost:8080/"
    },
    "id": "jlFvv0X3nRPM",
    "outputId": "e50b2371-4fa7-45db-b1cb-1f9de6cd44ab"
   },
   "outputs": [
    {
     "name": "stdout",
     "output_type": "stream",
     "text": [
      "/content/FEUP-PLN\n"
     ]
    }
   ],
   "source": [
    "%cd FEUP-PLN"
   ]
  },
  {
   "cell_type": "code",
   "execution_count": 18,
   "id": "fKPvtnoSbZWT",
   "metadata": {
    "id": "fKPvtnoSbZWT"
   },
   "outputs": [],
   "source": [
    "import pandas as pd\n",
    "import numpy as np\n",
    "import nltk\n",
    "\n",
    "ADUs = pd.read_excel(\"data/ADUs_pre-processed.xlsx\")\n",
    "\n",
    "grouped_df = ADUs.groupby(by=['article_id', 'ranges'])\n",
    "dataset_dict = {\"tokens\": [], \"label\": []}\n",
    "\n",
    "for c in ADUs.columns[8:]:\n",
    "    dataset_dict[c] = []\n",
    "\n",
    "for i, group in grouped_df:\n",
    "    dict_counts = {x: group[\"label\"].value_counts()[x] for x in np.unique(group[['label']].values)}\n",
    "    final_label = max(dict_counts.items(), key=lambda x: x[1])\n",
    "    dataset_dict[\"tokens\"].append(group[\"tokens\"].values[0])\n",
    "    dataset_dict[\"label\"].append(final_label[0])\n",
    "\n",
    "    for c in ADUs.columns[8:]:\n",
    "        dataset_dict[c].append(group[c].values[0])\n",
    "    \n",
    "    \n",
    "    \n",
    "dataset = pd.DataFrame(dataset_dict, columns = dataset_dict.keys())\n",
    "#dataset = ADUs"
   ]
  },
  {
   "cell_type": "markdown",
   "id": "f7c14ad6",
   "metadata": {
    "id": "f7c14ad6"
   },
   "source": [
    "## Analyzing Stopwords\n",
    "Some stopwords from `nltk` should not be ignored by the model, as they have correlation with the label."
   ]
  },
  {
   "cell_type": "code",
   "execution_count": null,
   "id": "55aa6e11",
   "metadata": {
    "colab": {
     "base_uri": "https://localhost:8080/"
    },
    "id": "55aa6e11",
    "outputId": "f24698af-f045-4493-deae-0e6255580878"
   },
   "outputs": [],
   "source": [
    "from nltk.corpus import stopwords\n",
    "import nltk\n",
    "nltk.download('stopwords')\n",
    "stopwords_list = stopwords.words(\"portuguese\")\n",
    "\n",
    "\n",
    "stopwords_list.remove(\"não\")\n",
    "stopwords_list.remove(\"muito\")\n",
    "stopwords_list.remove(\"mais\")"
   ]
  },
  {
   "cell_type": "code",
   "execution_count": null,
   "id": "S10FQaFdkIBj",
   "metadata": {
    "id": "S10FQaFdkIBj"
   },
   "outputs": [],
   "source": [
    "dataset = ADUs"
   ]
  },
  {
   "cell_type": "code",
   "execution_count": null,
   "id": "482321af",
   "metadata": {},
   "outputs": [],
   "source": [
    "!python -m spacy download pt_core_news_sm"
   ]
  },
  {
   "cell_type": "code",
   "execution_count": null,
   "id": "05330104",
   "metadata": {
    "id": "05330104"
   },
   "outputs": [],
   "source": [
    "import pt_core_news_sm\n",
    "import re\n",
    "nltk.download('rslp')\n",
    "from nltk.stem import RSLPStemmer # portuguese stemmer\n",
    "nlp = pt_core_news_sm.load()\n",
    "corpus = []\n",
    "#stemmer = RSLPStemmer()\n",
    "for row in dataset.iterrows():\n",
    "    # get review and remove non alpha chars\n",
    "    review = re.sub('[^a-zA-Z!?]', ' ',row[1][\"tokens\"])\n",
    "    # to lower-case\n",
    "    review = review.lower()\n",
    "    # split into tokens, apply stemming and remove stop words\n",
    "    review = ' '.join([word.lemma_.lower().strip() + word.pos_ for word in nlp(review) if not word.text in stopwords_list])\n",
    "    corpus.append(review)\n",
    "\n",
    "\n",
    "dataset[\"corpus\"] = corpus"
   ]
  },
  {
   "cell_type": "markdown",
   "id": "8d472904",
   "metadata": {
    "id": "8d472904"
   },
   "source": [
    "\n",
    "## Generating a data set\n",
    "\n",
    "We need to transform the corpus into a collection that can be handled by a machine learning model. We will be using `sklearn`'s TfidfVectorizer class"
   ]
  },
  {
   "cell_type": "code",
   "execution_count": 34,
   "id": "38e087a6",
   "metadata": {
    "id": "38e087a6"
   },
   "outputs": [],
   "source": [
    "column_trans = ColumnTransformer([\n",
    "    (\"topics\", OneHotEncoder(), [\"topics\"]),\n",
    "    (\"corpus\", TfidfVectorizer(ngram_range=(1,2), min_df = 2), \"corpus\")\n",
    "    #(\"counts\", \"passthrough\", ADUs.columns[8:-2])\n",
    "], verbose_feature_names_out=False)\n",
    "\n",
    "#vectorizer = TfidfVectorizer(ngram_range=(1,2), min_df = 3)\n",
    "X = column_trans.fit_transform(dataset).toarray()\n"
   ]
  },
  {
   "cell_type": "code",
   "execution_count": 35,
   "id": "8569b63d",
   "metadata": {
    "colab": {
     "base_uri": "https://localhost:8080/"
    },
    "id": "8569b63d",
    "outputId": "490a2db7-75a7-4f23-faa2-878468f5de30"
   },
   "outputs": [
    {
     "name": "stdout",
     "output_type": "stream",
     "text": [
      "(16743,)\n",
      "0    Value\n",
      "1    Value\n",
      "2    Value\n",
      "3    Value\n",
      "4    Value\n",
      "Name: label, dtype: object\n"
     ]
    }
   ],
   "source": [
    "y = dataset[\"label\"]\n",
    "print(y.shape)\n",
    "print(y.head())"
   ]
  },
  {
   "cell_type": "markdown",
   "id": "67d10ef4",
   "metadata": {
    "id": "67d10ef4"
   },
   "source": [
    "## Splitting the dataset into training and testing\n",
    "\n",
    "The next step is to split the dataset into training and testing. We will be using a 80%-20% split. Since classes are unbalanced (*Value* examples are significantly more abundant than *Policy* examples), we need to stratify both sets -> try to get a similar class distribution for each set."
   ]
  },
  {
   "cell_type": "code",
   "execution_count": 36,
   "id": "89bcae36",
   "metadata": {
    "id": "89bcae36"
   },
   "outputs": [
    {
     "name": "stdout",
     "output_type": "stream",
     "text": [
      "(13394, 47744) (13394,)\n",
      "(3349, 47744) (3349,)\n",
      "\n",
      "Label distribution in the training set:\n",
      "Value       6470\n",
      "Fact        2961\n",
      "Value(-)    2290\n",
      "Value(+)    1135\n",
      "Policy       538\n",
      "Name: label, dtype: int64\n",
      "\n",
      "Label distribution in the test set:\n",
      "Value       1632\n",
      "Fact         702\n",
      "Value(-)     610\n",
      "Value(+)     276\n",
      "Policy       129\n",
      "Name: label, dtype: int64\n"
     ]
    }
   ],
   "source": [
    "from sklearn.model_selection import train_test_split\n",
    "\n",
    "X_train, X_test, y_train, y_test = train_test_split(X, y, test_size = 0.20)\n",
    "\n",
    "print(X_train.shape, y_train.shape)\n",
    "print(X_test.shape, y_test.shape)\n",
    "\n",
    "print(\"\\nLabel distribution in the training set:\")\n",
    "print(y_train.value_counts())\n",
    "\n",
    "print(\"\\nLabel distribution in the test set:\")\n",
    "print(y_test.value_counts())"
   ]
  },
  {
   "cell_type": "markdown",
   "id": "DruQ5tmgGziV",
   "metadata": {
    "id": "DruQ5tmgGziV"
   },
   "source": [
    "## Computing class weights\n",
    "\n",
    "Since the dataset is unbalanced, we need to compute weights or apply oversampling/undersampling techniques. Otherwise predictions would be heavily biased towards the majority class."
   ]
  },
  {
   "cell_type": "code",
   "execution_count": null,
   "id": "NfLd1VxqHMiM",
   "metadata": {
    "colab": {
     "base_uri": "https://localhost:8080/"
    },
    "id": "NfLd1VxqHMiM",
    "outputId": "c7bb1703-cda4-45d4-d86b-42dce878d11c"
   },
   "outputs": [
    {
     "data": {
      "text/plain": [
       "{'Fact': 0.8011329556814395,\n",
       " 'Policy': 4.704892367906067,\n",
       " 'Value': 0.4182672233820459,\n",
       " 'Value(+)': 2.704386951631046,\n",
       " 'Value(-)': 1.284294871794872}"
      ]
     },
     "execution_count": 45,
     "metadata": {},
     "output_type": "execute_result"
    }
   ],
   "source": [
    "from sklearn.utils import class_weight\n",
    "class_weights = class_weight.compute_class_weight(\n",
    "                                        class_weight = \"balanced\",\n",
    "                                        classes = np.unique(y.unique()),\n",
    "                                        y = y                                                    \n",
    "                                    )\n",
    "class_weights = dict(zip(np.unique(y.unique()), class_weights))\n",
    "class_weights"
   ]
  },
  {
   "cell_type": "markdown",
   "id": "cea4a57b",
   "metadata": {
    "id": "cea4a57b"
   },
   "source": [
    "## Training the models\n"
   ]
  },
  {
   "cell_type": "code",
   "execution_count": 16,
   "id": "592881a5",
   "metadata": {
    "id": "592881a5"
   },
   "outputs": [],
   "source": [
    "from sklearn.naive_bayes import MultinomialNB\n",
    "from sklearn.naive_bayes import ComplementNB\n",
    "from sklearn.feature_selection import SelectKBest, chi2\n",
    "from sklearn.metrics import confusion_matrix, ConfusionMatrixDisplay\n",
    "from sklearn.metrics import accuracy_score\n",
    "from sklearn.metrics import balanced_accuracy_score\n",
    "from sklearn.metrics import precision_score\n",
    "from sklearn.metrics import recall_score\n",
    "from sklearn.metrics import f1_score\n",
    "from sklearn.metrics import classification_report\n",
    "from sklearn.multiclass import OneVsRestClassifier\n",
    "from sklearn.model_selection import GridSearchCV\n",
    "from sklearn.ensemble import RandomForestClassifier\n",
    "from sklearn.ensemble import VotingClassifier\n",
    "from sklearn.preprocessing import StandardScaler\n",
    "from sklearn.linear_model import SGDClassifier\n",
    "from sklearn.model_selection import StratifiedKFold\n",
    "from sklearn.model_selection import cross_validate\n",
    "from sklearn.experimental import enable_halving_search_cv\n",
    "from sklearn.model_selection import HalvingGridSearchCV\n",
    "from sklearn.svm import LinearSVC\n",
    "from sklearn.linear_model import LogisticRegression\n",
    "import matplotlib.pyplot as plt\n",
    "import seaborn as sb\n",
    "from sklearn.model_selection import train_test_split\n",
    "from sklearn.feature_extraction.text import TfidfVectorizer\n",
    "from sklearn.preprocessing import OneHotEncoder\n",
    "from sklearn.compose import ColumnTransformer\n",
    "\n",
    "cross_validation = StratifiedKFold(n_splits=5, shuffle=True)"
   ]
  },
  {
   "cell_type": "markdown",
   "id": "9elPka6XEN8h",
   "metadata": {
    "id": "9elPka6XEN8h"
   },
   "source": [
    "## Resampling"
   ]
  },
  {
   "cell_type": "code",
   "execution_count": 13,
   "id": "4HLwzLiYEROB",
   "metadata": {
    "colab": {
     "base_uri": "https://localhost:8080/"
    },
    "id": "4HLwzLiYEROB",
    "outputId": "54162192-555b-41f6-aed3-407cfcf99168"
   },
   "outputs": [
    {
     "data": {
      "text/plain": [
       "Value       4590\n",
       "Fact        4590\n",
       "Value(-)    4590\n",
       "Policy      4590\n",
       "Value(+)    4590\n",
       "Name: label, dtype: int64"
      ]
     },
     "execution_count": 13,
     "metadata": {},
     "output_type": "execute_result"
    }
   ],
   "source": [
    "from imblearn.over_sampling import SMOTE\n",
    "from imblearn.over_sampling import RandomOverSampler\n",
    "\n",
    "ros = RandomOverSampler(random_state=1)\n",
    "sm = SMOTE()\n",
    "\n",
    "X_train, y_train = ros.fit_resample(X_train, y_train)\n",
    "#y_train.value_counts()"
   ]
  },
  {
   "cell_type": "markdown",
   "id": "b7927013",
   "metadata": {
    "id": "b7927013"
   },
   "source": [
    "### Naive Bayes\n",
    "To start off, we will train a single (`Naive Bayes`) classifier that evaluates the likelihood of a document being of one of the 5 classes. This will set the baseline for which the improvements will be measured.\n"
   ]
  },
  {
   "cell_type": "code",
   "execution_count": null,
   "id": "UljM2LRQcSJ-",
   "metadata": {
    "colab": {
     "base_uri": "https://localhost:8080/"
    },
    "id": "UljM2LRQcSJ-",
    "outputId": "972c03b4-46d2-429e-e136-a47e604d823e"
   },
   "outputs": [
    {
     "data": {
      "text/plain": [
       "label   \n",
       "Fact        4604\n",
       "Policy      4604\n",
       "Value       4604\n",
       "Value(+)    4604\n",
       "Value(-)    4604\n",
       "dtype: int64"
      ]
     },
     "execution_count": 23,
     "metadata": {},
     "output_type": "execute_result"
    }
   ],
   "source": [
    "pd.DataFrame(y_train).value_counts()"
   ]
  },
  {
   "cell_type": "code",
   "execution_count": 11,
   "id": "50bd3bf2",
   "metadata": {
    "id": "50bd3bf2"
   },
   "outputs": [],
   "source": [
    "clf = ComplementNB()\n",
    "clf.fit(X_train, y_train)\n",
    "#scores = cross_validate(clf, X_train, y_train, cv = cross_validation, scoring=['accuracy', 'precision_weighted', 'recall_weighted', 'f1_weighted'])\n",
    "y_pred = clf.predict(X_test)\n",
    "#scores"
   ]
  },
  {
   "cell_type": "code",
   "execution_count": null,
   "id": "VGGLsCpn6UvS",
   "metadata": {
    "colab": {
     "base_uri": "https://localhost:8080/"
    },
    "id": "VGGLsCpn6UvS",
    "outputId": "21220567-ce99-4024-9cd8-dc47625e9d6d"
   },
   "outputs": [
    {
     "data": {
      "text/plain": [
       "{'fit_time': array([2.15442896, 2.78314996, 2.47794294, 2.14818072, 1.97649717]),\n",
       " 'score_time': array([0.44557261, 0.37167501, 0.44988012, 0.38903785, 0.39175057]),\n",
       " 'test_accuracy': array([0.71676803, 0.71220678, 0.7228497 , 0.7139444 , 0.714596  ]),\n",
       " 'test_f1_weighted': array([0.68596699, 0.68017123, 0.69272105, 0.68337686, 0.68610397]),\n",
       " 'test_precision_weighted': array([0.70895144, 0.70871513, 0.72131025, 0.70387401, 0.70800699]),\n",
       " 'test_recall_weighted': array([0.71676803, 0.71220678, 0.7228497 , 0.7139444 , 0.714596  ])}"
      ]
     },
     "execution_count": 17,
     "metadata": {},
     "output_type": "execute_result"
    }
   ],
   "source": [
    "\n",
    "#clf.fit(X_train, y_train)\n",
    "scores = cross_validate(ComplementNB(), X_train, y_train, cv = cross_validation, scoring=['accuracy', 'precision_weighted', 'recall_weighted', 'f1_weighted'])\n",
    "\n",
    "scores\n",
    "#y_pred = clf.predict(X_test)"
   ]
  },
  {
   "cell_type": "code",
   "execution_count": 12,
   "id": "7785f776",
   "metadata": {
    "colab": {
     "base_uri": "https://localhost:8080/",
     "height": 522
    },
    "id": "7785f776",
    "outputId": "6b0b968e-9848-47e4-a314-069bc2b8d79a"
   },
   "outputs": [
    {
     "name": "stdout",
     "output_type": "stream",
     "text": [
      "Accuracy score:  0.5404598387578382\n",
      "Balanced accuracy score:  0.3538197258414087\n"
     ]
    },
    {
     "data": {
      "image/png": "[encoded data removed]",
      "text/plain": [
       "<Figure size 432x288 with 2 Axes>"
      ]
     },
     "metadata": {
      "needs_background": "light"
     },
     "output_type": "display_data"
    },
    {
     "name": "stdout",
     "output_type": "stream",
     "text": [
      "              precision    recall  f1-score   support\n",
      "\n",
      "        Fact       0.55      0.36      0.43       742\n",
      "      Policy       0.50      0.21      0.30       150\n",
      "       Value       0.54      0.83      0.65      1620\n",
      "    Value(+)       0.47      0.15      0.23       276\n",
      "    Value(-)       0.58      0.22      0.32       561\n",
      "\n",
      "    accuracy                           0.54      3349\n",
      "   macro avg       0.53      0.35      0.39      3349\n",
      "weighted avg       0.54      0.54      0.50      3349\n",
      "\n"
     ]
    }
   ],
   "source": [
    "\n",
    "def print_metrics(y_test, y_pred, classes):\n",
    "    cm = confusion_matrix(y_test, y_pred, labels = clf.classes_)\n",
    "    disp = ConfusionMatrixDisplay(confusion_matrix=cm, display_labels=clf.classes_)\n",
    "    disp.plot()\n",
    "    print(\"Accuracy score: \", accuracy_score(y_test, y_pred))\n",
    "    print(\"Balanced accuracy score: \", balanced_accuracy_score(y_test, y_pred))\n",
    "    metrics_df = pd.DataFrame({\"Precision\": precision_score(y_test, y_pred, labels = classes, average = None).tolist(),\n",
    "                              \"Recall\": recall_score(y_test, y_pred, labels = classes, average = None).tolist(),\n",
    "                              \"F1\": f1_score(y_test, y_pred, labels = classes, average = None).tolist()},\n",
    "                             index = classes)\n",
    "    \n",
    "    plt.show()\n",
    "    return metrics_df.head()\n",
    "    \n",
    "print_metrics(y_test, y_pred, clf.classes_)\n",
    "print(classification_report(y_test, y_pred))"
   ]
  },
  {
   "cell_type": "markdown",
   "id": "65a15889",
   "metadata": {
    "id": "65a15889"
   },
   "source": [
    "Since some classifiers like SVM and Logistic Regression cannot handle multi-class classification, let's use the One vs Rest classifier. This way, we can transform this problem into a binary classification problem -> one classifier for each class."
   ]
  },
  {
   "cell_type": "code",
   "execution_count": null,
   "id": "1855c726",
   "metadata": {
    "id": "1855c726"
   },
   "outputs": [],
   "source": [
    "model_to_set = RandomForestClassifier(n_jobs=-1)\n",
    "\n",
    "cross_validation = StratifiedKFold(n_splits=5)\n",
    "parameters = {\n",
    "    \"max_depth\": [int(x) for x in np.linspace(10, 110, num=5)],\n",
    "    \"min_samples_leaf\": [int(x) for x in np.linspace(50, 2000, num=5)],\n",
    "    \"criterion\": [\"gini\", \"entropy\"]\n",
    "}\n",
    "\n",
    "model_tunning = GridSearchCV(model_to_set, param_grid=parameters,\n",
    "                             scoring=\"accuracy\", cv=cross_validation, n_jobs=-1, verbose=1)\n",
    "\n",
    "model_tunning.fit(X_train, y_train)\n",
    "model_tunning.best_score_\n",
    "print_metrics(y_test, model_tunning.predict(X_test), clf.classes_)\n"
   ]
  },
  {
   "cell_type": "markdown",
   "id": "46f104a2",
   "metadata": {
    "id": "46f104a2"
   },
   "source": [
    "## Scaling the data\n",
    "\n",
    "Some linear models (like SVM or SGD classifiers) use euclidean distances and benefit from the normalization of the data."
   ]
  },
  {
   "cell_type": "code",
   "execution_count": null,
   "id": "19f11b49",
   "metadata": {
    "id": "19f11b49"
   },
   "outputs": [],
   "source": [
    "scaler = StandardScaler()\n",
    "scaler.fit(X_train)\n",
    "X_train = scaler.transform(X_train)\n",
    "X_test = scaler.transform(X_test)"
   ]
  },
  {
   "cell_type": "markdown",
   "id": "b2e806e7",
   "metadata": {
    "id": "b2e806e7"
   },
   "source": [
    "## SGD Classifier\n",
    "\n",
    "Let's now apply the Stochastic Gradient Descent optimization with a linear SVM model (`loss='hinge'`) and a Logistic Regression model (`loss=log`). Moreover, we can tune some hyperparameters to get the best possible model.\n",
    "SGD implementation from sklearn optimizes the loss function to converge faster, as they use stochastic gradient descent instead of gradient descent."
   ]
  },
  {
   "cell_type": "code",
   "execution_count": null,
   "id": "81cf1d9a",
   "metadata": {
    "id": "81cf1d9a",
    "scrolled": true
   },
   "outputs": [],
   "source": [
    "\"\"\"\n",
    "l1-regularization -> 'built-in' feature selection (fewer features)\n",
    "l2-regularization -> Prefers weight vectors with many small weights\n",
    "\"\"\"\n",
    "\n",
    "max_iterations = 10**6/np.ceil(X_train.shape[0] / 10) #Empirically,the model converges after 10^6/n where n \n",
    "                                        # the size of the test set\n",
    "\n",
    "sgd_model = SGDClassifier(penalty=\"l2\", \n",
    "                          average=True, class_weight=class_weights)\n",
    "sgd_gs = GridSearchCV(sgd_model, n_jobs=-1, param_grid={\n",
    "    \"alpha\": 10.0**-np.arange(1,5),\n",
    "    \"loss\": ['log', 'modified_huber']\n",
    "}, cv=cross_validation, scoring=\"accuracy\", verbose = 1)\n",
    "\n",
    "sgd_gs.fit(X_train, y_train)\n",
    "#sgd_gs.best_score_\n",
    "print(sgd_gs.best_params_)\n",
    "print_metrics(y_test, sgd_gs.predict(X_test), sgd_gs.classes_)"
   ]
  },
  {
   "cell_type": "code",
   "execution_count": null,
   "id": "_ejS1Y6YMn9-",
   "metadata": {
    "colab": {
     "base_uri": "https://localhost:8080/",
     "height": 503
    },
    "id": "_ejS1Y6YMn9-",
    "outputId": "d9e5f580-f88c-4445-a12b-6b556a3d9c47"
   },
   "outputs": [
    {
     "name": "stdout",
     "output_type": "stream",
     "text": [
      "Accuracy score:  0.47442827442827445\n",
      "Balanced accuracy score:  0.3261219562197266\n"
     ]
    },
    {
     "data": {
      "image/png": "[encoded data removed]",
      "text/plain": [
       "<Figure size 432x288 with 2 Axes>"
      ]
     },
     "metadata": {
      "needs_background": "light"
     },
     "output_type": "display_data"
    },
    {
     "data": {
      "text/html": [
       "\n",
       "  <div id=\"df-d14ca889-cac5-4f40-aa5a-bb043d06efd1\">\n",
       "    <div class=\"colab-df-container\">\n",
       "      <div>\n",
       "<style scoped>\n",
       "    .dataframe tbody tr th:only-of-type {\n",
       "        vertical-align: middle;\n",
       "    }\n",
       "\n",
       "    .dataframe tbody tr th {\n",
       "        vertical-align: top;\n",
       "    }\n",
       "\n",
       "    .dataframe thead th {\n",
       "        text-align: right;\n",
       "    }\n",
       "</style>\n",
       "<table border=\"1\" class=\"dataframe\">\n",
       "  <thead>\n",
       "    <tr style=\"text-align: right;\">\n",
       "      <th></th>\n",
       "      <th>Precision</th>\n",
       "      <th>Recall</th>\n",
       "      <th>F1</th>\n",
       "    </tr>\n",
       "  </thead>\n",
       "  <tbody>\n",
       "    <tr>\n",
       "      <th>Fact</th>\n",
       "      <td>0.474120</td>\n",
       "      <td>0.355590</td>\n",
       "      <td>0.406389</td>\n",
       "    </tr>\n",
       "    <tr>\n",
       "      <th>Policy</th>\n",
       "      <td>0.223022</td>\n",
       "      <td>0.300971</td>\n",
       "      <td>0.256198</td>\n",
       "    </tr>\n",
       "    <tr>\n",
       "      <th>Value</th>\n",
       "      <td>0.538253</td>\n",
       "      <td>0.700441</td>\n",
       "      <td>0.608729</td>\n",
       "    </tr>\n",
       "    <tr>\n",
       "      <th>Value(+)</th>\n",
       "      <td>0.149254</td>\n",
       "      <td>0.059524</td>\n",
       "      <td>0.085106</td>\n",
       "    </tr>\n",
       "    <tr>\n",
       "      <th>Value(-)</th>\n",
       "      <td>0.317992</td>\n",
       "      <td>0.214085</td>\n",
       "      <td>0.255892</td>\n",
       "    </tr>\n",
       "  </tbody>\n",
       "</table>\n",
       "</div>\n",
       "      <button class=\"colab-df-convert\" onclick=\"convertToInteractive('df-d14ca889-cac5-4f40-aa5a-bb043d06efd1')\"\n",
       "              title=\"Convert this dataframe to an interactive table.\"\n",
       "              style=\"display:none;\">\n",
       "        \n",
       "  <svg xmlns=\"http://www.w3.org/2000/svg\" height=\"24px\"viewBox=\"0 0 24 24\"\n",
       "       width=\"24px\">\n",
       "    <path d=\"M0 0h24v24H0V0z\" fill=\"none\"/>\n",
       "    <path d=\"M18.56 5.44l.94 2.06.94-2.06 2.06-.94-2.06-.94-.94-2.06-.94 2.06-2.06.94zm-11 1L8.5 8.5l.94-2.06 2.06-.94-2.06-.94L8.5 2.5l-.94 2.06-2.06.94zm10 10l.94 2.06.94-2.06 2.06-.94-2.06-.94-.94-2.06-.94 2.06-2.06.94z\"/><path d=\"M17.41 7.96l-1.37-1.37c-.4-.4-.92-.59-1.43-.59-.52 0-1.04.2-1.43.59L10.3 9.45l-7.72 7.72c-.78.78-.78 2.05 0 2.83L4 21.41c.39.39.9.59 1.41.59.51 0 1.02-.2 1.41-.59l7.78-7.78 2.81-2.81c.8-.78.8-2.07 0-2.86zM5.41 20L4 18.59l7.72-7.72 1.47 1.35L5.41 20z\"/>\n",
       "  </svg>\n",
       "      </button>\n",
       "      \n",
       "  <style>\n",
       "    .colab-df-container {\n",
       "      display:flex;\n",
       "      flex-wrap:wrap;\n",
       "      gap: 12px;\n",
       "    }\n",
       "\n",
       "    .colab-df-convert {\n",
       "      background-color: #E8F0FE;\n",
       "      border: none;\n",
       "      border-radius: 50%;\n",
       "      cursor: pointer;\n",
       "      display: none;\n",
       "      fill: #1967D2;\n",
       "      height: 32px;\n",
       "      padding: 0 0 0 0;\n",
       "      width: 32px;\n",
       "    }\n",
       "\n",
       "    .colab-df-convert:hover {\n",
       "      background-color: #E2EBFA;\n",
       "      box-shadow: 0px 1px 2px rgba(60, 64, 67, 0.3), 0px 1px 3px 1px rgba(60, 64, 67, 0.15);\n",
       "      fill: #174EA6;\n",
       "    }\n",
       "\n",
       "    [theme=dark] .colab-df-convert {\n",
       "      background-color: #3B4455;\n",
       "      fill: #D2E3FC;\n",
       "    }\n",
       "\n",
       "    [theme=dark] .colab-df-convert:hover {\n",
       "      background-color: #434B5C;\n",
       "      box-shadow: 0px 1px 3px 1px rgba(0, 0, 0, 0.15);\n",
       "      filter: drop-shadow(0px 1px 2px rgba(0, 0, 0, 0.3));\n",
       "      fill: #FFFFFF;\n",
       "    }\n",
       "  </style>\n",
       "\n",
       "      <script>\n",
       "        const buttonEl =\n",
       "          document.querySelector('#df-d14ca889-cac5-4f40-aa5a-bb043d06efd1 button.colab-df-convert');\n",
       "        buttonEl.style.display =\n",
       "          google.colab.kernel.accessAllowed ? 'block' : 'none';\n",
       "\n",
       "        async function convertToInteractive(key) {\n",
       "          const element = document.querySelector('#df-d14ca889-cac5-4f40-aa5a-bb043d06efd1');\n",
       "          const dataTable =\n",
       "            await google.colab.kernel.invokeFunction('convertToInteractive',\n",
       "                                                     [key], {});\n",
       "          if (!dataTable) return;\n",
       "\n",
       "          const docLinkHtml = 'Like what you see? Visit the ' +\n",
       "            '<a target=\"_blank\" href=https://colab.research.google.com/notebooks/data_table.ipynb>data table notebook</a>'\n",
       "            + ' to learn more about interactive tables.';\n",
       "          element.innerHTML = '';\n",
       "          dataTable['output_type'] = 'display_data';\n",
       "          await google.colab.output.renderOutput(dataTable, element);\n",
       "          const docLink = document.createElement('div');\n",
       "          docLink.innerHTML = docLinkHtml;\n",
       "          element.appendChild(docLink);\n",
       "        }\n",
       "      </script>\n",
       "    </div>\n",
       "  </div>\n",
       "  "
      ],
      "text/plain": [
       "          Precision    Recall        F1\n",
       "Fact       0.474120  0.355590  0.406389\n",
       "Policy     0.223022  0.300971  0.256198\n",
       "Value      0.538253  0.700441  0.608729\n",
       "Value(+)   0.149254  0.059524  0.085106\n",
       "Value(-)   0.317992  0.214085  0.255892"
      ]
     },
     "execution_count": 17,
     "metadata": {},
     "output_type": "execute_result"
    }
   ],
   "source": [
    "print_metrics(y_test, sgd_gs.predict(X_test), sgd_gs.classes_)"
   ]
  },
  {
   "cell_type": "code",
   "execution_count": 14,
   "id": "0e261a29",
   "metadata": {},
   "outputs": [
    {
     "name": "stdout",
     "output_type": "stream",
     "text": [
      "Accuracy score:  0.5061212302179755\n",
      "Balanced accuracy score:  0.24149950685632454\n"
     ]
    },
    {
     "data": {
      "image/png": "[encoded data removed]",
      "text/plain": [
       "<Figure size 432x288 with 2 Axes>"
      ]
     },
     "metadata": {
      "needs_background": "light"
     },
     "output_type": "display_data"
    },
    {
     "data": {
      "text/html": [
       "<div>\n",
       "<style scoped>\n",
       "    .dataframe tbody tr th:only-of-type {\n",
       "        vertical-align: middle;\n",
       "    }\n",
       "\n",
       "    .dataframe tbody tr th {\n",
       "        vertical-align: top;\n",
       "    }\n",
       "\n",
       "    .dataframe thead th {\n",
       "        text-align: right;\n",
       "    }\n",
       "</style>\n",
       "<table border=\"1\" class=\"dataframe\">\n",
       "  <thead>\n",
       "    <tr style=\"text-align: right;\">\n",
       "      <th></th>\n",
       "      <th>Precision</th>\n",
       "      <th>Recall</th>\n",
       "      <th>F1</th>\n",
       "    </tr>\n",
       "  </thead>\n",
       "  <tbody>\n",
       "    <tr>\n",
       "      <th>Fact</th>\n",
       "      <td>0.651163</td>\n",
       "      <td>0.113208</td>\n",
       "      <td>0.192882</td>\n",
       "    </tr>\n",
       "    <tr>\n",
       "      <th>Policy</th>\n",
       "      <td>0.647059</td>\n",
       "      <td>0.073333</td>\n",
       "      <td>0.131737</td>\n",
       "    </tr>\n",
       "    <tr>\n",
       "      <th>Value</th>\n",
       "      <td>0.499365</td>\n",
       "      <td>0.970988</td>\n",
       "      <td>0.659539</td>\n",
       "    </tr>\n",
       "    <tr>\n",
       "      <th>Value(+)</th>\n",
       "      <td>0.333333</td>\n",
       "      <td>0.003623</td>\n",
       "      <td>0.007168</td>\n",
       "    </tr>\n",
       "    <tr>\n",
       "      <th>Value(-)</th>\n",
       "      <td>0.520000</td>\n",
       "      <td>0.046346</td>\n",
       "      <td>0.085106</td>\n",
       "    </tr>\n",
       "  </tbody>\n",
       "</table>\n",
       "</div>"
      ],
      "text/plain": [
       "          Precision    Recall        F1\n",
       "Fact       0.651163  0.113208  0.192882\n",
       "Policy     0.647059  0.073333  0.131737\n",
       "Value      0.499365  0.970988  0.659539\n",
       "Value(+)   0.333333  0.003623  0.007168\n",
       "Value(-)   0.520000  0.046346  0.085106"
      ]
     },
     "execution_count": 14,
     "metadata": {},
     "output_type": "execute_result"
    }
   ],
   "source": [
    "sgd_classifier = SGDClassifier(n_jobs=-1, shuffle=True)\n",
    "\n",
    "sgd_classifier.fit(X_train, y_train)\n",
    "print_metrics(y_test, sgd_classifier.predict(X_test), sgd_classifier.classes_)"
   ]
  },
  {
   "cell_type": "code",
   "execution_count": null,
   "id": "1c7caa0b",
   "metadata": {
    "id": "1c7caa0b"
   },
   "outputs": [],
   "source": [
    "# Linear SVM model -> loss = 'hinge'\n",
    "\n",
    "sgd_classifier = SGDClassifier(n_jobs=-1, penalty=\"l2\", verbose = 1, shuffle=True, \n",
    "                               loss=\"hinge\", max_iter=max_iterations)\n",
    "\n",
    "sgd_classifier.fit(X_train, y_train)\n",
    "print_metrics(y_test, sgd_classifier.predict(X_test), sgd_classifier.classes_)"
   ]
  },
  {
   "cell_type": "markdown",
   "id": "64e3ef22",
   "metadata": {
    "id": "64e3ef22"
   },
   "source": [
    "## Linear SVM Classifier\n",
    "To establish a comparison in terms of performance, we will use the Linear SVM classifier.\n"
   ]
  },
  {
   "cell_type": "code",
   "execution_count": null,
   "id": "bbfcdd41",
   "metadata": {
    "id": "bbfcdd41",
    "scrolled": true
   },
   "outputs": [],
   "source": [
    "\n",
    "svm_model = LinearSVC(class_weight=\"balanced\", verbose=1)\n",
    "\n",
    "svm_gs = HalvingGridSearchCV(svm_model, n_jobs=-1, param_grid = {\n",
    "    \"C\": np.logspace(-4,4,5),\n",
    "    \"loss\": [\"hinge\", \"squared_hinge\"]\n",
    "}, cv=5, scoring=\"f1_weighted\", verbose=3)\n",
    "\n",
    "svm_gs.fit(X_train, y_train)\n",
    "print_metrics(y_test, svm_gs.predict(X_test), svm_gs.classes_)"
   ]
  },
  {
   "cell_type": "markdown",
   "id": "fe151ab2",
   "metadata": {
    "id": "fe151ab2"
   },
   "source": [
    "## Logistic Regression Classifier\n",
    "We can now do the same apply the Logistic Regression classifier and compare it with the previously obtained models with SGD optimization.\n"
   ]
  },
  {
   "cell_type": "code",
   "execution_count": 16,
   "id": "6098ceac",
   "metadata": {},
   "outputs": [
    {
     "name": "stdout",
     "output_type": "stream",
     "text": [
      "Accuracy score:  0.5097043893699612\n",
      "Balanced accuracy score:  0.23386642031185131\n"
     ]
    },
    {
     "data": {
      "image/png": "[encoded data removed]",
      "text/plain": [
       "<Figure size 432x288 with 2 Axes>"
      ]
     },
     "metadata": {
      "needs_background": "light"
     },
     "output_type": "display_data"
    },
    {
     "data": {
      "text/html": [
       "<div>\n",
       "<style scoped>\n",
       "    .dataframe tbody tr th:only-of-type {\n",
       "        vertical-align: middle;\n",
       "    }\n",
       "\n",
       "    .dataframe tbody tr th {\n",
       "        vertical-align: top;\n",
       "    }\n",
       "\n",
       "    .dataframe thead th {\n",
       "        text-align: right;\n",
       "    }\n",
       "</style>\n",
       "<table border=\"1\" class=\"dataframe\">\n",
       "  <thead>\n",
       "    <tr style=\"text-align: right;\">\n",
       "      <th></th>\n",
       "      <th>Precision</th>\n",
       "      <th>Recall</th>\n",
       "      <th>F1</th>\n",
       "    </tr>\n",
       "  </thead>\n",
       "  <tbody>\n",
       "    <tr>\n",
       "      <th>Fact</th>\n",
       "      <td>0.587379</td>\n",
       "      <td>0.163073</td>\n",
       "      <td>0.255274</td>\n",
       "    </tr>\n",
       "    <tr>\n",
       "      <th>Policy</th>\n",
       "      <td>1.000000</td>\n",
       "      <td>0.013333</td>\n",
       "      <td>0.026316</td>\n",
       "    </tr>\n",
       "    <tr>\n",
       "      <th>Value</th>\n",
       "      <td>0.504334</td>\n",
       "      <td>0.969753</td>\n",
       "      <td>0.663569</td>\n",
       "    </tr>\n",
       "    <tr>\n",
       "      <th>Value(+)</th>\n",
       "      <td>0.000000</td>\n",
       "      <td>0.000000</td>\n",
       "      <td>0.000000</td>\n",
       "    </tr>\n",
       "    <tr>\n",
       "      <th>Value(-)</th>\n",
       "      <td>0.541667</td>\n",
       "      <td>0.023173</td>\n",
       "      <td>0.044444</td>\n",
       "    </tr>\n",
       "  </tbody>\n",
       "</table>\n",
       "</div>"
      ],
      "text/plain": [
       "          Precision    Recall        F1\n",
       "Fact       0.587379  0.163073  0.255274\n",
       "Policy     1.000000  0.013333  0.026316\n",
       "Value      0.504334  0.969753  0.663569\n",
       "Value(+)   0.000000  0.000000  0.000000\n",
       "Value(-)   0.541667  0.023173  0.044444"
      ]
     },
     "execution_count": 16,
     "metadata": {},
     "output_type": "execute_result"
    }
   ],
   "source": [
    "#Logistic Regression without hyperparameter tuning\n",
    "\n",
    "lr_model = LogisticRegression(n_jobs=-1, verbose=1)\n",
    "lr_model.fit(X_train, y_train)\n",
    "print_metrics(y_test, lr_model.predict(X_test), lr_model.classes_)\n"
   ]
  },
  {
   "cell_type": "code",
   "execution_count": null,
   "id": "643386cd",
   "metadata": {
    "id": "643386cd"
   },
   "outputs": [],
   "source": [
    "# Logistic Regression model\n",
    "lr_model = LogisticRegression(n_jobs=-1, verbose=1)\n",
    "\n",
    "lr_gs = GridSearchCV(lr_model, n_jobs=-1, param_grid={\n",
    "    \"max_iter\": [100, 200, 500, 1000],\n",
    "    \"solver\": [\"sag\", 'saga', 'lbfgs', \"newton-cg\"],\n",
    "    \"C\": np.logspace(-4, 4, 20)\n",
    "}, cv=cross_validation, scoring=\"accuracy\", verbose = True)\n",
    "\n",
    "lr_gs.fit(X_train, y_train)\n",
    "print_metrics(y_test, lr_gs.predict(X_test), lr_gs.classes_)"
   ]
  },
  {
   "cell_type": "code",
   "execution_count": null,
   "id": "6c09a390",
   "metadata": {},
   "outputs": [],
   "source": [
    "X_annotated = pd.concat([ADUs['annotator'], pd.DataFrame(X)], axis=1)"
   ]
  },
  {
   "cell_type": "code",
   "execution_count": null,
   "id": "b39e0c25",
   "metadata": {},
   "outputs": [],
   "source": [
    "df_A = X_annotated.loc[ADUs[\"annotator\"] == \"A\"]\n",
    "df_A.drop(columns = [\"annotator\"], inplace=True)\n",
    "y_A = ADUs.loc[ADUs[\"annotator\"] == \"A\"][\"label\"]\n",
    "\n",
    "df_B = X_annotated.loc[ADUs[\"annotator\"] == \"B\"]\n",
    "df_B.drop(columns = [\"annotator\"], inplace=True)\n",
    "y_B = ADUs.loc[ADUs[\"annotator\"] == \"B\"][\"label\"]\n",
    "\n",
    "df_C = X_annotated.loc[ADUs[\"annotator\"] == \"C\"]\n",
    "df_C.drop(columns = [\"annotator\"], inplace=True)\n",
    "y_C = ADUs.loc[ADUs[\"annotator\"] == \"C\"][\"label\"]\n",
    "\n",
    "df_D = X_annotated.loc[ADUs[\"annotator\"] == \"D\"]\n",
    "df_D.drop(columns = [\"annotator\"], inplace=True)\n",
    "y_D = ADUs.loc[ADUs[\"annotator\"] == \"D\"][\"label\"]\n"
   ]
  },
  {
   "cell_type": "code",
   "execution_count": 48,
   "id": "a27cc9e6",
   "metadata": {},
   "outputs": [],
   "source": [
    "X_A_train, X_A_test, y_A_train, y_A_test = train_test_split(df_A, y_A, test_size = 0.20)\n",
    "\n",
    "X_B_train, X_B_test, y_B_train, y_B_test = train_test_split(df_B, y_B, test_size = 0.20)\n",
    "\n",
    "X_C_train, X_C_test, y_C_train, y_C_test = train_test_split(df_C, y_C, test_size = 0.20)\n",
    "\n",
    "X_D_train, X_D_test, y_D_train, y_D_test = train_test_split(df_D, y_D, test_size = 0.20)"
   ]
  },
  {
   "cell_type": "code",
   "execution_count": null,
   "id": "16afa820",
   "metadata": {},
   "outputs": [],
   "source": [
    "!pip install mlxtend"
   ]
  },
  {
   "cell_type": "markdown",
   "id": "140db449",
   "metadata": {},
   "source": [
    "We train a logistic regression model for each annotator. The predictions are achieved by voting."
   ]
  },
  {
   "cell_type": "code",
   "execution_count": 52,
   "id": "58538170",
   "metadata": {},
   "outputs": [
    {
     "name": "stderr",
     "output_type": "stream",
     "text": [
      "C:\\Users\\caion\\anaconda3\\lib\\site-packages\\mlxtend\\classifier\\ensemble_vote.py:166: UserWarning: fit_base_estimators=False enforces use_clones to be `False`\n",
      "  warnings.warn(\"fit_base_estimators=False \"\n"
     ]
    },
    {
     "name": "stdout",
     "output_type": "stream",
     "text": [
      "              precision    recall  f1-score   support\n",
      "\n",
      "        Fact       0.47      0.36      0.41       702\n",
      "      Policy       0.50      0.01      0.02       129\n",
      "       Value       0.53      0.92      0.68      1632\n",
      "    Value(+)       0.80      0.01      0.03       276\n",
      "    Value(-)       1.00      0.01      0.02       610\n",
      "\n",
      "    accuracy                           0.53      3349\n",
      "   macro avg       0.66      0.26      0.23      3349\n",
      "weighted avg       0.63      0.53      0.42      3349\n",
      "\n"
     ]
    }
   ],
   "source": [
    "from mlxtend.classifier import EnsembleVoteClassifier\n",
    "\n",
    "clf_A = SGDClassifier(n_jobs=-1, loss = \"log\")\n",
    "clf_A.fit(X_A_train, y_A_train)\n",
    "\n",
    "clf_B = SGDClassifier(n_jobs=-1, loss = \"log\")\n",
    "clf_B.fit(X_B_train, y_B_train)\n",
    "\n",
    "clf_C = SGDClassifier(n_jobs=-1, loss = \"log\")\n",
    "clf_C.fit(X_C_train, y_C_train)\n",
    "\n",
    "clf_D = SGDClassifier(n_jobs=-1, loss = \"log\")\n",
    "clf_D.fit(X_D_train, y_D_train)\n",
    "\n",
    "voting_clf = EnsembleVoteClassifier([clf_A, clf_B, clf_C, clf_D], voting=\"soft\", \n",
    "                                    fit_base_estimators=False)\n",
    "voting_clf.fit(X_test, y_test)\n",
    "y_pred_voting = voting_clf.predict(X_test)\n",
    "print(classification_report(y_test, y_pred_voting))"
   ]
  },
  {
   "cell_type": "markdown",
   "id": "ItSXZj8fM5tF",
   "metadata": {
    "id": "ItSXZj8fM5tF"
   },
   "source": [
    "## Error Analysis -> TODO\n"
   ]
  },
  {
   "cell_type": "code",
   "execution_count": null,
   "id": "VjQopnPZSDFY",
   "metadata": {
    "id": "VjQopnPZSDFY"
   },
   "outputs": [],
   "source": []
  }
 ],
 "metadata": {
  "colab": {
   "name": "assignment1.ipynb",
   "provenance": [],
   "toc_visible": true
  },
  "kernelspec": {
   "display_name": "Python 3 (ipykernel)",
   "language": "python",
   "name": "python3"
  },
  "language_info": {
   "codemirror_mode": {
    "name": "ipython",
    "version": 3
   },
   "file_extension": ".py",
   "mimetype": "text/x-python",
   "name": "python",
   "nbconvert_exporter": "python",
   "pygments_lexer": "ipython3",
   "version": "3.8.8"
  }
 },
 "nbformat": 4,
 "nbformat_minor": 5
}
